{
 "cells": [
  {
   "cell_type": "code",
   "execution_count": 11,
   "metadata": {},
   "outputs": [],
   "source": [
    "# !pip install focal-loss\n",
    "import numpy as np\n",
    "import os\n",
    "from tensorflow.keras.preprocessing.image import ImageDataGenerator\n",
    "from tensorflow.keras.models import Sequential, Model\n",
    "from tensorflow.keras.layers import Conv2D, MaxPooling2D, Flatten, Dense, Dropout, Activation, Input, GlobalAveragePooling2D\n",
    "from sklearn.model_selection import train_test_split\n",
    "import shutil\n",
    "from tensorflow.keras import backend as K\n",
    "from tensorflow.keras import layers, models, regularizers\n",
    "import tensorflow as tf\n",
    "import matplotlib.pyplot as plt\n",
    "from tensorflow.keras.preprocessing import image\n",
    "from tensorflow.keras.optimizers.legacy import Adam\n",
    "from focal_loss import BinaryFocalLoss\n",
    "from tensorflow.keras.losses import BinaryFocalCrossentropy"
   ]
  },
  {
   "cell_type": "markdown",
   "metadata": {},
   "source": [
    "Wykorzystany zbiór: https://zenodo.org/records/6378474"
   ]
  },
  {
   "cell_type": "code",
   "execution_count": 4,
   "metadata": {},
   "outputs": [
    {
     "name": "stdout",
     "output_type": "stream",
     "text": [
      "Found 1399 images belonging to 2 classes.\n",
      "Found 300 images belonging to 2 classes.\n",
      "Found 301 images belonging to 2 classes.\n"
     ]
    }
   ],
   "source": [
    "# glowny folder\n",
    "base_dir = '/Users/milenabiernacka/Desktop/studia/DS/semestr2/PD-magisterka/Mushroom_dataset/cnn/'\n",
    "# polaczenie glownego folderu i podfolderow z edible i poisonous\n",
    "\n",
    "edible_dir = os.path.join(base_dir, 'Edible')\n",
    "poisonous_dir = os.path.join(base_dir, 'Poisonous')\n",
    "\n",
    "\n",
    "train_datagen = ImageDataGenerator(\n",
    "    rescale=1. / 255,\n",
    "    shear_range=0.2,\n",
    "    zoom_range=0.2,\n",
    "    horizontal_flip=True\n",
    "    )\n",
    "\n",
    "validation_datagen = ImageDataGenerator(rescale=1./255)\n",
    "test_datagen = ImageDataGenerator(rescale=1./255)\n",
    "\n",
    "# Assuming base_dir is the path to the dataset directory\n",
    "train_dir = os.path.join(base_dir, 'train')\n",
    "validation_dir = os.path.join(base_dir, 'validation')\n",
    "test_dir = os.path.join(base_dir, 'test')\n",
    "\n",
    "train_generator = train_datagen.flow_from_directory(\n",
    "    train_dir,\n",
    "    target_size=(150, 150),\n",
    "    batch_size=16,\n",
    "    class_mode='binary'\n",
    ")\n",
    "\n",
    "validation_generator = validation_datagen.flow_from_directory(\n",
    "    validation_dir,\n",
    "    target_size=(150, 150),\n",
    "    batch_size=16,\n",
    "    class_mode='binary'\n",
    ")\n",
    "\n",
    "test_generator = test_datagen.flow_from_directory(\n",
    "    test_dir,\n",
    "    target_size=(150, 150),\n",
    "    batch_size=16,\n",
    "    class_mode='binary',\n",
    "    shuffle=False\n",
    ")"
   ]
  },
  {
   "cell_type": "code",
   "execution_count": 3,
   "metadata": {},
   "outputs": [],
   "source": [
    "model = Sequential([\n",
    "    Input(shape=(150, 150, 3)),\n",
    "    Conv2D(32, (3, 3), activation='relu'),\n",
    "    MaxPooling2D(2, 2),\n",
    "    Conv2D(64, (3, 3), activation='relu'),\n",
    "    MaxPooling2D(2, 2),\n",
    "    Conv2D(128, (3, 3), activation='relu'),\n",
    "    MaxPooling2D(2, 2),\n",
    "    Flatten(),\n",
    "    Dense(512, activation='relu'),\n",
    "    Dropout(0.5),\n",
    "    Dense(1, activation='sigmoid')  # Use linear activation for Hinge loss\n",
    "])\n"
   ]
  },
  {
   "cell_type": "code",
   "execution_count": 7,
   "metadata": {},
   "outputs": [],
   "source": [
    "model.compile(optimizer=Adam(learning_rate=1e-4), loss=BinaryFocalLoss(gamma=5), metrics=['accuracy'])"
   ]
  },
  {
   "cell_type": "code",
   "execution_count": 8,
   "metadata": {},
   "outputs": [
    {
     "name": "stdout",
     "output_type": "stream",
     "text": [
      "Epoch 1/20\n",
      "87/87 [==============================] - 15s 162ms/step - loss: 0.0191 - accuracy: 0.7296 - val_loss: 0.0157 - val_accuracy: 0.7778\n",
      "Epoch 2/20\n",
      "87/87 [==============================] - 14s 160ms/step - loss: 0.0150 - accuracy: 0.7773 - val_loss: 0.0124 - val_accuracy: 0.8438\n",
      "Epoch 3/20\n",
      "87/87 [==============================] - 15s 170ms/step - loss: 0.0126 - accuracy: 0.8084 - val_loss: 0.0102 - val_accuracy: 0.8715\n",
      "Epoch 4/20\n",
      "87/87 [==============================] - 15s 168ms/step - loss: 0.0110 - accuracy: 0.8612 - val_loss: 0.0108 - val_accuracy: 0.8854\n",
      "Epoch 5/20\n",
      "87/87 [==============================] - 15s 177ms/step - loss: 0.0094 - accuracy: 0.8821 - val_loss: 0.0073 - val_accuracy: 0.8854\n",
      "Epoch 6/20\n",
      "87/87 [==============================] - 16s 184ms/step - loss: 0.0090 - accuracy: 0.8807 - val_loss: 0.0072 - val_accuracy: 0.9236\n",
      "Epoch 7/20\n",
      "87/87 [==============================] - 16s 182ms/step - loss: 0.0075 - accuracy: 0.9017 - val_loss: 0.0099 - val_accuracy: 0.8750\n",
      "Epoch 8/20\n",
      "87/87 [==============================] - 16s 187ms/step - loss: 0.0065 - accuracy: 0.9089 - val_loss: 0.0060 - val_accuracy: 0.9271\n",
      "Epoch 9/20\n",
      "87/87 [==============================] - 16s 188ms/step - loss: 0.0061 - accuracy: 0.9234 - val_loss: 0.0048 - val_accuracy: 0.9340\n",
      "Epoch 10/20\n",
      "87/87 [==============================] - 17s 199ms/step - loss: 0.0055 - accuracy: 0.9320 - val_loss: 0.0041 - val_accuracy: 0.9514\n",
      "Epoch 11/20\n",
      "87/87 [==============================] - 24s 273ms/step - loss: 0.0055 - accuracy: 0.9342 - val_loss: 0.0038 - val_accuracy: 0.9583\n",
      "Epoch 12/20\n",
      "87/87 [==============================] - 31s 359ms/step - loss: 0.0047 - accuracy: 0.9530 - val_loss: 0.0038 - val_accuracy: 0.9583\n",
      "Epoch 13/20\n",
      "87/87 [==============================] - 28s 323ms/step - loss: 0.0048 - accuracy: 0.9443 - val_loss: 0.0035 - val_accuracy: 0.9549\n",
      "Epoch 14/20\n",
      "87/87 [==============================] - 31s 352ms/step - loss: 0.0038 - accuracy: 0.9588 - val_loss: 0.0034 - val_accuracy: 0.9514\n",
      "Epoch 15/20\n",
      "87/87 [==============================] - 29s 333ms/step - loss: 0.0037 - accuracy: 0.9523 - val_loss: 0.0030 - val_accuracy: 0.9618\n",
      "Epoch 16/20\n",
      "87/87 [==============================] - 29s 336ms/step - loss: 0.0032 - accuracy: 0.9653 - val_loss: 0.0027 - val_accuracy: 0.9722\n",
      "Epoch 17/20\n",
      "87/87 [==============================] - 29s 332ms/step - loss: 0.0032 - accuracy: 0.9617 - val_loss: 0.0057 - val_accuracy: 0.9201\n",
      "Epoch 18/20\n",
      "87/87 [==============================] - 31s 355ms/step - loss: 0.0035 - accuracy: 0.9559 - val_loss: 0.0022 - val_accuracy: 0.9757\n",
      "Epoch 19/20\n",
      "87/87 [==============================] - 33s 384ms/step - loss: 0.0029 - accuracy: 0.9718 - val_loss: 0.0031 - val_accuracy: 0.9722\n",
      "Epoch 20/20\n",
      "87/87 [==============================] - 29s 331ms/step - loss: 0.0030 - accuracy: 0.9646 - val_loss: 0.0030 - val_accuracy: 0.9688\n"
     ]
    }
   ],
   "source": [
    "history = model.fit(\n",
    "    train_generator,\n",
    "    steps_per_epoch=train_generator.samples // train_generator.batch_size,\n",
    "    epochs=20,\n",
    "    validation_data=validation_generator,\n",
    "    validation_steps=validation_generator.samples // validation_generator.batch_size\n",
    ")"
   ]
  },
  {
   "cell_type": "code",
   "execution_count": 9,
   "metadata": {},
   "outputs": [
    {
     "name": "stdout",
     "output_type": "stream",
     "text": [
      "18/18 [==============================] - 3s 150ms/step - loss: 0.0032 - accuracy: 0.9618\n",
      "Test Loss: 0.003221520222723484, Test Accuracy: 0.9618055820465088\n"
     ]
    }
   ],
   "source": [
    "test_loss, test_accuracy = model.evaluate(test_generator, steps=test_generator.samples // test_generator.batch_size)\n",
    "print(f\"Test Loss: {test_loss}, Test Accuracy: {test_accuracy}\")"
   ]
  },
  {
   "cell_type": "code",
   "execution_count": 3,
   "metadata": {},
   "outputs": [
    {
     "data": {
      "text/plain": [
       "array([0, 0, 0, ..., 1, 1, 1], dtype=int32)"
      ]
     },
     "execution_count": 3,
     "metadata": {},
     "output_type": "execute_result"
    }
   ],
   "source": [
    "train_generator.classes"
   ]
  },
  {
   "cell_type": "code",
   "execution_count": 4,
   "metadata": {},
   "outputs": [
    {
     "data": {
      "text/plain": [
       "{'Edible': 0, 'Poisonous': 1}"
      ]
     },
     "execution_count": 4,
     "metadata": {},
     "output_type": "execute_result"
    }
   ],
   "source": [
    "train_generator.class_indices"
   ]
  },
  {
   "cell_type": "markdown",
   "metadata": {},
   "source": [
    "# Pretrenowane sieci"
   ]
  },
  {
   "cell_type": "markdown",
   "metadata": {},
   "source": [
    "### MobileNetV2"
   ]
  },
  {
   "cell_type": "code",
   "execution_count": 5,
   "metadata": {},
   "outputs": [
    {
     "name": "stdout",
     "output_type": "stream",
     "text": [
      "Found 1399 images belonging to 2 classes.\n",
      "Found 300 images belonging to 2 classes.\n",
      "Found 301 images belonging to 2 classes.\n"
     ]
    }
   ],
   "source": [
    "train_datagen = ImageDataGenerator(\n",
    "    rescale=1. / 255,\n",
    "    shear_range=0.2,\n",
    "    zoom_range=0.2,\n",
    "    horizontal_flip=True)\n",
    "\n",
    "validation_datagen = ImageDataGenerator(rescale=1./255)\n",
    "test_datagen = ImageDataGenerator(rescale=1./255)\n",
    "\n",
    "# Assuming base_dir is the path to the dataset directory\n",
    "train_dir = os.path.join(base_dir, 'train')\n",
    "validation_dir = os.path.join(base_dir, 'validation')\n",
    "test_dir = os.path.join(base_dir, 'test')\n",
    "\n",
    "train_generator = train_datagen.flow_from_directory(\n",
    "    train_dir,\n",
    "    target_size=(128, 128),\n",
    "    batch_size=1,\n",
    "    class_mode='binary'\n",
    ")\n",
    "\n",
    "validation_generator = validation_datagen.flow_from_directory(\n",
    "    validation_dir,\n",
    "    target_size=(128, 128),\n",
    "    batch_size=32,\n",
    "    class_mode='binary'\n",
    ")\n",
    "\n",
    "test_generator = test_datagen.flow_from_directory(\n",
    "    test_dir,\n",
    "    target_size=(128, 128),\n",
    "    batch_size=32,\n",
    "    class_mode='binary',\n",
    "    shuffle=False\n",
    ")"
   ]
  },
  {
   "cell_type": "code",
   "execution_count": 1,
   "metadata": {},
   "outputs": [],
   "source": [
    "from tensorflow.keras.applications import MobileNetV2"
   ]
  },
  {
   "cell_type": "code",
   "execution_count": 2,
   "metadata": {},
   "outputs": [],
   "source": [
    "img_height = img_width = 128\n",
    "\n",
    "# Ładowanie MobileNetV2 bez górnej warstwy (top)\n",
    "base_model = MobileNetV2(weights='imagenet', include_top=False, input_shape=(img_height, img_width, 3))\n",
    "\n",
    "# Zamrożenie wagi przetrenowanego modelu\n",
    "base_model.trainable = False"
   ]
  },
  {
   "cell_type": "code",
   "execution_count": 7,
   "metadata": {},
   "outputs": [],
   "source": [
    "# Dodanie warstw na wierzchu\n",
    "x = base_model.output\n",
    "x = GlobalAveragePooling2D()(x)\n",
    "x = Dense(1024, activation='relu')(x)\n",
    "# To jest tylko przykład, można tutaj dostosować liczbę neuronów i warstw\n",
    "output = Dense(1, activation='sigmoid')(x)  # Przykładowa warstwa wyjściowa dla klasyfikacji binarnej"
   ]
  },
  {
   "cell_type": "code",
   "execution_count": 9,
   "metadata": {},
   "outputs": [],
   "source": [
    "# Skompletowanie nowego modelu\n",
    "model = Model(inputs=base_model.input, outputs=output)"
   ]
  },
  {
   "cell_type": "code",
   "execution_count": 12,
   "metadata": {},
   "outputs": [
    {
     "name": "stderr",
     "output_type": "stream",
     "text": [
      "/Library/Frameworks/Python.framework/Versions/3.11/lib/python3.11/site-packages/keras/src/optimizers/legacy/adam.py:118: UserWarning: The `lr` argument is deprecated, use `learning_rate` instead.\n",
      "  super().__init__(name, **kwargs)\n"
     ]
    }
   ],
   "source": [
    "# Kompilacja modelu z niestandardową funkcją straty i optymalizatorem\n",
    "model.compile(optimizer=Adam(lr=0.0001), loss=BinaryFocalCrossentropy(), metrics=['accuracy'])"
   ]
  },
  {
   "cell_type": "code",
   "execution_count": 13,
   "metadata": {},
   "outputs": [
    {
     "name": "stdout",
     "output_type": "stream",
     "text": [
      "Epoch 1/50\n",
      "1399/1399 [==============================] - 13s 8ms/step - loss: 0.0616 - accuracy: 0.9299 - val_loss: 0.0303 - val_accuracy: 0.9549\n",
      "Epoch 2/50\n",
      "1399/1399 [==============================] - 13s 9ms/step - loss: 0.0245 - accuracy: 0.9693 - val_loss: 0.0136 - val_accuracy: 0.9757\n",
      "Epoch 3/50\n",
      "1399/1399 [==============================] - 15s 11ms/step - loss: 0.0236 - accuracy: 0.9707 - val_loss: 0.0094 - val_accuracy: 0.9792\n",
      "Epoch 4/50\n",
      "1399/1399 [==============================] - 16s 11ms/step - loss: 0.0242 - accuracy: 0.9793 - val_loss: 0.0119 - val_accuracy: 0.9861\n",
      "Epoch 5/50\n",
      "1399/1399 [==============================] - 18s 13ms/step - loss: 0.0116 - accuracy: 0.9857 - val_loss: 0.0075 - val_accuracy: 0.9931\n",
      "Epoch 6/50\n",
      "1399/1399 [==============================] - 16s 11ms/step - loss: 0.0122 - accuracy: 0.9864 - val_loss: 0.0173 - val_accuracy: 0.9931\n",
      "Epoch 7/50\n",
      "1399/1399 [==============================] - 14s 10ms/step - loss: 0.0111 - accuracy: 0.9836 - val_loss: 0.0100 - val_accuracy: 0.9826\n",
      "Epoch 8/50\n",
      "1399/1399 [==============================] - 15s 10ms/step - loss: 0.0148 - accuracy: 0.9843 - val_loss: 0.0189 - val_accuracy: 0.9722\n",
      "Epoch 9/50\n",
      "1399/1399 [==============================] - 15s 11ms/step - loss: 0.0100 - accuracy: 0.9828 - val_loss: 0.0041 - val_accuracy: 0.9931\n",
      "Epoch 10/50\n",
      "1399/1399 [==============================] - 16s 11ms/step - loss: 0.0050 - accuracy: 0.9950 - val_loss: 0.0126 - val_accuracy: 0.9861\n",
      "Epoch 11/50\n",
      "1399/1399 [==============================] - 17s 12ms/step - loss: 0.0133 - accuracy: 0.9886 - val_loss: 0.0129 - val_accuracy: 0.9826\n",
      "Epoch 12/50\n",
      "1399/1399 [==============================] - 18s 13ms/step - loss: 0.0083 - accuracy: 0.9943 - val_loss: 0.0150 - val_accuracy: 0.9792\n",
      "Epoch 13/50\n",
      "1399/1399 [==============================] - 18s 13ms/step - loss: 0.0084 - accuracy: 0.9886 - val_loss: 0.0040 - val_accuracy: 0.9931\n",
      "Epoch 14/50\n",
      "1399/1399 [==============================] - 18s 13ms/step - loss: 0.0052 - accuracy: 0.9950 - val_loss: 0.0116 - val_accuracy: 0.9896\n",
      "Epoch 15/50\n",
      "1399/1399 [==============================] - 17s 12ms/step - loss: 9.0216e-04 - accuracy: 0.9993 - val_loss: 0.0134 - val_accuracy: 0.9757\n",
      "Epoch 16/50\n",
      "1399/1399 [==============================] - 17s 12ms/step - loss: 0.0141 - accuracy: 0.9857 - val_loss: 0.0173 - val_accuracy: 0.9931\n",
      "Epoch 17/50\n",
      "1399/1399 [==============================] - 17s 12ms/step - loss: 0.0055 - accuracy: 0.9950 - val_loss: 0.0056 - val_accuracy: 0.9965\n",
      "Epoch 18/50\n",
      "1399/1399 [==============================] - 19s 14ms/step - loss: 0.0065 - accuracy: 0.9929 - val_loss: 0.0073 - val_accuracy: 0.9931\n",
      "Epoch 19/50\n",
      "1399/1399 [==============================] - 17s 12ms/step - loss: 0.0063 - accuracy: 0.9921 - val_loss: 0.0139 - val_accuracy: 0.9896\n",
      "Epoch 20/50\n",
      "1399/1399 [==============================] - 17s 12ms/step - loss: 7.4836e-04 - accuracy: 0.9993 - val_loss: 0.0013 - val_accuracy: 0.9965\n",
      "Epoch 21/50\n",
      "1399/1399 [==============================] - 16s 12ms/step - loss: 0.0080 - accuracy: 0.9914 - val_loss: 0.0074 - val_accuracy: 0.9896\n",
      "Epoch 22/50\n",
      "1399/1399 [==============================] - 16s 12ms/step - loss: 0.0013 - accuracy: 0.9986 - val_loss: 0.0022 - val_accuracy: 0.9965\n",
      "Epoch 23/50\n",
      "1399/1399 [==============================] - 16s 12ms/step - loss: 0.0090 - accuracy: 0.9943 - val_loss: 0.0351 - val_accuracy: 0.9722\n",
      "Epoch 24/50\n",
      "1399/1399 [==============================] - 17s 12ms/step - loss: 0.0073 - accuracy: 0.9957 - val_loss: 0.0029 - val_accuracy: 0.9931\n",
      "Epoch 25/50\n",
      "1399/1399 [==============================] - 16s 12ms/step - loss: 0.0028 - accuracy: 0.9950 - val_loss: 0.0101 - val_accuracy: 0.9965\n",
      "Epoch 26/50\n",
      "1399/1399 [==============================] - 16s 12ms/step - loss: 0.0054 - accuracy: 0.9950 - val_loss: 0.0107 - val_accuracy: 0.9931\n",
      "Epoch 27/50\n",
      "1399/1399 [==============================] - 16s 12ms/step - loss: 0.0028 - accuracy: 0.9979 - val_loss: 0.0317 - val_accuracy: 0.9792\n",
      "Epoch 28/50\n",
      "1399/1399 [==============================] - 17s 12ms/step - loss: 0.0075 - accuracy: 0.9929 - val_loss: 0.0057 - val_accuracy: 0.9965\n",
      "Epoch 29/50\n",
      "1399/1399 [==============================] - 16s 12ms/step - loss: 0.0085 - accuracy: 0.9943 - val_loss: 0.0093 - val_accuracy: 0.9861\n",
      "Epoch 30/50\n",
      "1399/1399 [==============================] - 16s 12ms/step - loss: 3.6068e-04 - accuracy: 0.9993 - val_loss: 0.0011 - val_accuracy: 0.9965\n",
      "Epoch 31/50\n",
      "1399/1399 [==============================] - 17s 12ms/step - loss: 7.6770e-05 - accuracy: 1.0000 - val_loss: 0.0017 - val_accuracy: 0.9965\n",
      "Epoch 32/50\n",
      "1399/1399 [==============================] - 20s 14ms/step - loss: 0.0089 - accuracy: 0.9936 - val_loss: 0.0478 - val_accuracy: 0.9861\n",
      "Epoch 33/50\n",
      "1399/1399 [==============================] - 24s 17ms/step - loss: 1.1099e-04 - accuracy: 1.0000 - val_loss: 0.0159 - val_accuracy: 0.9896\n",
      "Epoch 34/50\n",
      "1399/1399 [==============================] - 23s 17ms/step - loss: 0.0025 - accuracy: 0.9957 - val_loss: 0.0549 - val_accuracy: 0.9757\n",
      "Epoch 35/50\n",
      "1399/1399 [==============================] - 24s 17ms/step - loss: 0.0084 - accuracy: 0.9936 - val_loss: 0.0043 - val_accuracy: 0.9931\n",
      "Epoch 36/50\n",
      "1399/1399 [==============================] - 25s 18ms/step - loss: 0.0048 - accuracy: 0.9971 - val_loss: 0.0047 - val_accuracy: 0.9931\n",
      "Epoch 37/50\n",
      "1399/1399 [==============================] - 26s 19ms/step - loss: 0.0025 - accuracy: 0.9964 - val_loss: 0.0019 - val_accuracy: 0.9965\n",
      "Epoch 38/50\n",
      "1399/1399 [==============================] - 24s 17ms/step - loss: 0.0080 - accuracy: 0.9971 - val_loss: 0.0169 - val_accuracy: 0.9826\n",
      "Epoch 39/50\n",
      "1399/1399 [==============================] - 22s 15ms/step - loss: 0.0062 - accuracy: 0.9943 - val_loss: 0.0034 - val_accuracy: 0.9965\n",
      "Epoch 40/50\n",
      "1399/1399 [==============================] - 22s 16ms/step - loss: 0.0019 - accuracy: 0.9964 - val_loss: 7.6354e-04 - val_accuracy: 1.0000\n",
      "Epoch 41/50\n",
      "1399/1399 [==============================] - 22s 16ms/step - loss: 0.0024 - accuracy: 0.9964 - val_loss: 0.0154 - val_accuracy: 0.9931\n",
      "Epoch 42/50\n",
      "1399/1399 [==============================] - 23s 17ms/step - loss: 0.0022 - accuracy: 0.9971 - val_loss: 0.0286 - val_accuracy: 0.9896\n",
      "Epoch 43/50\n",
      "1399/1399 [==============================] - 24s 17ms/step - loss: 0.0084 - accuracy: 0.9957 - val_loss: 0.0274 - val_accuracy: 0.9688\n",
      "Epoch 44/50\n",
      "1399/1399 [==============================] - 25s 18ms/step - loss: 8.2350e-04 - accuracy: 0.9993 - val_loss: 0.0097 - val_accuracy: 0.9896\n",
      "Epoch 45/50\n",
      "1399/1399 [==============================] - 26s 19ms/step - loss: 0.0013 - accuracy: 0.9986 - val_loss: 0.0075 - val_accuracy: 0.9965\n",
      "Epoch 46/50\n",
      "1399/1399 [==============================] - 24s 17ms/step - loss: 4.7658e-04 - accuracy: 0.9986 - val_loss: 0.0034 - val_accuracy: 0.9965\n",
      "Epoch 47/50\n",
      "1399/1399 [==============================] - 26s 18ms/step - loss: 0.0062 - accuracy: 0.9979 - val_loss: 0.0502 - val_accuracy: 0.9618\n",
      "Epoch 48/50\n",
      "1399/1399 [==============================] - 26s 19ms/step - loss: 0.0066 - accuracy: 0.9971 - val_loss: 0.0047 - val_accuracy: 0.9931\n",
      "Epoch 49/50\n",
      "1399/1399 [==============================] - 28s 20ms/step - loss: 7.1873e-04 - accuracy: 0.9971 - val_loss: 9.1816e-04 - val_accuracy: 0.9965\n",
      "Epoch 50/50\n",
      "1399/1399 [==============================] - 27s 19ms/step - loss: 0.0070 - accuracy: 0.9950 - val_loss: 0.0022 - val_accuracy: 0.9965\n"
     ]
    }
   ],
   "source": [
    "history = model.fit(\n",
    "    train_generator,\n",
    "    steps_per_epoch=train_generator.samples // train_generator.batch_size,\n",
    "    epochs=50,\n",
    "    validation_data=validation_generator,\n",
    "    validation_steps=validation_generator.samples // validation_generator.batch_size\n",
    ")"
   ]
  },
  {
   "cell_type": "code",
   "execution_count": 14,
   "metadata": {},
   "outputs": [
    {
     "name": "stdout",
     "output_type": "stream",
     "text": [
      "9/9 [==============================] - 1s 115ms/step - loss: 0.0211 - accuracy: 0.9861\n",
      "Test Loss: 0.021085485816001892, Test Accuracy: 0.9861111044883728\n"
     ]
    }
   ],
   "source": [
    "test_loss, test_accuracy = model.evaluate(test_generator, steps=test_generator.samples // test_generator.batch_size)\n",
    "print(f\"Test Loss: {test_loss}, Test Accuracy: {test_accuracy}\")"
   ]
  },
  {
   "cell_type": "code",
   "execution_count": null,
   "metadata": {},
   "outputs": [],
   "source": []
  }
 ],
 "metadata": {
  "kernelspec": {
   "display_name": "magisterka",
   "language": "python",
   "name": "magisterka"
  },
  "language_info": {
   "codemirror_mode": {
    "name": "ipython",
    "version": 3
   },
   "file_extension": ".py",
   "mimetype": "text/x-python",
   "name": "python",
   "nbconvert_exporter": "python",
   "pygments_lexer": "ipython3",
   "version": "3.11.6"
  }
 },
 "nbformat": 4,
 "nbformat_minor": 2
}
