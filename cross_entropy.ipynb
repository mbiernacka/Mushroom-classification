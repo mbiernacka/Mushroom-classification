{
 "cells": [
  {
   "cell_type": "code",
   "execution_count": 6,
   "metadata": {},
   "outputs": [],
   "source": [
    "import numpy as np\n",
    "import os\n",
    "from tensorflow.keras.preprocessing.image import ImageDataGenerator\n",
    "from tensorflow.keras.models import Sequential\n",
    "from tensorflow.keras.layers import Conv2D, MaxPooling2D, Flatten, Dense, Dropout, Input\n",
    "from sklearn.model_selection import train_test_split\n",
    "import shutil\n",
    "from tensorflow.keras import backend as K\n",
    "import tensorflow as tf\n",
    "import matplotlib.pyplot as plt\n",
    "from tensorflow.keras.preprocessing import image\n",
    "from focal_loss import BinaryFocalLoss\n",
    "from tensorflow.keras.optimizers.legacy import Adam\n"
   ]
  },
  {
   "cell_type": "code",
   "execution_count": 7,
   "metadata": {},
   "outputs": [],
   "source": [
    "# glowny folder\n",
    "base_dir = '/Users/milenabiernacka/Desktop/studia/DS/semestr2/PD-magisterka/Mushroom_dataset/cnn/'\n",
    "# polaczenie glownego folderu i podfolderow z edible i poisonous\n",
    "\n",
    "edible_dir = os.path.join(base_dir, 'Edible')\n",
    "poisonous_dir = os.path.join(base_dir, 'Poisonous')"
   ]
  },
  {
   "cell_type": "code",
   "execution_count": 8,
   "metadata": {},
   "outputs": [
    {
     "name": "stdout",
     "output_type": "stream",
     "text": [
      "Found 1399 images belonging to 2 classes.\n",
      "Found 300 images belonging to 2 classes.\n",
      "Found 301 images belonging to 2 classes.\n"
     ]
    }
   ],
   "source": [
    "train_datagen = ImageDataGenerator(\n",
    "    rescale=1. / 255,\n",
    "    shear_range=0.2,\n",
    "    zoom_range=0.2,\n",
    "    horizontal_flip=True)\n",
    "\n",
    "validation_datagen = ImageDataGenerator(rescale=1./255)\n",
    "test_datagen = ImageDataGenerator(rescale=1./255)\n",
    "\n",
    "# Assuming base_dir is the path to the dataset directory\n",
    "train_dir = os.path.join(base_dir, 'train')\n",
    "validation_dir = os.path.join(base_dir, 'validation')\n",
    "test_dir = os.path.join(base_dir, 'test')\n",
    "\n",
    "train_generator = train_datagen.flow_from_directory(\n",
    "    train_dir,\n",
    "    target_size=(150, 150),\n",
    "    batch_size=1,\n",
    "    class_mode='binary'\n",
    ")\n",
    "\n",
    "validation_generator = validation_datagen.flow_from_directory(\n",
    "    validation_dir,\n",
    "    target_size=(150, 150),\n",
    "    batch_size=32,\n",
    "    class_mode='binary'\n",
    ")\n",
    "\n",
    "test_generator = test_datagen.flow_from_directory(\n",
    "    test_dir,\n",
    "    target_size=(150, 150),\n",
    "    batch_size=32,\n",
    "    class_mode='binary',\n",
    "    shuffle=False\n",
    ")"
   ]
  },
  {
   "cell_type": "code",
   "execution_count": 9,
   "metadata": {},
   "outputs": [],
   "source": [
    "model = Sequential([\n",
    "    Input(shape=(150, 150, 3)),\n",
    "    Conv2D(32, (3, 3), activation='relu'),\n",
    "    MaxPooling2D(2, 2),\n",
    "    Conv2D(64, (3, 3), activation='relu'),\n",
    "    MaxPooling2D(2, 2),\n",
    "    Conv2D(128, (3, 3), activation='relu'),\n",
    "    MaxPooling2D(2, 2),\n",
    "    Flatten(),\n",
    "    Dense(512, activation='relu'),\n",
    "    Dropout(0.5),\n",
    "    Dense(1, activation='sigmoid')  # Use linear activation for Hinge loss\n",
    "])\n"
   ]
  },
  {
   "cell_type": "code",
   "execution_count": 21,
   "metadata": {},
   "outputs": [],
   "source": [
    "model.compile(optimizer=Adam(learning_rate=1e-4), loss='binary_crossentropy', metrics=['accuracy'])\n"
   ]
  },
  {
   "cell_type": "code",
   "execution_count": 23,
   "metadata": {},
   "outputs": [
    {
     "name": "stdout",
     "output_type": "stream",
     "text": [
      "Epoch 1/20\n",
      "1399/1399 [==============================] - 50s 35ms/step - loss: 0.5388 - accuracy: 0.7477 - val_loss: 0.4289 - val_accuracy: 0.7743\n",
      "Epoch 2/20\n",
      "1399/1399 [==============================] - 51s 37ms/step - loss: 0.3860 - accuracy: 0.8134 - val_loss: 0.2699 - val_accuracy: 0.8472\n",
      "Epoch 3/20\n",
      "1399/1399 [==============================] - 55s 39ms/step - loss: 0.3061 - accuracy: 0.8606 - val_loss: 0.2864 - val_accuracy: 0.8507\n",
      "Epoch 4/20\n",
      "1399/1399 [==============================] - 67s 48ms/step - loss: 0.2408 - accuracy: 0.8928 - val_loss: 0.2387 - val_accuracy: 0.8924\n",
      "Epoch 5/20\n",
      "1399/1399 [==============================] - 55s 40ms/step - loss: 0.2147 - accuracy: 0.9099 - val_loss: 0.1803 - val_accuracy: 0.9097\n",
      "Epoch 6/20\n",
      "1399/1399 [==============================] - 75s 53ms/step - loss: 0.1740 - accuracy: 0.9192 - val_loss: 0.1402 - val_accuracy: 0.9236\n",
      "Epoch 7/20\n",
      "1399/1399 [==============================] - 95s 68ms/step - loss: 0.1464 - accuracy: 0.9407 - val_loss: 0.1141 - val_accuracy: 0.9444\n",
      "Epoch 8/20\n",
      "1399/1399 [==============================] - 92s 66ms/step - loss: 0.1169 - accuracy: 0.9557 - val_loss: 0.1289 - val_accuracy: 0.9271\n",
      "Epoch 9/20\n",
      "1399/1399 [==============================] - 100s 72ms/step - loss: 0.1021 - accuracy: 0.9550 - val_loss: 0.1328 - val_accuracy: 0.9410\n",
      "Epoch 10/20\n",
      "1399/1399 [==============================] - 105s 75ms/step - loss: 0.0924 - accuracy: 0.9657 - val_loss: 0.1651 - val_accuracy: 0.9306\n",
      "Epoch 11/20\n",
      "1399/1399 [==============================] - 113s 81ms/step - loss: 0.0813 - accuracy: 0.9700 - val_loss: 0.0426 - val_accuracy: 0.9826\n",
      "Epoch 12/20\n",
      "1399/1399 [==============================] - 108s 77ms/step - loss: 0.0801 - accuracy: 0.9757 - val_loss: 0.0468 - val_accuracy: 0.9861\n",
      "Epoch 13/20\n",
      "1399/1399 [==============================] - 103s 74ms/step - loss: 0.0519 - accuracy: 0.9800 - val_loss: 0.0597 - val_accuracy: 0.9757\n",
      "Epoch 14/20\n",
      "1399/1399 [==============================] - 111s 79ms/step - loss: 0.0696 - accuracy: 0.9728 - val_loss: 0.0589 - val_accuracy: 0.9792\n",
      "Epoch 15/20\n",
      "1399/1399 [==============================] - 118s 84ms/step - loss: 0.0356 - accuracy: 0.9871 - val_loss: 0.0366 - val_accuracy: 0.9896\n",
      "Epoch 16/20\n",
      "1399/1399 [==============================] - 88s 63ms/step - loss: 0.0544 - accuracy: 0.9821 - val_loss: 0.0935 - val_accuracy: 0.9514\n",
      "Epoch 17/20\n",
      "1399/1399 [==============================] - 69s 50ms/step - loss: 0.0430 - accuracy: 0.9857 - val_loss: 0.0270 - val_accuracy: 0.9861\n",
      "Epoch 18/20\n",
      "1399/1399 [==============================] - 71s 51ms/step - loss: 0.0385 - accuracy: 0.9871 - val_loss: 0.0251 - val_accuracy: 0.9896\n",
      "Epoch 19/20\n",
      "1399/1399 [==============================] - 70s 50ms/step - loss: 0.0350 - accuracy: 0.9864 - val_loss: 0.0633 - val_accuracy: 0.9792\n",
      "Epoch 20/20\n",
      "1399/1399 [==============================] - 70s 50ms/step - loss: 0.0201 - accuracy: 0.9929 - val_loss: 0.0234 - val_accuracy: 0.9861\n"
     ]
    }
   ],
   "source": [
    "history = model.fit(\n",
    "    train_generator,\n",
    "    steps_per_epoch=train_generator.samples // train_generator.batch_size,\n",
    "    epochs=20,\n",
    "    validation_data=validation_generator,\n",
    "    validation_steps=validation_generator.samples // validation_generator.batch_size\n",
    ")"
   ]
  },
  {
   "cell_type": "code",
   "execution_count": 24,
   "metadata": {},
   "outputs": [
    {
     "name": "stdout",
     "output_type": "stream",
     "text": [
      "9/9 [==============================] - 1s 154ms/step - loss: 0.0382 - accuracy: 0.9896\n",
      "Test Loss: 0.03820107877254486, Test Accuracy: 0.9895833134651184\n"
     ]
    }
   ],
   "source": [
    "test_loss, test_accuracy = model.evaluate(test_generator, steps=test_generator.samples // test_generator.batch_size)\n",
    "print(f\"Test Loss: {test_loss}, Test Accuracy: {test_accuracy}\")"
   ]
  },
  {
   "cell_type": "code",
   "execution_count": 10,
   "metadata": {},
   "outputs": [],
   "source": [
    "from tensorflow.keras.losses import BinaryFocalCrossentropy"
   ]
  },
  {
   "cell_type": "code",
   "execution_count": 11,
   "metadata": {},
   "outputs": [],
   "source": [
    "model.compile(optimizer=Adam(learning_rate=1e-4), loss=BinaryFocalCrossentropy(), metrics=['accuracy'])\n"
   ]
  },
  {
   "cell_type": "code",
   "execution_count": 12,
   "metadata": {},
   "outputs": [
    {
     "name": "stdout",
     "output_type": "stream",
     "text": [
      "Epoch 1/20\n",
      "1399/1399 [==============================] - 76s 54ms/step - loss: 0.1396 - accuracy: 0.7370 - val_loss: 0.1276 - val_accuracy: 0.7535\n",
      "Epoch 2/20\n",
      "1399/1399 [==============================] - 55s 39ms/step - loss: 0.1042 - accuracy: 0.8213 - val_loss: 0.0819 - val_accuracy: 0.8472\n",
      "Epoch 3/20\n",
      "1399/1399 [==============================] - 79s 56ms/step - loss: 0.0777 - accuracy: 0.8585 - val_loss: 0.0532 - val_accuracy: 0.8889\n",
      "Epoch 4/20\n",
      "1399/1399 [==============================] - 86s 61ms/step - loss: 0.0630 - accuracy: 0.8942 - val_loss: 0.0499 - val_accuracy: 0.9132\n",
      "Epoch 5/20\n",
      "1399/1399 [==============================] - 87s 62ms/step - loss: 0.0479 - accuracy: 0.9171 - val_loss: 0.0362 - val_accuracy: 0.9271\n",
      "Epoch 6/20\n",
      "1399/1399 [==============================] - 87s 62ms/step - loss: 0.0405 - accuracy: 0.9357 - val_loss: 0.0261 - val_accuracy: 0.9549\n",
      "Epoch 7/20\n",
      "1399/1399 [==============================] - 86s 62ms/step - loss: 0.0326 - accuracy: 0.9543 - val_loss: 0.0210 - val_accuracy: 0.9757\n",
      "Epoch 8/20\n",
      "1399/1399 [==============================] - 89s 63ms/step - loss: 0.0319 - accuracy: 0.9500 - val_loss: 0.0279 - val_accuracy: 0.9444\n",
      "Epoch 9/20\n",
      "1399/1399 [==============================] - 89s 63ms/step - loss: 0.0264 - accuracy: 0.9578 - val_loss: 0.0134 - val_accuracy: 0.9792\n",
      "Epoch 10/20\n",
      "1399/1399 [==============================] - 88s 63ms/step - loss: 0.0240 - accuracy: 0.9657 - val_loss: 0.0245 - val_accuracy: 0.9618\n",
      "Epoch 11/20\n",
      "1399/1399 [==============================] - 93s 66ms/step - loss: 0.0226 - accuracy: 0.9671 - val_loss: 0.0135 - val_accuracy: 0.9861\n",
      "Epoch 12/20\n",
      "1399/1399 [==============================] - 92s 66ms/step - loss: 0.0227 - accuracy: 0.9743 - val_loss: 0.0236 - val_accuracy: 0.9549\n",
      "Epoch 13/20\n",
      "1399/1399 [==============================] - 97s 69ms/step - loss: 0.0170 - accuracy: 0.9757 - val_loss: 0.0233 - val_accuracy: 0.9653\n",
      "Epoch 14/20\n",
      "1399/1399 [==============================] - 96s 68ms/step - loss: 0.0147 - accuracy: 0.9814 - val_loss: 0.0323 - val_accuracy: 0.9410\n",
      "Epoch 15/20\n",
      "1399/1399 [==============================] - 101s 72ms/step - loss: 0.0121 - accuracy: 0.9814 - val_loss: 0.0089 - val_accuracy: 0.9896\n",
      "Epoch 16/20\n",
      "1399/1399 [==============================] - 100s 71ms/step - loss: 0.0158 - accuracy: 0.9836 - val_loss: 0.0196 - val_accuracy: 0.9757\n",
      "Epoch 17/20\n",
      "1399/1399 [==============================] - 105s 75ms/step - loss: 0.0115 - accuracy: 0.9857 - val_loss: 0.0108 - val_accuracy: 0.9861\n",
      "Epoch 18/20\n",
      "1399/1399 [==============================] - 101s 72ms/step - loss: 0.0125 - accuracy: 0.9850 - val_loss: 0.0146 - val_accuracy: 0.9861\n",
      "Epoch 19/20\n",
      "1399/1399 [==============================] - 103s 74ms/step - loss: 0.0102 - accuracy: 0.9850 - val_loss: 0.0106 - val_accuracy: 0.9861\n",
      "Epoch 20/20\n",
      "1399/1399 [==============================] - 98s 70ms/step - loss: 0.0079 - accuracy: 0.9893 - val_loss: 0.0225 - val_accuracy: 0.9688\n"
     ]
    }
   ],
   "source": [
    "history = model.fit(\n",
    "    train_generator,\n",
    "    steps_per_epoch=train_generator.samples // train_generator.batch_size,\n",
    "    epochs=20,\n",
    "    validation_data=validation_generator,\n",
    "    validation_steps=validation_generator.samples // validation_generator.batch_size\n",
    ")"
   ]
  },
  {
   "cell_type": "code",
   "execution_count": 13,
   "metadata": {},
   "outputs": [
    {
     "name": "stdout",
     "output_type": "stream",
     "text": [
      "9/9 [==============================] - 3s 282ms/step - loss: 0.0492 - accuracy: 0.9618\n",
      "Test Loss: 0.049241337925195694, Test Accuracy: 0.9618055820465088\n"
     ]
    }
   ],
   "source": [
    "test_loss, test_accuracy = model.evaluate(test_generator, steps=test_generator.samples // test_generator.batch_size)\n",
    "print(f\"Test Loss: {test_loss}, Test Accuracy: {test_accuracy}\")"
   ]
  },
  {
   "cell_type": "code",
   "execution_count": null,
   "metadata": {},
   "outputs": [],
   "source": []
  }
 ],
 "metadata": {
  "kernelspec": {
   "display_name": "magisterka",
   "language": "python",
   "name": "magisterka"
  },
  "language_info": {
   "codemirror_mode": {
    "name": "ipython",
    "version": 3
   },
   "file_extension": ".py",
   "mimetype": "text/x-python",
   "name": "python",
   "nbconvert_exporter": "python",
   "pygments_lexer": "ipython3",
   "version": "3.11.6"
  }
 },
 "nbformat": 4,
 "nbformat_minor": 2
}
