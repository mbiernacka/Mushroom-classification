{
 "cells": [
  {
   "cell_type": "code",
   "execution_count": 1,
   "metadata": {},
   "outputs": [],
   "source": [
    "# biblioteki\n",
    "import pandas as pd\n",
    "import os\n",
    "from tensorflow.keras.preprocessing.image import ImageDataGenerator\n",
    "from tensorflow.keras.applications import MobileNetV2\n",
    "from tensorflow.keras.layers import Dense, GlobalAveragePooling2D, Dropout\n",
    "from tensorflow.keras.models import Model\n",
    "from sklearn.preprocessing import LabelEncoder\n",
    "from tensorflow.keras.optimizers import Adam\n",
    "import numpy as np"
   ]
  },
  {
   "cell_type": "markdown",
   "metadata": {},
   "source": [
    "Wykorzystany zbiór: https://sites.google.com/view/danish-fungi-dataset"
   ]
  },
  {
   "cell_type": "code",
   "execution_count": 3,
   "metadata": {},
   "outputs": [],
   "source": [
    "# Ścieżki do plików CSV i folderu ze zdjęciami\n",
    "metadata_train_path = '/Users/milenabiernacka/Desktop/praca-magisterska/DF/DF20M-metadata/DF20M-train_metadata_PROD.csv'\n",
    "metadata_test_path = '/Users/milenabiernacka/Desktop/praca-magisterska/DF/DF20M-metadata/DF20M-public_test_metadata_PROD.csv'\n",
    "images_folder_path = '/Users/milenabiernacka/Desktop/praca-magisterska/DF/DF20M'\n",
    "\n",
    "# Wczytanie metadanych\n",
    "metadata_train = pd.read_csv(metadata_train_path)\n",
    "metadata_test = pd.read_csv(metadata_test_path)"
   ]
  },
  {
   "cell_type": "code",
   "execution_count": 4,
   "metadata": {},
   "outputs": [
    {
     "data": {
      "text/html": [
       "<div>\n",
       "<style scoped>\n",
       "    .dataframe tbody tr th:only-of-type {\n",
       "        vertical-align: middle;\n",
       "    }\n",
       "\n",
       "    .dataframe tbody tr th {\n",
       "        vertical-align: top;\n",
       "    }\n",
       "\n",
       "    .dataframe thead th {\n",
       "        text-align: right;\n",
       "    }\n",
       "</style>\n",
       "<table border=\"1\" class=\"dataframe\">\n",
       "  <thead>\n",
       "    <tr style=\"text-align: right;\">\n",
       "      <th></th>\n",
       "      <th>gbifID</th>\n",
       "      <th>eventDate</th>\n",
       "      <th>year</th>\n",
       "      <th>month</th>\n",
       "      <th>day</th>\n",
       "      <th>countryCode</th>\n",
       "      <th>locality</th>\n",
       "      <th>taxonID</th>\n",
       "      <th>scientificName</th>\n",
       "      <th>kingdom</th>\n",
       "      <th>...</th>\n",
       "      <th>level2Gid</th>\n",
       "      <th>level2Name</th>\n",
       "      <th>ImageUniqueID</th>\n",
       "      <th>Substrate</th>\n",
       "      <th>rightsHolder</th>\n",
       "      <th>Latitude</th>\n",
       "      <th>Longitude</th>\n",
       "      <th>CoorUncert</th>\n",
       "      <th>Habitat</th>\n",
       "      <th>image_path</th>\n",
       "    </tr>\n",
       "  </thead>\n",
       "  <tbody>\n",
       "    <tr>\n",
       "      <th>0</th>\n",
       "      <td>2862684394</td>\n",
       "      <td>2020-09-17T00:00:00</td>\n",
       "      <td>2020.0</td>\n",
       "      <td>9.0</td>\n",
       "      <td>17.0</td>\n",
       "      <td>DK</td>\n",
       "      <td>Langesø, Morud</td>\n",
       "      <td>17215.0</td>\n",
       "      <td>Mycena crocata (Schrad.) P.Kumm.</td>\n",
       "      <td>Fungi</td>\n",
       "      <td>...</td>\n",
       "      <td>DNK.5.14_1</td>\n",
       "      <td>Nordfyns</td>\n",
       "      <td>2862684394-136762</td>\n",
       "      <td>dead wood (including bark)</td>\n",
       "      <td>Uffe Nygaard</td>\n",
       "      <td>55.433810</td>\n",
       "      <td>10.200162</td>\n",
       "      <td>10.0</td>\n",
       "      <td>Unmanaged deciduous woodland</td>\n",
       "      <td>2862684394-136762.JPG</td>\n",
       "    </tr>\n",
       "    <tr>\n",
       "      <th>1</th>\n",
       "      <td>2238502117</td>\n",
       "      <td>2017-08-16T00:00:00</td>\n",
       "      <td>2017.0</td>\n",
       "      <td>8.0</td>\n",
       "      <td>16.0</td>\n",
       "      <td>DK</td>\n",
       "      <td>Virum</td>\n",
       "      <td>10057.0</td>\n",
       "      <td>Agaricus augustus Fr.</td>\n",
       "      <td>Fungi</td>\n",
       "      <td>...</td>\n",
       "      <td>DNK.1.28_1</td>\n",
       "      <td>Rudersdal</td>\n",
       "      <td>2238502117-320693</td>\n",
       "      <td>soil</td>\n",
       "      <td>Michael Hansen</td>\n",
       "      <td>55.800171</td>\n",
       "      <td>12.478571</td>\n",
       "      <td>5.0</td>\n",
       "      <td>garden</td>\n",
       "      <td>2238502117-320693.JPG</td>\n",
       "    </tr>\n",
       "    <tr>\n",
       "      <th>2</th>\n",
       "      <td>2818074328</td>\n",
       "      <td>2020-07-23T00:00:00</td>\n",
       "      <td>2020.0</td>\n",
       "      <td>7.0</td>\n",
       "      <td>23.0</td>\n",
       "      <td>DK</td>\n",
       "      <td>Gribskov, Enghavehus</td>\n",
       "      <td>20027.0</td>\n",
       "      <td>Russula olivacea (Schaeff.) Fr.</td>\n",
       "      <td>Fungi</td>\n",
       "      <td>...</td>\n",
       "      <td>DNK.1.20_1</td>\n",
       "      <td>Hillerød</td>\n",
       "      <td>2818074328-59948</td>\n",
       "      <td>soil</td>\n",
       "      <td>Anna ploug</td>\n",
       "      <td>55.976322</td>\n",
       "      <td>12.293878</td>\n",
       "      <td>1.0</td>\n",
       "      <td>Mixed woodland (with coniferous and deciduous ...</td>\n",
       "      <td>2818074328-59948.JPG</td>\n",
       "    </tr>\n",
       "    <tr>\n",
       "      <th>3</th>\n",
       "      <td>2238560017</td>\n",
       "      <td>2018-09-09T00:00:00</td>\n",
       "      <td>2018.0</td>\n",
       "      <td>9.0</td>\n",
       "      <td>9.0</td>\n",
       "      <td>DK</td>\n",
       "      <td>Færgelunden</td>\n",
       "      <td>11069.0</td>\n",
       "      <td>Boletus edulis Bull.</td>\n",
       "      <td>Fungi</td>\n",
       "      <td>...</td>\n",
       "      <td>DNK.1.11_1</td>\n",
       "      <td>Frederikssund</td>\n",
       "      <td>2238560017-331396</td>\n",
       "      <td>soil</td>\n",
       "      <td>Henrik Dalgaard</td>\n",
       "      <td>55.840458</td>\n",
       "      <td>12.027228</td>\n",
       "      <td>15.0</td>\n",
       "      <td>Deciduous woodland</td>\n",
       "      <td>2238560017-331396.JPG</td>\n",
       "    </tr>\n",
       "    <tr>\n",
       "      <th>4</th>\n",
       "      <td>2237970493</td>\n",
       "      <td>2011-08-20T00:00:00</td>\n",
       "      <td>2011.0</td>\n",
       "      <td>8.0</td>\n",
       "      <td>20.0</td>\n",
       "      <td>DK</td>\n",
       "      <td>Tofte Skov</td>\n",
       "      <td>17278.0</td>\n",
       "      <td>Mycena pseudocorticola Kühner</td>\n",
       "      <td>Fungi</td>\n",
       "      <td>...</td>\n",
       "      <td>DNK.3.1_1</td>\n",
       "      <td>Aalborg</td>\n",
       "      <td>2237970493-5168</td>\n",
       "      <td>bark</td>\n",
       "      <td>David Boertmann</td>\n",
       "      <td>56.844840</td>\n",
       "      <td>10.192650</td>\n",
       "      <td>75.0</td>\n",
       "      <td>Forest bog</td>\n",
       "      <td>2237970493-5168.JPG</td>\n",
       "    </tr>\n",
       "  </tbody>\n",
       "</table>\n",
       "<p>5 rows × 33 columns</p>\n",
       "</div>"
      ],
      "text/plain": [
       "       gbifID            eventDate    year  month   day countryCode  \\\n",
       "0  2862684394  2020-09-17T00:00:00  2020.0    9.0  17.0          DK   \n",
       "1  2238502117  2017-08-16T00:00:00  2017.0    8.0  16.0          DK   \n",
       "2  2818074328  2020-07-23T00:00:00  2020.0    7.0  23.0          DK   \n",
       "3  2238560017  2018-09-09T00:00:00  2018.0    9.0   9.0          DK   \n",
       "4  2237970493  2011-08-20T00:00:00  2011.0    8.0  20.0          DK   \n",
       "\n",
       "               locality  taxonID                    scientificName kingdom  \\\n",
       "0        Langesø, Morud  17215.0  Mycena crocata (Schrad.) P.Kumm.   Fungi   \n",
       "1                 Virum  10057.0             Agaricus augustus Fr.   Fungi   \n",
       "2  Gribskov, Enghavehus  20027.0   Russula olivacea (Schaeff.) Fr.   Fungi   \n",
       "3           Færgelunden  11069.0              Boletus edulis Bull.   Fungi   \n",
       "4            Tofte Skov  17278.0     Mycena pseudocorticola Kühner   Fungi   \n",
       "\n",
       "   ...   level2Gid     level2Name      ImageUniqueID  \\\n",
       "0  ...  DNK.5.14_1       Nordfyns  2862684394-136762   \n",
       "1  ...  DNK.1.28_1      Rudersdal  2238502117-320693   \n",
       "2  ...  DNK.1.20_1       Hillerød   2818074328-59948   \n",
       "3  ...  DNK.1.11_1  Frederikssund  2238560017-331396   \n",
       "4  ...   DNK.3.1_1        Aalborg    2237970493-5168   \n",
       "\n",
       "                    Substrate     rightsHolder   Latitude  Longitude  \\\n",
       "0  dead wood (including bark)     Uffe Nygaard  55.433810  10.200162   \n",
       "1                        soil   Michael Hansen  55.800171  12.478571   \n",
       "2                        soil       Anna ploug  55.976322  12.293878   \n",
       "3                        soil  Henrik Dalgaard  55.840458  12.027228   \n",
       "4                        bark  David Boertmann  56.844840  10.192650   \n",
       "\n",
       "  CoorUncert                                            Habitat  \\\n",
       "0       10.0                       Unmanaged deciduous woodland   \n",
       "1        5.0                                             garden   \n",
       "2        1.0  Mixed woodland (with coniferous and deciduous ...   \n",
       "3       15.0                                 Deciduous woodland   \n",
       "4       75.0                                         Forest bog   \n",
       "\n",
       "              image_path  \n",
       "0  2862684394-136762.JPG  \n",
       "1  2238502117-320693.JPG  \n",
       "2   2818074328-59948.JPG  \n",
       "3  2238560017-331396.JPG  \n",
       "4    2237970493-5168.JPG  \n",
       "\n",
       "[5 rows x 33 columns]"
      ]
     },
     "execution_count": 4,
     "metadata": {},
     "output_type": "execute_result"
    }
   ],
   "source": [
    "metadata_train.head()"
   ]
  },
  {
   "cell_type": "code",
   "execution_count": 5,
   "metadata": {},
   "outputs": [
    {
     "name": "stdout",
     "output_type": "stream",
     "text": [
      "<class 'pandas.core.frame.DataFrame'>\n",
      "RangeIndex: 3640 entries, 0 to 3639\n",
      "Data columns (total 33 columns):\n",
      " #   Column                Non-Null Count  Dtype  \n",
      "---  ------                --------------  -----  \n",
      " 0   gbifID                3640 non-null   int64  \n",
      " 1   eventDate             3639 non-null   object \n",
      " 2   year                  3639 non-null   float64\n",
      " 3   month                 3639 non-null   float64\n",
      " 4   day                   3639 non-null   float64\n",
      " 5   countryCode           3640 non-null   object \n",
      " 6   locality              3636 non-null   object \n",
      " 7   taxonID               3640 non-null   float64\n",
      " 8   scientificName        3640 non-null   object \n",
      " 9   kingdom               3640 non-null   object \n",
      " 10  phylum                3640 non-null   object \n",
      " 11  class                 3640 non-null   object \n",
      " 12  order                 3640 non-null   object \n",
      " 13  family                3640 non-null   object \n",
      " 14  genus                 3640 non-null   object \n",
      " 15  specificEpithet       3640 non-null   object \n",
      " 16  infraspecificEpithet  0 non-null      float64\n",
      " 17  taxonRank             3640 non-null   object \n",
      " 18  species               3637 non-null   object \n",
      " 19  level0Gid             3634 non-null   object \n",
      " 20  level0Name            3634 non-null   object \n",
      " 21  level1Gid             3634 non-null   object \n",
      " 22  level1Name            3634 non-null   object \n",
      " 23  level2Gid             3634 non-null   object \n",
      " 24  level2Name            3634 non-null   object \n",
      " 25  ImageUniqueID         3640 non-null   object \n",
      " 26  Substrate             3624 non-null   object \n",
      " 27  rightsHolder          3640 non-null   object \n",
      " 28  Latitude              3640 non-null   float64\n",
      " 29  Longitude             3640 non-null   float64\n",
      " 30  CoorUncert            3584 non-null   float64\n",
      " 31  Habitat               3627 non-null   object \n",
      " 32  image_path            3640 non-null   object \n",
      "dtypes: float64(8), int64(1), object(24)\n",
      "memory usage: 938.6+ KB\n"
     ]
    }
   ],
   "source": [
    "metadata_test.info()"
   ]
  },
  {
   "cell_type": "code",
   "execution_count": 6,
   "metadata": {},
   "outputs": [],
   "source": [
    "# Upewnij się, że kolumna 'image_path' jest w obu ramkach danych\n",
    "metadata_train['full_image_path'] = metadata_train['image_path'].apply(lambda x: os.path.join(images_folder_path, x))\n",
    "metadata_test['full_image_path'] = metadata_test['image_path'].apply(lambda x: os.path.join(images_folder_path, x))"
   ]
  },
  {
   "cell_type": "code",
   "execution_count": 7,
   "metadata": {},
   "outputs": [
    {
     "data": {
      "text/plain": [
       "'/Users/milenabiernacka/Desktop/praca-magisterska/DF/DF20M/2862684394-136762.JPG'"
      ]
     },
     "execution_count": 7,
     "metadata": {},
     "output_type": "execute_result"
    }
   ],
   "source": [
    "metadata_train['full_image_path'][0]"
   ]
  },
  {
   "cell_type": "code",
   "execution_count": 8,
   "metadata": {},
   "outputs": [
    {
     "data": {
      "text/html": [
       "<div>\n",
       "<style scoped>\n",
       "    .dataframe tbody tr th:only-of-type {\n",
       "        vertical-align: middle;\n",
       "    }\n",
       "\n",
       "    .dataframe tbody tr th {\n",
       "        vertical-align: top;\n",
       "    }\n",
       "\n",
       "    .dataframe thead th {\n",
       "        text-align: right;\n",
       "    }\n",
       "</style>\n",
       "<table border=\"1\" class=\"dataframe\">\n",
       "  <thead>\n",
       "    <tr style=\"text-align: right;\">\n",
       "      <th></th>\n",
       "      <th>gbifID</th>\n",
       "      <th>eventDate</th>\n",
       "      <th>year</th>\n",
       "      <th>month</th>\n",
       "      <th>day</th>\n",
       "      <th>countryCode</th>\n",
       "      <th>locality</th>\n",
       "      <th>taxonID</th>\n",
       "      <th>scientificName</th>\n",
       "      <th>kingdom</th>\n",
       "      <th>...</th>\n",
       "      <th>level2Name</th>\n",
       "      <th>ImageUniqueID</th>\n",
       "      <th>Substrate</th>\n",
       "      <th>rightsHolder</th>\n",
       "      <th>Latitude</th>\n",
       "      <th>Longitude</th>\n",
       "      <th>CoorUncert</th>\n",
       "      <th>Habitat</th>\n",
       "      <th>image_path</th>\n",
       "      <th>full_image_path</th>\n",
       "    </tr>\n",
       "  </thead>\n",
       "  <tbody>\n",
       "    <tr>\n",
       "      <th>0</th>\n",
       "      <td>2238504270</td>\n",
       "      <td>2017-08-20T00:00:00</td>\n",
       "      <td>2017.0</td>\n",
       "      <td>8.0</td>\n",
       "      <td>20.0</td>\n",
       "      <td>DK</td>\n",
       "      <td>Store Dyrehave</td>\n",
       "      <td>20020.0</td>\n",
       "      <td>Russula nigricans (Bull.) Fr.</td>\n",
       "      <td>Fungi</td>\n",
       "      <td>...</td>\n",
       "      <td>Hillerød</td>\n",
       "      <td>2238504270-171705</td>\n",
       "      <td>soil</td>\n",
       "      <td>Dan Ingemann Jensen</td>\n",
       "      <td>55.905585</td>\n",
       "      <td>12.362367</td>\n",
       "      <td>75.0</td>\n",
       "      <td>Deciduous woodland</td>\n",
       "      <td>2238504270-171705.JPG</td>\n",
       "      <td>/Users/milenabiernacka/Desktop/praca-magisters...</td>\n",
       "    </tr>\n",
       "    <tr>\n",
       "      <th>1</th>\n",
       "      <td>2238511676</td>\n",
       "      <td>2017-09-17T00:00:00</td>\n",
       "      <td>2017.0</td>\n",
       "      <td>9.0</td>\n",
       "      <td>17.0</td>\n",
       "      <td>DK</td>\n",
       "      <td>Store Hareskov</td>\n",
       "      <td>17238.0</td>\n",
       "      <td>Mycena haematopus (Pers.) P.Kumm.</td>\n",
       "      <td>Fungi</td>\n",
       "      <td>...</td>\n",
       "      <td>Furesø</td>\n",
       "      <td>2238511676-246956</td>\n",
       "      <td>dead wood (including bark)</td>\n",
       "      <td>Tarquin Netherway</td>\n",
       "      <td>55.769675</td>\n",
       "      <td>12.401108</td>\n",
       "      <td>15.0</td>\n",
       "      <td>Deciduous woodland</td>\n",
       "      <td>2238511676-246956.JPG</td>\n",
       "      <td>/Users/milenabiernacka/Desktop/praca-magisters...</td>\n",
       "    </tr>\n",
       "    <tr>\n",
       "      <th>2</th>\n",
       "      <td>2883271536</td>\n",
       "      <td>2020-10-18T00:00:00</td>\n",
       "      <td>2020.0</td>\n",
       "      <td>10.0</td>\n",
       "      <td>18.0</td>\n",
       "      <td>DK</td>\n",
       "      <td>Lillerød</td>\n",
       "      <td>17289.0</td>\n",
       "      <td>Mycena rosea (Schumach.) Gramberg</td>\n",
       "      <td>Fungi</td>\n",
       "      <td>...</td>\n",
       "      <td>Allerød</td>\n",
       "      <td>2883271536-291057</td>\n",
       "      <td>soil</td>\n",
       "      <td>Dan Ingemann Jensen</td>\n",
       "      <td>55.878946</td>\n",
       "      <td>12.359130</td>\n",
       "      <td>40.0</td>\n",
       "      <td>Deciduous woodland</td>\n",
       "      <td>2883271536-291057.JPG</td>\n",
       "      <td>/Users/milenabiernacka/Desktop/praca-magisters...</td>\n",
       "    </tr>\n",
       "    <tr>\n",
       "      <th>3</th>\n",
       "      <td>2446759186</td>\n",
       "      <td>2019-10-26T00:00:00</td>\n",
       "      <td>2019.0</td>\n",
       "      <td>10.0</td>\n",
       "      <td>26.0</td>\n",
       "      <td>DK</td>\n",
       "      <td>Ollerup</td>\n",
       "      <td>10079.0</td>\n",
       "      <td>Agaricus impudicus (Rea) Pilát</td>\n",
       "      <td>Fungi</td>\n",
       "      <td>...</td>\n",
       "      <td>Svendborg</td>\n",
       "      <td>2446759186-271681</td>\n",
       "      <td>soil</td>\n",
       "      <td>Dan Schou</td>\n",
       "      <td>55.068441</td>\n",
       "      <td>10.515358</td>\n",
       "      <td>50.0</td>\n",
       "      <td>Unmanaged deciduous woodland</td>\n",
       "      <td>2446759186-271681.JPG</td>\n",
       "      <td>/Users/milenabiernacka/Desktop/praca-magisters...</td>\n",
       "    </tr>\n",
       "    <tr>\n",
       "      <th>4</th>\n",
       "      <td>2382321410</td>\n",
       "      <td>2019-08-30T00:00:00</td>\n",
       "      <td>2019.0</td>\n",
       "      <td>8.0</td>\n",
       "      <td>30.0</td>\n",
       "      <td>DK</td>\n",
       "      <td>Dyrehave, Valdemars Slot (inkl Pederskov)</td>\n",
       "      <td>19939.0</td>\n",
       "      <td>Russula chloroides (Krombh.) Bres.</td>\n",
       "      <td>Fungi</td>\n",
       "      <td>...</td>\n",
       "      <td>Svendborg</td>\n",
       "      <td>2382321410-191132</td>\n",
       "      <td>soil</td>\n",
       "      <td>Kirsten Bjørnsson</td>\n",
       "      <td>55.013310</td>\n",
       "      <td>10.644585</td>\n",
       "      <td>75.0</td>\n",
       "      <td>Deciduous woodland</td>\n",
       "      <td>2382321410-191132.JPG</td>\n",
       "      <td>/Users/milenabiernacka/Desktop/praca-magisters...</td>\n",
       "    </tr>\n",
       "  </tbody>\n",
       "</table>\n",
       "<p>5 rows × 34 columns</p>\n",
       "</div>"
      ],
      "text/plain": [
       "       gbifID            eventDate    year  month   day countryCode  \\\n",
       "0  2238504270  2017-08-20T00:00:00  2017.0    8.0  20.0          DK   \n",
       "1  2238511676  2017-09-17T00:00:00  2017.0    9.0  17.0          DK   \n",
       "2  2883271536  2020-10-18T00:00:00  2020.0   10.0  18.0          DK   \n",
       "3  2446759186  2019-10-26T00:00:00  2019.0   10.0  26.0          DK   \n",
       "4  2382321410  2019-08-30T00:00:00  2019.0    8.0  30.0          DK   \n",
       "\n",
       "                                    locality  taxonID  \\\n",
       "0                             Store Dyrehave  20020.0   \n",
       "1                             Store Hareskov  17238.0   \n",
       "2                                   Lillerød  17289.0   \n",
       "3                                    Ollerup  10079.0   \n",
       "4  Dyrehave, Valdemars Slot (inkl Pederskov)  19939.0   \n",
       "\n",
       "                       scientificName kingdom  ... level2Name  \\\n",
       "0       Russula nigricans (Bull.) Fr.   Fungi  ...   Hillerød   \n",
       "1   Mycena haematopus (Pers.) P.Kumm.   Fungi  ...     Furesø   \n",
       "2   Mycena rosea (Schumach.) Gramberg   Fungi  ...    Allerød   \n",
       "3      Agaricus impudicus (Rea) Pilát   Fungi  ...  Svendborg   \n",
       "4  Russula chloroides (Krombh.) Bres.   Fungi  ...  Svendborg   \n",
       "\n",
       "       ImageUniqueID                   Substrate         rightsHolder  \\\n",
       "0  2238504270-171705                        soil  Dan Ingemann Jensen   \n",
       "1  2238511676-246956  dead wood (including bark)    Tarquin Netherway   \n",
       "2  2883271536-291057                        soil  Dan Ingemann Jensen   \n",
       "3  2446759186-271681                        soil            Dan Schou   \n",
       "4  2382321410-191132                        soil    Kirsten Bjørnsson   \n",
       "\n",
       "    Latitude  Longitude  CoorUncert                       Habitat  \\\n",
       "0  55.905585  12.362367        75.0            Deciduous woodland   \n",
       "1  55.769675  12.401108        15.0            Deciduous woodland   \n",
       "2  55.878946  12.359130        40.0            Deciduous woodland   \n",
       "3  55.068441  10.515358        50.0  Unmanaged deciduous woodland   \n",
       "4  55.013310  10.644585        75.0            Deciduous woodland   \n",
       "\n",
       "              image_path                                    full_image_path  \n",
       "0  2238504270-171705.JPG  /Users/milenabiernacka/Desktop/praca-magisters...  \n",
       "1  2238511676-246956.JPG  /Users/milenabiernacka/Desktop/praca-magisters...  \n",
       "2  2883271536-291057.JPG  /Users/milenabiernacka/Desktop/praca-magisters...  \n",
       "3  2446759186-271681.JPG  /Users/milenabiernacka/Desktop/praca-magisters...  \n",
       "4  2382321410-191132.JPG  /Users/milenabiernacka/Desktop/praca-magisters...  \n",
       "\n",
       "[5 rows x 34 columns]"
      ]
     },
     "execution_count": 8,
     "metadata": {},
     "output_type": "execute_result"
    }
   ],
   "source": [
    "metadata_test.head()"
   ]
  },
  {
   "cell_type": "code",
   "execution_count": 9,
   "metadata": {},
   "outputs": [
    {
     "data": {
      "text/plain": [
       "scientificName\n",
       "Mycena galericulata (Scop.) Gray       1099\n",
       "Clitocybe nebularis (Batsch) Quél.     1003\n",
       "Amanita muscaria (L.) Lam., 1783        863\n",
       "Boletus edulis Bull.                    811\n",
       "Amanita rubescens (Pers.) Gray          713\n",
       "                                       ... \n",
       "Agaricus bisporus (J.E.Lange) Pilat      33\n",
       "Russula laeta Jul.Schäff.                32\n",
       "Clitocybe diatreta (Fr.) P.Kumm.         32\n",
       "Clitocybe nitrophila Bon                 29\n",
       "Russula insignis Quél.                   28\n",
       "Name: count, Length: 182, dtype: int64"
      ]
     },
     "execution_count": 9,
     "metadata": {},
     "output_type": "execute_result"
    }
   ],
   "source": [
    "metadata_train['scientificName'].value_counts()"
   ]
  },
  {
   "cell_type": "code",
   "execution_count": 9,
   "metadata": {},
   "outputs": [],
   "source": [
    "from sklearn.preprocessing import LabelEncoder\n",
    "\n",
    "# Zakodowanie etykiet\n",
    "label_encoder = LabelEncoder()\n",
    "metadata_train['class_encoded'] = label_encoder.fit_transform(metadata_train['scientificName'])\n",
    "metadata_test['class_encoded'] = label_encoder.transform(metadata_test['scientificName'])  # Uwaga: używamy transform, nie fit_transform"
   ]
  },
  {
   "cell_type": "code",
   "execution_count": 10,
   "metadata": {},
   "outputs": [
    {
     "data": {
      "text/html": [
       "<div>\n",
       "<style scoped>\n",
       "    .dataframe tbody tr th:only-of-type {\n",
       "        vertical-align: middle;\n",
       "    }\n",
       "\n",
       "    .dataframe tbody tr th {\n",
       "        vertical-align: top;\n",
       "    }\n",
       "\n",
       "    .dataframe thead th {\n",
       "        text-align: right;\n",
       "    }\n",
       "</style>\n",
       "<table border=\"1\" class=\"dataframe\">\n",
       "  <thead>\n",
       "    <tr style=\"text-align: right;\">\n",
       "      <th></th>\n",
       "      <th>gbifID</th>\n",
       "      <th>eventDate</th>\n",
       "      <th>year</th>\n",
       "      <th>month</th>\n",
       "      <th>day</th>\n",
       "      <th>countryCode</th>\n",
       "      <th>locality</th>\n",
       "      <th>taxonID</th>\n",
       "      <th>scientificName</th>\n",
       "      <th>kingdom</th>\n",
       "      <th>...</th>\n",
       "      <th>ImageUniqueID</th>\n",
       "      <th>Substrate</th>\n",
       "      <th>rightsHolder</th>\n",
       "      <th>Latitude</th>\n",
       "      <th>Longitude</th>\n",
       "      <th>CoorUncert</th>\n",
       "      <th>Habitat</th>\n",
       "      <th>image_path</th>\n",
       "      <th>full_image_path</th>\n",
       "      <th>class_encoded</th>\n",
       "    </tr>\n",
       "  </thead>\n",
       "  <tbody>\n",
       "    <tr>\n",
       "      <th>0</th>\n",
       "      <td>2862684394</td>\n",
       "      <td>2020-09-17T00:00:00</td>\n",
       "      <td>2020.0</td>\n",
       "      <td>9.0</td>\n",
       "      <td>17.0</td>\n",
       "      <td>DK</td>\n",
       "      <td>Langesø, Morud</td>\n",
       "      <td>17215.0</td>\n",
       "      <td>Mycena crocata (Schrad.) P.Kumm.</td>\n",
       "      <td>Fungi</td>\n",
       "      <td>...</td>\n",
       "      <td>2862684394-136762</td>\n",
       "      <td>dead wood (including bark)</td>\n",
       "      <td>Uffe Nygaard</td>\n",
       "      <td>55.433810</td>\n",
       "      <td>10.200162</td>\n",
       "      <td>10.0</td>\n",
       "      <td>Unmanaged deciduous woodland</td>\n",
       "      <td>2862684394-136762.JPG</td>\n",
       "      <td>/Users/milenabiernacka/Desktop/studia/magister...</td>\n",
       "      <td>70</td>\n",
       "    </tr>\n",
       "    <tr>\n",
       "      <th>1</th>\n",
       "      <td>2238502117</td>\n",
       "      <td>2017-08-16T00:00:00</td>\n",
       "      <td>2017.0</td>\n",
       "      <td>8.0</td>\n",
       "      <td>16.0</td>\n",
       "      <td>DK</td>\n",
       "      <td>Virum</td>\n",
       "      <td>10057.0</td>\n",
       "      <td>Agaricus augustus Fr.</td>\n",
       "      <td>Fungi</td>\n",
       "      <td>...</td>\n",
       "      <td>2238502117-320693</td>\n",
       "      <td>soil</td>\n",
       "      <td>Michael Hansen</td>\n",
       "      <td>55.800171</td>\n",
       "      <td>12.478571</td>\n",
       "      <td>5.0</td>\n",
       "      <td>garden</td>\n",
       "      <td>2238502117-320693.JPG</td>\n",
       "      <td>/Users/milenabiernacka/Desktop/studia/magister...</td>\n",
       "      <td>1</td>\n",
       "    </tr>\n",
       "    <tr>\n",
       "      <th>2</th>\n",
       "      <td>2818074328</td>\n",
       "      <td>2020-07-23T00:00:00</td>\n",
       "      <td>2020.0</td>\n",
       "      <td>7.0</td>\n",
       "      <td>23.0</td>\n",
       "      <td>DK</td>\n",
       "      <td>Gribskov, Enghavehus</td>\n",
       "      <td>20027.0</td>\n",
       "      <td>Russula olivacea (Schaeff.) Fr.</td>\n",
       "      <td>Fungi</td>\n",
       "      <td>...</td>\n",
       "      <td>2818074328-59948</td>\n",
       "      <td>soil</td>\n",
       "      <td>Anna ploug</td>\n",
       "      <td>55.976322</td>\n",
       "      <td>12.293878</td>\n",
       "      <td>1.0</td>\n",
       "      <td>Mixed woodland (with coniferous and deciduous ...</td>\n",
       "      <td>2818074328-59948.JPG</td>\n",
       "      <td>/Users/milenabiernacka/Desktop/studia/magister...</td>\n",
       "      <td>151</td>\n",
       "    </tr>\n",
       "    <tr>\n",
       "      <th>3</th>\n",
       "      <td>2238560017</td>\n",
       "      <td>2018-09-09T00:00:00</td>\n",
       "      <td>2018.0</td>\n",
       "      <td>9.0</td>\n",
       "      <td>9.0</td>\n",
       "      <td>DK</td>\n",
       "      <td>Færgelunden</td>\n",
       "      <td>11069.0</td>\n",
       "      <td>Boletus edulis Bull.</td>\n",
       "      <td>Fungi</td>\n",
       "      <td>...</td>\n",
       "      <td>2238560017-331396</td>\n",
       "      <td>soil</td>\n",
       "      <td>Henrik Dalgaard</td>\n",
       "      <td>55.840458</td>\n",
       "      <td>12.027228</td>\n",
       "      <td>15.0</td>\n",
       "      <td>Deciduous woodland</td>\n",
       "      <td>2238560017-331396.JPG</td>\n",
       "      <td>/Users/milenabiernacka/Desktop/studia/magister...</td>\n",
       "      <td>40</td>\n",
       "    </tr>\n",
       "    <tr>\n",
       "      <th>4</th>\n",
       "      <td>2237970493</td>\n",
       "      <td>2011-08-20T00:00:00</td>\n",
       "      <td>2011.0</td>\n",
       "      <td>8.0</td>\n",
       "      <td>20.0</td>\n",
       "      <td>DK</td>\n",
       "      <td>Tofte Skov</td>\n",
       "      <td>17278.0</td>\n",
       "      <td>Mycena pseudocorticola Kühner</td>\n",
       "      <td>Fungi</td>\n",
       "      <td>...</td>\n",
       "      <td>2237970493-5168</td>\n",
       "      <td>bark</td>\n",
       "      <td>David Boertmann</td>\n",
       "      <td>56.844840</td>\n",
       "      <td>10.192650</td>\n",
       "      <td>75.0</td>\n",
       "      <td>Forest bog</td>\n",
       "      <td>2237970493-5168.JPG</td>\n",
       "      <td>/Users/milenabiernacka/Desktop/studia/magister...</td>\n",
       "      <td>89</td>\n",
       "    </tr>\n",
       "  </tbody>\n",
       "</table>\n",
       "<p>5 rows × 35 columns</p>\n",
       "</div>"
      ],
      "text/plain": [
       "       gbifID            eventDate    year  month   day countryCode  \\\n",
       "0  2862684394  2020-09-17T00:00:00  2020.0    9.0  17.0          DK   \n",
       "1  2238502117  2017-08-16T00:00:00  2017.0    8.0  16.0          DK   \n",
       "2  2818074328  2020-07-23T00:00:00  2020.0    7.0  23.0          DK   \n",
       "3  2238560017  2018-09-09T00:00:00  2018.0    9.0   9.0          DK   \n",
       "4  2237970493  2011-08-20T00:00:00  2011.0    8.0  20.0          DK   \n",
       "\n",
       "               locality  taxonID                    scientificName kingdom  \\\n",
       "0        Langesø, Morud  17215.0  Mycena crocata (Schrad.) P.Kumm.   Fungi   \n",
       "1                 Virum  10057.0             Agaricus augustus Fr.   Fungi   \n",
       "2  Gribskov, Enghavehus  20027.0   Russula olivacea (Schaeff.) Fr.   Fungi   \n",
       "3           Færgelunden  11069.0              Boletus edulis Bull.   Fungi   \n",
       "4            Tofte Skov  17278.0     Mycena pseudocorticola Kühner   Fungi   \n",
       "\n",
       "   ...      ImageUniqueID                   Substrate     rightsHolder  \\\n",
       "0  ...  2862684394-136762  dead wood (including bark)     Uffe Nygaard   \n",
       "1  ...  2238502117-320693                        soil   Michael Hansen   \n",
       "2  ...   2818074328-59948                        soil       Anna ploug   \n",
       "3  ...  2238560017-331396                        soil  Henrik Dalgaard   \n",
       "4  ...    2237970493-5168                        bark  David Boertmann   \n",
       "\n",
       "    Latitude  Longitude CoorUncert  \\\n",
       "0  55.433810  10.200162       10.0   \n",
       "1  55.800171  12.478571        5.0   \n",
       "2  55.976322  12.293878        1.0   \n",
       "3  55.840458  12.027228       15.0   \n",
       "4  56.844840  10.192650       75.0   \n",
       "\n",
       "                                             Habitat             image_path  \\\n",
       "0                       Unmanaged deciduous woodland  2862684394-136762.JPG   \n",
       "1                                             garden  2238502117-320693.JPG   \n",
       "2  Mixed woodland (with coniferous and deciduous ...   2818074328-59948.JPG   \n",
       "3                                 Deciduous woodland  2238560017-331396.JPG   \n",
       "4                                         Forest bog    2237970493-5168.JPG   \n",
       "\n",
       "                                     full_image_path class_encoded  \n",
       "0  /Users/milenabiernacka/Desktop/studia/magister...            70  \n",
       "1  /Users/milenabiernacka/Desktop/studia/magister...             1  \n",
       "2  /Users/milenabiernacka/Desktop/studia/magister...           151  \n",
       "3  /Users/milenabiernacka/Desktop/studia/magister...            40  \n",
       "4  /Users/milenabiernacka/Desktop/studia/magister...            89  \n",
       "\n",
       "[5 rows x 35 columns]"
      ]
     },
     "execution_count": 10,
     "metadata": {},
     "output_type": "execute_result"
    }
   ],
   "source": [
    "metadata_train.head()"
   ]
  },
  {
   "cell_type": "code",
   "execution_count": 11,
   "metadata": {},
   "outputs": [],
   "source": [
    "# Definicja ImageDataGeneratorów\n",
    "train_datagen = ImageDataGenerator(rescale=1./255)\n",
    "test_datagen = ImageDataGenerator(rescale=1./255)"
   ]
  },
  {
   "cell_type": "code",
   "execution_count": null,
   "metadata": {},
   "outputs": [],
   "source": []
  },
  {
   "cell_type": "code",
   "execution_count": 12,
   "metadata": {},
   "outputs": [
    {
     "data": {
      "text/html": [
       "<div>\n",
       "<style scoped>\n",
       "    .dataframe tbody tr th:only-of-type {\n",
       "        vertical-align: middle;\n",
       "    }\n",
       "\n",
       "    .dataframe tbody tr th {\n",
       "        vertical-align: top;\n",
       "    }\n",
       "\n",
       "    .dataframe thead th {\n",
       "        text-align: right;\n",
       "    }\n",
       "</style>\n",
       "<table border=\"1\" class=\"dataframe\">\n",
       "  <thead>\n",
       "    <tr style=\"text-align: right;\">\n",
       "      <th></th>\n",
       "      <th>gbifID</th>\n",
       "      <th>eventDate</th>\n",
       "      <th>year</th>\n",
       "      <th>month</th>\n",
       "      <th>day</th>\n",
       "      <th>countryCode</th>\n",
       "      <th>locality</th>\n",
       "      <th>taxonID</th>\n",
       "      <th>scientificName</th>\n",
       "      <th>kingdom</th>\n",
       "      <th>...</th>\n",
       "      <th>ImageUniqueID</th>\n",
       "      <th>Substrate</th>\n",
       "      <th>rightsHolder</th>\n",
       "      <th>Latitude</th>\n",
       "      <th>Longitude</th>\n",
       "      <th>CoorUncert</th>\n",
       "      <th>Habitat</th>\n",
       "      <th>image_path</th>\n",
       "      <th>full_image_path</th>\n",
       "      <th>class_encoded</th>\n",
       "    </tr>\n",
       "  </thead>\n",
       "  <tbody>\n",
       "    <tr>\n",
       "      <th>0</th>\n",
       "      <td>2862684394</td>\n",
       "      <td>2020-09-17T00:00:00</td>\n",
       "      <td>2020.0</td>\n",
       "      <td>9.0</td>\n",
       "      <td>17.0</td>\n",
       "      <td>DK</td>\n",
       "      <td>Langesø, Morud</td>\n",
       "      <td>17215.0</td>\n",
       "      <td>Mycena crocata (Schrad.) P.Kumm.</td>\n",
       "      <td>Fungi</td>\n",
       "      <td>...</td>\n",
       "      <td>2862684394-136762</td>\n",
       "      <td>dead wood (including bark)</td>\n",
       "      <td>Uffe Nygaard</td>\n",
       "      <td>55.433810</td>\n",
       "      <td>10.200162</td>\n",
       "      <td>10.0</td>\n",
       "      <td>Unmanaged deciduous woodland</td>\n",
       "      <td>2862684394-136762.JPG</td>\n",
       "      <td>/Users/milenabiernacka/Desktop/studia/magister...</td>\n",
       "      <td>70</td>\n",
       "    </tr>\n",
       "    <tr>\n",
       "      <th>1</th>\n",
       "      <td>2238502117</td>\n",
       "      <td>2017-08-16T00:00:00</td>\n",
       "      <td>2017.0</td>\n",
       "      <td>8.0</td>\n",
       "      <td>16.0</td>\n",
       "      <td>DK</td>\n",
       "      <td>Virum</td>\n",
       "      <td>10057.0</td>\n",
       "      <td>Agaricus augustus Fr.</td>\n",
       "      <td>Fungi</td>\n",
       "      <td>...</td>\n",
       "      <td>2238502117-320693</td>\n",
       "      <td>soil</td>\n",
       "      <td>Michael Hansen</td>\n",
       "      <td>55.800171</td>\n",
       "      <td>12.478571</td>\n",
       "      <td>5.0</td>\n",
       "      <td>garden</td>\n",
       "      <td>2238502117-320693.JPG</td>\n",
       "      <td>/Users/milenabiernacka/Desktop/studia/magister...</td>\n",
       "      <td>1</td>\n",
       "    </tr>\n",
       "    <tr>\n",
       "      <th>2</th>\n",
       "      <td>2818074328</td>\n",
       "      <td>2020-07-23T00:00:00</td>\n",
       "      <td>2020.0</td>\n",
       "      <td>7.0</td>\n",
       "      <td>23.0</td>\n",
       "      <td>DK</td>\n",
       "      <td>Gribskov, Enghavehus</td>\n",
       "      <td>20027.0</td>\n",
       "      <td>Russula olivacea (Schaeff.) Fr.</td>\n",
       "      <td>Fungi</td>\n",
       "      <td>...</td>\n",
       "      <td>2818074328-59948</td>\n",
       "      <td>soil</td>\n",
       "      <td>Anna ploug</td>\n",
       "      <td>55.976322</td>\n",
       "      <td>12.293878</td>\n",
       "      <td>1.0</td>\n",
       "      <td>Mixed woodland (with coniferous and deciduous ...</td>\n",
       "      <td>2818074328-59948.JPG</td>\n",
       "      <td>/Users/milenabiernacka/Desktop/studia/magister...</td>\n",
       "      <td>151</td>\n",
       "    </tr>\n",
       "    <tr>\n",
       "      <th>3</th>\n",
       "      <td>2238560017</td>\n",
       "      <td>2018-09-09T00:00:00</td>\n",
       "      <td>2018.0</td>\n",
       "      <td>9.0</td>\n",
       "      <td>9.0</td>\n",
       "      <td>DK</td>\n",
       "      <td>Færgelunden</td>\n",
       "      <td>11069.0</td>\n",
       "      <td>Boletus edulis Bull.</td>\n",
       "      <td>Fungi</td>\n",
       "      <td>...</td>\n",
       "      <td>2238560017-331396</td>\n",
       "      <td>soil</td>\n",
       "      <td>Henrik Dalgaard</td>\n",
       "      <td>55.840458</td>\n",
       "      <td>12.027228</td>\n",
       "      <td>15.0</td>\n",
       "      <td>Deciduous woodland</td>\n",
       "      <td>2238560017-331396.JPG</td>\n",
       "      <td>/Users/milenabiernacka/Desktop/studia/magister...</td>\n",
       "      <td>40</td>\n",
       "    </tr>\n",
       "    <tr>\n",
       "      <th>4</th>\n",
       "      <td>2237970493</td>\n",
       "      <td>2011-08-20T00:00:00</td>\n",
       "      <td>2011.0</td>\n",
       "      <td>8.0</td>\n",
       "      <td>20.0</td>\n",
       "      <td>DK</td>\n",
       "      <td>Tofte Skov</td>\n",
       "      <td>17278.0</td>\n",
       "      <td>Mycena pseudocorticola Kühner</td>\n",
       "      <td>Fungi</td>\n",
       "      <td>...</td>\n",
       "      <td>2237970493-5168</td>\n",
       "      <td>bark</td>\n",
       "      <td>David Boertmann</td>\n",
       "      <td>56.844840</td>\n",
       "      <td>10.192650</td>\n",
       "      <td>75.0</td>\n",
       "      <td>Forest bog</td>\n",
       "      <td>2237970493-5168.JPG</td>\n",
       "      <td>/Users/milenabiernacka/Desktop/studia/magister...</td>\n",
       "      <td>89</td>\n",
       "    </tr>\n",
       "  </tbody>\n",
       "</table>\n",
       "<p>5 rows × 35 columns</p>\n",
       "</div>"
      ],
      "text/plain": [
       "       gbifID            eventDate    year  month   day countryCode  \\\n",
       "0  2862684394  2020-09-17T00:00:00  2020.0    9.0  17.0          DK   \n",
       "1  2238502117  2017-08-16T00:00:00  2017.0    8.0  16.0          DK   \n",
       "2  2818074328  2020-07-23T00:00:00  2020.0    7.0  23.0          DK   \n",
       "3  2238560017  2018-09-09T00:00:00  2018.0    9.0   9.0          DK   \n",
       "4  2237970493  2011-08-20T00:00:00  2011.0    8.0  20.0          DK   \n",
       "\n",
       "               locality  taxonID                    scientificName kingdom  \\\n",
       "0        Langesø, Morud  17215.0  Mycena crocata (Schrad.) P.Kumm.   Fungi   \n",
       "1                 Virum  10057.0             Agaricus augustus Fr.   Fungi   \n",
       "2  Gribskov, Enghavehus  20027.0   Russula olivacea (Schaeff.) Fr.   Fungi   \n",
       "3           Færgelunden  11069.0              Boletus edulis Bull.   Fungi   \n",
       "4            Tofte Skov  17278.0     Mycena pseudocorticola Kühner   Fungi   \n",
       "\n",
       "   ...      ImageUniqueID                   Substrate     rightsHolder  \\\n",
       "0  ...  2862684394-136762  dead wood (including bark)     Uffe Nygaard   \n",
       "1  ...  2238502117-320693                        soil   Michael Hansen   \n",
       "2  ...   2818074328-59948                        soil       Anna ploug   \n",
       "3  ...  2238560017-331396                        soil  Henrik Dalgaard   \n",
       "4  ...    2237970493-5168                        bark  David Boertmann   \n",
       "\n",
       "    Latitude  Longitude CoorUncert  \\\n",
       "0  55.433810  10.200162       10.0   \n",
       "1  55.800171  12.478571        5.0   \n",
       "2  55.976322  12.293878        1.0   \n",
       "3  55.840458  12.027228       15.0   \n",
       "4  56.844840  10.192650       75.0   \n",
       "\n",
       "                                             Habitat             image_path  \\\n",
       "0                       Unmanaged deciduous woodland  2862684394-136762.JPG   \n",
       "1                                             garden  2238502117-320693.JPG   \n",
       "2  Mixed woodland (with coniferous and deciduous ...   2818074328-59948.JPG   \n",
       "3                                 Deciduous woodland  2238560017-331396.JPG   \n",
       "4                                         Forest bog    2237970493-5168.JPG   \n",
       "\n",
       "                                     full_image_path class_encoded  \n",
       "0  /Users/milenabiernacka/Desktop/studia/magister...            70  \n",
       "1  /Users/milenabiernacka/Desktop/studia/magister...             1  \n",
       "2  /Users/milenabiernacka/Desktop/studia/magister...           151  \n",
       "3  /Users/milenabiernacka/Desktop/studia/magister...            40  \n",
       "4  /Users/milenabiernacka/Desktop/studia/magister...            89  \n",
       "\n",
       "[5 rows x 35 columns]"
      ]
     },
     "execution_count": 12,
     "metadata": {},
     "output_type": "execute_result"
    }
   ],
   "source": [
    "metadata_train.head()"
   ]
  },
  {
   "cell_type": "code",
   "execution_count": 15,
   "metadata": {},
   "outputs": [
    {
     "name": "stdout",
     "output_type": "stream",
     "text": [
      "<class 'pandas.core.frame.DataFrame'>\n",
      "RangeIndex: 32753 entries, 0 to 32752\n",
      "Data columns (total 35 columns):\n",
      " #   Column                Non-Null Count  Dtype  \n",
      "---  ------                --------------  -----  \n",
      " 0   gbifID                32753 non-null  int64  \n",
      " 1   eventDate             32748 non-null  object \n",
      " 2   year                  32748 non-null  float64\n",
      " 3   month                 32748 non-null  float64\n",
      " 4   day                   32748 non-null  float64\n",
      " 5   countryCode           32753 non-null  object \n",
      " 6   locality              32737 non-null  object \n",
      " 7   taxonID               32753 non-null  float64\n",
      " 8   scientificName        32753 non-null  object \n",
      " 9   kingdom               32753 non-null  object \n",
      " 10  phylum                32753 non-null  object \n",
      " 11  class                 32753 non-null  object \n",
      " 12  order                 32753 non-null  object \n",
      " 13  family                32753 non-null  object \n",
      " 14  genus                 32753 non-null  object \n",
      " 15  specificEpithet       32753 non-null  object \n",
      " 16  infraspecificEpithet  0 non-null      float64\n",
      " 17  taxonRank             32753 non-null  object \n",
      " 18  species               32724 non-null  object \n",
      " 19  level0Gid             32652 non-null  object \n",
      " 20  level0Name            32652 non-null  object \n",
      " 21  level1Gid             32652 non-null  object \n",
      " 22  level1Name            32652 non-null  object \n",
      " 23  level2Gid             32644 non-null  object \n",
      " 24  level2Name            32644 non-null  object \n",
      " 25  ImageUniqueID         32753 non-null  object \n",
      " 26  Substrate             32572 non-null  object \n",
      " 27  rightsHolder          32753 non-null  object \n",
      " 28  Latitude              32752 non-null  float64\n",
      " 29  Longitude             32752 non-null  float64\n",
      " 30  CoorUncert            32070 non-null  float64\n",
      " 31  Habitat               32646 non-null  object \n",
      " 32  image_path            32753 non-null  object \n",
      " 33  full_image_path       32753 non-null  object \n",
      " 34  class_encoded         32753 non-null  int64  \n",
      "dtypes: float64(8), int64(2), object(25)\n",
      "memory usage: 8.7+ MB\n"
     ]
    }
   ],
   "source": [
    "metadata_train.info()"
   ]
  },
  {
   "cell_type": "code",
   "execution_count": 16,
   "metadata": {},
   "outputs": [
    {
     "name": "stdout",
     "output_type": "stream",
     "text": [
      "Found 6551 validated image filenames belonging to 182 classes.\n",
      "Found 728 validated image filenames belonging to 182 classes.\n"
     ]
    }
   ],
   "source": [
    "# Utwórz teraz zmniejszone próbki danych\n",
    "train_sample = metadata_train.sample(frac=0.2, random_state=42) \n",
    "test_sample = metadata_test.sample(frac=0.2, random_state=42) \n",
    "\n",
    "# Lista wszystkich unikalnych klas z oryginalnego DataFrame\n",
    "all_classes = sorted(metadata_train['scientificName'].unique().tolist())\n",
    "\n",
    "# Tworzenie generatorów z jawnie określoną listą klas\n",
    "train_generator_sample = train_datagen.flow_from_dataframe(\n",
    "    dataframe=train_sample,\n",
    "    x_col='full_image_path',\n",
    "    y_col='scientificName',\n",
    "    target_size=(224, 224),\n",
    "    batch_size=32,\n",
    "    classes=all_classes,  # Zapewnij listę wszystkich klas\n",
    "    class_mode='categorical')\n",
    "\n",
    "test_generator_sample = test_datagen.flow_from_dataframe(\n",
    "    dataframe=test_sample,\n",
    "    x_col='full_image_path',\n",
    "    y_col='scientificName',\n",
    "    target_size=(224, 224),\n",
    "    batch_size=32,\n",
    "    classes=all_classes,  # Zapewnij listę wszystkich klas\n",
    "    class_mode='categorical')\n"
   ]
  },
  {
   "cell_type": "code",
   "execution_count": 17,
   "metadata": {},
   "outputs": [
    {
     "name": "stdout",
     "output_type": "stream",
     "text": [
      "Epoch 1/10\n",
      "204/204 [==============================] - 290s 1s/step - loss: 4.3618 - accuracy: 0.1088 - val_loss: 18.8836 - val_accuracy: 0.0096\n",
      "Epoch 2/10\n",
      "204/204 [==============================] - 290s 1s/step - loss: 3.5540 - accuracy: 0.1902 - val_loss: 17.1339 - val_accuracy: 0.0165\n",
      "Epoch 3/10\n",
      "204/204 [==============================] - 295s 1s/step - loss: 3.0987 - accuracy: 0.2533 - val_loss: 16.3753 - val_accuracy: 0.0082\n",
      "Epoch 4/10\n",
      "204/204 [==============================] - 302s 1s/step - loss: 2.7222 - accuracy: 0.3069 - val_loss: 27.6825 - val_accuracy: 0.0124\n",
      "Epoch 5/10\n",
      "204/204 [==============================] - 296s 1s/step - loss: 2.4315 - accuracy: 0.3576 - val_loss: 9.5334 - val_accuracy: 0.0234\n",
      "Epoch 6/10\n",
      "204/204 [==============================] - 325s 2s/step - loss: 2.1972 - accuracy: 0.4094 - val_loss: 10.2197 - val_accuracy: 0.0302\n",
      "Epoch 7/10\n",
      "204/204 [==============================] - 354s 2s/step - loss: 1.9539 - accuracy: 0.4617 - val_loss: 10.3734 - val_accuracy: 0.0330\n",
      "Epoch 8/10\n",
      "204/204 [==============================] - 357s 2s/step - loss: 1.7510 - accuracy: 0.5067 - val_loss: 8.8863 - val_accuracy: 0.0357\n",
      "Epoch 9/10\n",
      "204/204 [==============================] - 359s 2s/step - loss: 1.5684 - accuracy: 0.5444 - val_loss: 10.7133 - val_accuracy: 0.0234\n",
      "Epoch 10/10\n",
      "204/204 [==============================] - 373s 2s/step - loss: 1.4157 - accuracy: 0.5831 - val_loss: 11.2848 - val_accuracy: 0.0179\n"
     ]
    },
    {
     "data": {
      "text/plain": [
       "<keras.src.callbacks.History at 0x30c63db10>"
      ]
     },
     "execution_count": 17,
     "metadata": {},
     "output_type": "execute_result"
    }
   ],
   "source": [
    "# Wczytanie MobileNetV2 bez górnych warstw\n",
    "base_model = MobileNetV2(weights='imagenet', include_top=False, input_shape=(224, 224, 3))\n",
    "\n",
    "# Dodanie górnych warstw\n",
    "x = base_model.output\n",
    "x = GlobalAveragePooling2D()(x)\n",
    "x = Dense(1024, activation='relu')(x)\n",
    "predictions = Dense(len(label_encoder.classes_), activation='softmax')(x)  # liczba neuronów odpowiada liczbie klas\n",
    "\n",
    "# Zbudowanie całego modelu\n",
    "model = Model(inputs=base_model.input, outputs=predictions)\n",
    "\n",
    "# Kompilacja modelu\n",
    "model.compile(optimizer='adam', loss='categorical_crossentropy', metrics=['accuracy'])\n",
    "\n",
    "# Trening modelu\n",
    "model.fit(train_generator_sample, validation_data=test_generator_sample, epochs=10, steps_per_epoch=train_generator_sample.samples // train_generator_sample.batch_size,\n",
    "          validation_steps=len(test_generator_sample))"
   ]
  },
  {
   "cell_type": "code",
   "execution_count": 18,
   "metadata": {},
   "outputs": [
    {
     "name": "stdout",
     "output_type": "stream",
     "text": [
      "22/22 [==============================] - 15s 693ms/step - loss: 11.3220 - accuracy: 0.0170\n",
      "Test Loss: 11.322044372558594, Test Accuracy: 0.017045455053448677\n"
     ]
    }
   ],
   "source": [
    "test_loss, test_accuracy = model.evaluate(test_generator_sample, steps=test_generator_sample.samples // test_generator_sample.batch_size)\n",
    "print(f\"Test Loss: {test_loss}, Test Accuracy: {test_accuracy}\")"
   ]
  },
  {
   "cell_type": "code",
   "execution_count": 19,
   "metadata": {},
   "outputs": [
    {
     "name": "stdout",
     "output_type": "stream",
     "text": [
      "23/23 [==============================] - 16s 696ms/step - loss: 11.2848 - accuracy: 0.0179\n"
     ]
    },
    {
     "data": {
      "text/plain": [
       "[11.284760475158691, 0.01785714365541935]"
      ]
     },
     "execution_count": 19,
     "metadata": {},
     "output_type": "execute_result"
    }
   ],
   "source": [
    "model.evaluate(test_generator_sample)"
   ]
  },
  {
   "cell_type": "code",
   "execution_count": 1,
   "metadata": {},
   "outputs": [
    {
     "name": "stdout",
     "output_type": "stream",
     "text": [
      "hi\n"
     ]
    }
   ],
   "source": [
    "print(\"hi\")"
   ]
  },
  {
   "cell_type": "code",
   "execution_count": null,
   "metadata": {},
   "outputs": [],
   "source": []
  },
  {
   "cell_type": "markdown",
   "metadata": {},
   "source": [
    "# Danish Fungi Validation Set"
   ]
  },
  {
   "cell_type": "code",
   "execution_count": 75,
   "metadata": {},
   "outputs": [
    {
     "data": {
      "text/html": [
       "<div>\n",
       "<style scoped>\n",
       "    .dataframe tbody tr th:only-of-type {\n",
       "        vertical-align: middle;\n",
       "    }\n",
       "\n",
       "    .dataframe tbody tr th {\n",
       "        vertical-align: top;\n",
       "    }\n",
       "\n",
       "    .dataframe thead th {\n",
       "        text-align: right;\n",
       "    }\n",
       "</style>\n",
       "<table border=\"1\" class=\"dataframe\">\n",
       "  <thead>\n",
       "    <tr style=\"text-align: right;\">\n",
       "      <th></th>\n",
       "      <th>observationID</th>\n",
       "      <th>month</th>\n",
       "      <th>day</th>\n",
       "      <th>countryCode</th>\n",
       "      <th>locality</th>\n",
       "      <th>taxonID</th>\n",
       "      <th>scientificName</th>\n",
       "      <th>kingdom</th>\n",
       "      <th>phylum</th>\n",
       "      <th>class</th>\n",
       "      <th>...</th>\n",
       "      <th>Substrate</th>\n",
       "      <th>Latitude</th>\n",
       "      <th>Longitude</th>\n",
       "      <th>CoorUncert</th>\n",
       "      <th>Habitat</th>\n",
       "      <th>image_path</th>\n",
       "      <th>filename</th>\n",
       "      <th>MetaSubstrate</th>\n",
       "      <th>class_id</th>\n",
       "      <th>poisonous</th>\n",
       "    </tr>\n",
       "  </thead>\n",
       "  <tbody>\n",
       "    <tr>\n",
       "      <th>0</th>\n",
       "      <td>3008834344</td>\n",
       "      <td>1.0</td>\n",
       "      <td>1.0</td>\n",
       "      <td>DK</td>\n",
       "      <td>Kildevænget</td>\n",
       "      <td>15233</td>\n",
       "      <td>Hypoxylon fragiforme (Pers.) J.Kickx f.</td>\n",
       "      <td>Fungi</td>\n",
       "      <td>Ascomycota</td>\n",
       "      <td>Sordariomycetes</td>\n",
       "      <td>...</td>\n",
       "      <td>NaN</td>\n",
       "      <td>55.946963</td>\n",
       "      <td>12.292050</td>\n",
       "      <td>31.0</td>\n",
       "      <td>Deciduous woodland</td>\n",
       "      <td>0-3008834344.JPG</td>\n",
       "      <td>0-3008834344</td>\n",
       "      <td>wood</td>\n",
       "      <td>702</td>\n",
       "      <td>0</td>\n",
       "    </tr>\n",
       "    <tr>\n",
       "      <th>1</th>\n",
       "      <td>3008834345</td>\n",
       "      <td>1.0</td>\n",
       "      <td>1.0</td>\n",
       "      <td>DK</td>\n",
       "      <td>Kildevænget</td>\n",
       "      <td>14428</td>\n",
       "      <td>Gymnopilus penetrans (Fr.) Murrill</td>\n",
       "      <td>Fungi</td>\n",
       "      <td>Basidiomycota</td>\n",
       "      <td>Agaricomycetes</td>\n",
       "      <td>...</td>\n",
       "      <td>NaN</td>\n",
       "      <td>55.947665</td>\n",
       "      <td>12.287160</td>\n",
       "      <td>16.0</td>\n",
       "      <td>coniferous woodland/plantation</td>\n",
       "      <td>0-3008834345.JPG</td>\n",
       "      <td>0-3008834345</td>\n",
       "      <td>wood</td>\n",
       "      <td>553</td>\n",
       "      <td>0</td>\n",
       "    </tr>\n",
       "    <tr>\n",
       "      <th>2</th>\n",
       "      <td>3008834345</td>\n",
       "      <td>1.0</td>\n",
       "      <td>1.0</td>\n",
       "      <td>DK</td>\n",
       "      <td>Kildevænget</td>\n",
       "      <td>14428</td>\n",
       "      <td>Gymnopilus penetrans (Fr.) Murrill</td>\n",
       "      <td>Fungi</td>\n",
       "      <td>Basidiomycota</td>\n",
       "      <td>Agaricomycetes</td>\n",
       "      <td>...</td>\n",
       "      <td>NaN</td>\n",
       "      <td>55.947665</td>\n",
       "      <td>12.287160</td>\n",
       "      <td>16.0</td>\n",
       "      <td>coniferous woodland/plantation</td>\n",
       "      <td>1-3008834345.JPG</td>\n",
       "      <td>1-3008834345</td>\n",
       "      <td>wood</td>\n",
       "      <td>553</td>\n",
       "      <td>0</td>\n",
       "    </tr>\n",
       "    <tr>\n",
       "      <th>3</th>\n",
       "      <td>3008834353</td>\n",
       "      <td>1.0</td>\n",
       "      <td>1.0</td>\n",
       "      <td>DK</td>\n",
       "      <td>Norup, Vammen</td>\n",
       "      <td>12226</td>\n",
       "      <td>Cordyceps militaris (L.) Link</td>\n",
       "      <td>Fungi</td>\n",
       "      <td>Ascomycota</td>\n",
       "      <td>Sordariomycetes</td>\n",
       "      <td>...</td>\n",
       "      <td>mosses</td>\n",
       "      <td>56.529817</td>\n",
       "      <td>9.550255</td>\n",
       "      <td>30.0</td>\n",
       "      <td>coniferous woodland/plantation</td>\n",
       "      <td>0-3008834353.JPG</td>\n",
       "      <td>0-3008834353</td>\n",
       "      <td>mosses</td>\n",
       "      <td>267</td>\n",
       "      <td>0</td>\n",
       "    </tr>\n",
       "    <tr>\n",
       "      <th>4</th>\n",
       "      <td>3008834353</td>\n",
       "      <td>1.0</td>\n",
       "      <td>1.0</td>\n",
       "      <td>DK</td>\n",
       "      <td>Norup, Vammen</td>\n",
       "      <td>12226</td>\n",
       "      <td>Cordyceps militaris (L.) Link</td>\n",
       "      <td>Fungi</td>\n",
       "      <td>Ascomycota</td>\n",
       "      <td>Sordariomycetes</td>\n",
       "      <td>...</td>\n",
       "      <td>mosses</td>\n",
       "      <td>56.529817</td>\n",
       "      <td>9.550255</td>\n",
       "      <td>30.0</td>\n",
       "      <td>coniferous woodland/plantation</td>\n",
       "      <td>1-3008834353.JPG</td>\n",
       "      <td>1-3008834353</td>\n",
       "      <td>mosses</td>\n",
       "      <td>267</td>\n",
       "      <td>0</td>\n",
       "    </tr>\n",
       "  </tbody>\n",
       "</table>\n",
       "<p>5 rows × 32 columns</p>\n",
       "</div>"
      ],
      "text/plain": [
       "   observationID  month  day countryCode       locality  taxonID  \\\n",
       "0     3008834344    1.0  1.0          DK    Kildevænget    15233   \n",
       "1     3008834345    1.0  1.0          DK    Kildevænget    14428   \n",
       "2     3008834345    1.0  1.0          DK    Kildevænget    14428   \n",
       "3     3008834353    1.0  1.0          DK  Norup, Vammen    12226   \n",
       "4     3008834353    1.0  1.0          DK  Norup, Vammen    12226   \n",
       "\n",
       "                            scientificName kingdom         phylum  \\\n",
       "0  Hypoxylon fragiforme (Pers.) J.Kickx f.   Fungi     Ascomycota   \n",
       "1       Gymnopilus penetrans (Fr.) Murrill   Fungi  Basidiomycota   \n",
       "2       Gymnopilus penetrans (Fr.) Murrill   Fungi  Basidiomycota   \n",
       "3            Cordyceps militaris (L.) Link   Fungi     Ascomycota   \n",
       "4            Cordyceps militaris (L.) Link   Fungi     Ascomycota   \n",
       "\n",
       "             class  ... Substrate   Latitude  Longitude CoorUncert  \\\n",
       "0  Sordariomycetes  ...       NaN  55.946963  12.292050       31.0   \n",
       "1   Agaricomycetes  ...       NaN  55.947665  12.287160       16.0   \n",
       "2   Agaricomycetes  ...       NaN  55.947665  12.287160       16.0   \n",
       "3  Sordariomycetes  ...    mosses  56.529817   9.550255       30.0   \n",
       "4  Sordariomycetes  ...    mosses  56.529817   9.550255       30.0   \n",
       "\n",
       "                          Habitat        image_path      filename  \\\n",
       "0              Deciduous woodland  0-3008834344.JPG  0-3008834344   \n",
       "1  coniferous woodland/plantation  0-3008834345.JPG  0-3008834345   \n",
       "2  coniferous woodland/plantation  1-3008834345.JPG  1-3008834345   \n",
       "3  coniferous woodland/plantation  0-3008834353.JPG  0-3008834353   \n",
       "4  coniferous woodland/plantation  1-3008834353.JPG  1-3008834353   \n",
       "\n",
       "  MetaSubstrate class_id poisonous  \n",
       "0          wood      702         0  \n",
       "1          wood      553         0  \n",
       "2          wood      553         0  \n",
       "3        mosses      267         0  \n",
       "4        mosses      267         0  \n",
       "\n",
       "[5 rows x 32 columns]"
      ]
     },
     "execution_count": 75,
     "metadata": {},
     "output_type": "execute_result"
    }
   ],
   "source": [
    "metadata_path = '/Users/milenabiernacka/Desktop/praca-magisterska/DF/validation/FungiCLEF2023_val_metadata_PRODUCTION.csv'\n",
    "photos_path = '/Users/milenabiernacka/Desktop/praca-magisterska/DF/validation/DF21_300'\n",
    "\n",
    "metadata = pd.read_csv(metadata_path)\n",
    "metadata.head()"
   ]
  },
  {
   "cell_type": "code",
   "execution_count": 76,
   "metadata": {},
   "outputs": [],
   "source": [
    "metadata['full_image_path'] = metadata['image_path'].apply(lambda x: os.path.join(photos_path, x))"
   ]
  },
  {
   "cell_type": "code",
   "execution_count": 77,
   "metadata": {},
   "outputs": [
    {
     "data": {
      "text/html": [
       "<div>\n",
       "<style scoped>\n",
       "    .dataframe tbody tr th:only-of-type {\n",
       "        vertical-align: middle;\n",
       "    }\n",
       "\n",
       "    .dataframe tbody tr th {\n",
       "        vertical-align: top;\n",
       "    }\n",
       "\n",
       "    .dataframe thead th {\n",
       "        text-align: right;\n",
       "    }\n",
       "</style>\n",
       "<table border=\"1\" class=\"dataframe\">\n",
       "  <thead>\n",
       "    <tr style=\"text-align: right;\">\n",
       "      <th></th>\n",
       "      <th>observationID</th>\n",
       "      <th>month</th>\n",
       "      <th>day</th>\n",
       "      <th>countryCode</th>\n",
       "      <th>locality</th>\n",
       "      <th>taxonID</th>\n",
       "      <th>scientificName</th>\n",
       "      <th>kingdom</th>\n",
       "      <th>phylum</th>\n",
       "      <th>class</th>\n",
       "      <th>...</th>\n",
       "      <th>Latitude</th>\n",
       "      <th>Longitude</th>\n",
       "      <th>CoorUncert</th>\n",
       "      <th>Habitat</th>\n",
       "      <th>image_path</th>\n",
       "      <th>filename</th>\n",
       "      <th>MetaSubstrate</th>\n",
       "      <th>class_id</th>\n",
       "      <th>poisonous</th>\n",
       "      <th>full_image_path</th>\n",
       "    </tr>\n",
       "  </thead>\n",
       "  <tbody>\n",
       "    <tr>\n",
       "      <th>0</th>\n",
       "      <td>3008834344</td>\n",
       "      <td>1.0</td>\n",
       "      <td>1.0</td>\n",
       "      <td>DK</td>\n",
       "      <td>Kildevænget</td>\n",
       "      <td>15233</td>\n",
       "      <td>Hypoxylon fragiforme (Pers.) J.Kickx f.</td>\n",
       "      <td>Fungi</td>\n",
       "      <td>Ascomycota</td>\n",
       "      <td>Sordariomycetes</td>\n",
       "      <td>...</td>\n",
       "      <td>55.946963</td>\n",
       "      <td>12.292050</td>\n",
       "      <td>31.0</td>\n",
       "      <td>Deciduous woodland</td>\n",
       "      <td>0-3008834344.JPG</td>\n",
       "      <td>0-3008834344</td>\n",
       "      <td>wood</td>\n",
       "      <td>702</td>\n",
       "      <td>0</td>\n",
       "      <td>/Users/milenabiernacka/Desktop/praca-magisters...</td>\n",
       "    </tr>\n",
       "    <tr>\n",
       "      <th>1</th>\n",
       "      <td>3008834345</td>\n",
       "      <td>1.0</td>\n",
       "      <td>1.0</td>\n",
       "      <td>DK</td>\n",
       "      <td>Kildevænget</td>\n",
       "      <td>14428</td>\n",
       "      <td>Gymnopilus penetrans (Fr.) Murrill</td>\n",
       "      <td>Fungi</td>\n",
       "      <td>Basidiomycota</td>\n",
       "      <td>Agaricomycetes</td>\n",
       "      <td>...</td>\n",
       "      <td>55.947665</td>\n",
       "      <td>12.287160</td>\n",
       "      <td>16.0</td>\n",
       "      <td>coniferous woodland/plantation</td>\n",
       "      <td>0-3008834345.JPG</td>\n",
       "      <td>0-3008834345</td>\n",
       "      <td>wood</td>\n",
       "      <td>553</td>\n",
       "      <td>0</td>\n",
       "      <td>/Users/milenabiernacka/Desktop/praca-magisters...</td>\n",
       "    </tr>\n",
       "    <tr>\n",
       "      <th>2</th>\n",
       "      <td>3008834345</td>\n",
       "      <td>1.0</td>\n",
       "      <td>1.0</td>\n",
       "      <td>DK</td>\n",
       "      <td>Kildevænget</td>\n",
       "      <td>14428</td>\n",
       "      <td>Gymnopilus penetrans (Fr.) Murrill</td>\n",
       "      <td>Fungi</td>\n",
       "      <td>Basidiomycota</td>\n",
       "      <td>Agaricomycetes</td>\n",
       "      <td>...</td>\n",
       "      <td>55.947665</td>\n",
       "      <td>12.287160</td>\n",
       "      <td>16.0</td>\n",
       "      <td>coniferous woodland/plantation</td>\n",
       "      <td>1-3008834345.JPG</td>\n",
       "      <td>1-3008834345</td>\n",
       "      <td>wood</td>\n",
       "      <td>553</td>\n",
       "      <td>0</td>\n",
       "      <td>/Users/milenabiernacka/Desktop/praca-magisters...</td>\n",
       "    </tr>\n",
       "    <tr>\n",
       "      <th>3</th>\n",
       "      <td>3008834353</td>\n",
       "      <td>1.0</td>\n",
       "      <td>1.0</td>\n",
       "      <td>DK</td>\n",
       "      <td>Norup, Vammen</td>\n",
       "      <td>12226</td>\n",
       "      <td>Cordyceps militaris (L.) Link</td>\n",
       "      <td>Fungi</td>\n",
       "      <td>Ascomycota</td>\n",
       "      <td>Sordariomycetes</td>\n",
       "      <td>...</td>\n",
       "      <td>56.529817</td>\n",
       "      <td>9.550255</td>\n",
       "      <td>30.0</td>\n",
       "      <td>coniferous woodland/plantation</td>\n",
       "      <td>0-3008834353.JPG</td>\n",
       "      <td>0-3008834353</td>\n",
       "      <td>mosses</td>\n",
       "      <td>267</td>\n",
       "      <td>0</td>\n",
       "      <td>/Users/milenabiernacka/Desktop/praca-magisters...</td>\n",
       "    </tr>\n",
       "    <tr>\n",
       "      <th>4</th>\n",
       "      <td>3008834353</td>\n",
       "      <td>1.0</td>\n",
       "      <td>1.0</td>\n",
       "      <td>DK</td>\n",
       "      <td>Norup, Vammen</td>\n",
       "      <td>12226</td>\n",
       "      <td>Cordyceps militaris (L.) Link</td>\n",
       "      <td>Fungi</td>\n",
       "      <td>Ascomycota</td>\n",
       "      <td>Sordariomycetes</td>\n",
       "      <td>...</td>\n",
       "      <td>56.529817</td>\n",
       "      <td>9.550255</td>\n",
       "      <td>30.0</td>\n",
       "      <td>coniferous woodland/plantation</td>\n",
       "      <td>1-3008834353.JPG</td>\n",
       "      <td>1-3008834353</td>\n",
       "      <td>mosses</td>\n",
       "      <td>267</td>\n",
       "      <td>0</td>\n",
       "      <td>/Users/milenabiernacka/Desktop/praca-magisters...</td>\n",
       "    </tr>\n",
       "  </tbody>\n",
       "</table>\n",
       "<p>5 rows × 33 columns</p>\n",
       "</div>"
      ],
      "text/plain": [
       "   observationID  month  day countryCode       locality  taxonID  \\\n",
       "0     3008834344    1.0  1.0          DK    Kildevænget    15233   \n",
       "1     3008834345    1.0  1.0          DK    Kildevænget    14428   \n",
       "2     3008834345    1.0  1.0          DK    Kildevænget    14428   \n",
       "3     3008834353    1.0  1.0          DK  Norup, Vammen    12226   \n",
       "4     3008834353    1.0  1.0          DK  Norup, Vammen    12226   \n",
       "\n",
       "                            scientificName kingdom         phylum  \\\n",
       "0  Hypoxylon fragiforme (Pers.) J.Kickx f.   Fungi     Ascomycota   \n",
       "1       Gymnopilus penetrans (Fr.) Murrill   Fungi  Basidiomycota   \n",
       "2       Gymnopilus penetrans (Fr.) Murrill   Fungi  Basidiomycota   \n",
       "3            Cordyceps militaris (L.) Link   Fungi     Ascomycota   \n",
       "4            Cordyceps militaris (L.) Link   Fungi     Ascomycota   \n",
       "\n",
       "             class  ...   Latitude  Longitude CoorUncert  \\\n",
       "0  Sordariomycetes  ...  55.946963  12.292050       31.0   \n",
       "1   Agaricomycetes  ...  55.947665  12.287160       16.0   \n",
       "2   Agaricomycetes  ...  55.947665  12.287160       16.0   \n",
       "3  Sordariomycetes  ...  56.529817   9.550255       30.0   \n",
       "4  Sordariomycetes  ...  56.529817   9.550255       30.0   \n",
       "\n",
       "                          Habitat        image_path      filename  \\\n",
       "0              Deciduous woodland  0-3008834344.JPG  0-3008834344   \n",
       "1  coniferous woodland/plantation  0-3008834345.JPG  0-3008834345   \n",
       "2  coniferous woodland/plantation  1-3008834345.JPG  1-3008834345   \n",
       "3  coniferous woodland/plantation  0-3008834353.JPG  0-3008834353   \n",
       "4  coniferous woodland/plantation  1-3008834353.JPG  1-3008834353   \n",
       "\n",
       "  MetaSubstrate class_id poisonous  \\\n",
       "0          wood      702         0   \n",
       "1          wood      553         0   \n",
       "2          wood      553         0   \n",
       "3        mosses      267         0   \n",
       "4        mosses      267         0   \n",
       "\n",
       "                                     full_image_path  \n",
       "0  /Users/milenabiernacka/Desktop/praca-magisters...  \n",
       "1  /Users/milenabiernacka/Desktop/praca-magisters...  \n",
       "2  /Users/milenabiernacka/Desktop/praca-magisters...  \n",
       "3  /Users/milenabiernacka/Desktop/praca-magisters...  \n",
       "4  /Users/milenabiernacka/Desktop/praca-magisters...  \n",
       "\n",
       "[5 rows x 33 columns]"
      ]
     },
     "execution_count": 77,
     "metadata": {},
     "output_type": "execute_result"
    }
   ],
   "source": [
    "metadata.head()"
   ]
  },
  {
   "cell_type": "code",
   "execution_count": 78,
   "metadata": {},
   "outputs": [
    {
     "name": "stdout",
     "output_type": "stream",
     "text": [
      "<class 'pandas.core.frame.DataFrame'>\n",
      "RangeIndex: 60832 entries, 0 to 60831\n",
      "Data columns (total 33 columns):\n",
      " #   Column           Non-Null Count  Dtype  \n",
      "---  ------           --------------  -----  \n",
      " 0   observationID    60832 non-null  int64  \n",
      " 1   month            60832 non-null  float64\n",
      " 2   day              60832 non-null  float64\n",
      " 3   countryCode      60832 non-null  object \n",
      " 4   locality         60813 non-null  object \n",
      " 5   taxonID          60832 non-null  int64  \n",
      " 6   scientificName   60832 non-null  object \n",
      " 7   kingdom          60832 non-null  object \n",
      " 8   phylum           60832 non-null  object \n",
      " 9   class            60787 non-null  object \n",
      " 10  order            60664 non-null  object \n",
      " 11  family           60394 non-null  object \n",
      " 12  genus            60832 non-null  object \n",
      " 13  specificEpithet  60832 non-null  object \n",
      " 14  taxonRank        60832 non-null  object \n",
      " 15  species          60832 non-null  object \n",
      " 16  level0Gid        60639 non-null  object \n",
      " 17  level0Name       60639 non-null  object \n",
      " 18  level1Gid        60639 non-null  object \n",
      " 19  level1Name       60639 non-null  object \n",
      " 20  level2Gid        60638 non-null  object \n",
      " 21  level2Name       60638 non-null  object \n",
      " 22  Substrate        60504 non-null  object \n",
      " 23  Latitude         60832 non-null  float64\n",
      " 24  Longitude        60832 non-null  float64\n",
      " 25  CoorUncert       60821 non-null  float64\n",
      " 26  Habitat          60817 non-null  object \n",
      " 27  image_path       60832 non-null  object \n",
      " 28  filename         60832 non-null  object \n",
      " 29  MetaSubstrate    60824 non-null  object \n",
      " 30  class_id         60832 non-null  int64  \n",
      " 31  poisonous        60832 non-null  int64  \n",
      " 32  full_image_path  60832 non-null  object \n",
      "dtypes: float64(5), int64(4), object(24)\n",
      "memory usage: 15.3+ MB\n"
     ]
    }
   ],
   "source": [
    "metadata.info()"
   ]
  },
  {
   "cell_type": "code",
   "execution_count": 79,
   "metadata": {},
   "outputs": [],
   "source": [
    "half_metadata = metadata.sample(frac=0.2, random_state=42)"
   ]
  },
  {
   "cell_type": "code",
   "execution_count": 80,
   "metadata": {},
   "outputs": [
    {
     "data": {
      "text/html": [
       "<div>\n",
       "<style scoped>\n",
       "    .dataframe tbody tr th:only-of-type {\n",
       "        vertical-align: middle;\n",
       "    }\n",
       "\n",
       "    .dataframe tbody tr th {\n",
       "        vertical-align: top;\n",
       "    }\n",
       "\n",
       "    .dataframe thead th {\n",
       "        text-align: right;\n",
       "    }\n",
       "</style>\n",
       "<table border=\"1\" class=\"dataframe\">\n",
       "  <thead>\n",
       "    <tr style=\"text-align: right;\">\n",
       "      <th></th>\n",
       "      <th>observationID</th>\n",
       "      <th>month</th>\n",
       "      <th>day</th>\n",
       "      <th>countryCode</th>\n",
       "      <th>locality</th>\n",
       "      <th>taxonID</th>\n",
       "      <th>scientificName</th>\n",
       "      <th>kingdom</th>\n",
       "      <th>phylum</th>\n",
       "      <th>class</th>\n",
       "      <th>...</th>\n",
       "      <th>Latitude</th>\n",
       "      <th>Longitude</th>\n",
       "      <th>CoorUncert</th>\n",
       "      <th>Habitat</th>\n",
       "      <th>image_path</th>\n",
       "      <th>filename</th>\n",
       "      <th>MetaSubstrate</th>\n",
       "      <th>class_id</th>\n",
       "      <th>poisonous</th>\n",
       "      <th>full_image_path</th>\n",
       "    </tr>\n",
       "  </thead>\n",
       "  <tbody>\n",
       "    <tr>\n",
       "      <th>48791</th>\n",
       "      <td>3052841406</td>\n",
       "      <td>3.0</td>\n",
       "      <td>3.0</td>\n",
       "      <td>DK</td>\n",
       "      <td>Filsø Gårde</td>\n",
       "      <td>13952</td>\n",
       "      <td>Exidia glandulosa (Bull.) Fr.</td>\n",
       "      <td>Fungi</td>\n",
       "      <td>Basidiomycota</td>\n",
       "      <td>Agaricomycetes</td>\n",
       "      <td>...</td>\n",
       "      <td>56.245372</td>\n",
       "      <td>8.412633</td>\n",
       "      <td>6.0</td>\n",
       "      <td>Unmanaged deciduous woodland</td>\n",
       "      <td>0-3052841406.JPG</td>\n",
       "      <td>0-3052841406</td>\n",
       "      <td>wood</td>\n",
       "      <td>468</td>\n",
       "      <td>0</td>\n",
       "      <td>/Users/milenabiernacka/Desktop/praca-magisters...</td>\n",
       "    </tr>\n",
       "    <tr>\n",
       "      <th>14384</th>\n",
       "      <td>3386480353</td>\n",
       "      <td>10.0</td>\n",
       "      <td>12.0</td>\n",
       "      <td>DK</td>\n",
       "      <td>Overlund</td>\n",
       "      <td>15850</td>\n",
       "      <td>Lactarius glyciosmus (Fr.) Fr.</td>\n",
       "      <td>Fungi</td>\n",
       "      <td>Basidiomycota</td>\n",
       "      <td>Agaricomycetes</td>\n",
       "      <td>...</td>\n",
       "      <td>56.458939</td>\n",
       "      <td>9.441329</td>\n",
       "      <td>28.0</td>\n",
       "      <td>natural grassland</td>\n",
       "      <td>0-3386480353.JPG</td>\n",
       "      <td>0-3386480353</td>\n",
       "      <td>jord</td>\n",
       "      <td>774</td>\n",
       "      <td>0</td>\n",
       "      <td>/Users/milenabiernacka/Desktop/praca-magisters...</td>\n",
       "    </tr>\n",
       "    <tr>\n",
       "      <th>11713</th>\n",
       "      <td>3399806330</td>\n",
       "      <td>10.0</td>\n",
       "      <td>30.0</td>\n",
       "      <td>DK</td>\n",
       "      <td>Kulebjerg Overdrev</td>\n",
       "      <td>16660</td>\n",
       "      <td>Macrolepiota procera (Scop.) Singer</td>\n",
       "      <td>Fungi</td>\n",
       "      <td>Basidiomycota</td>\n",
       "      <td>Agaricomycetes</td>\n",
       "      <td>...</td>\n",
       "      <td>55.543602</td>\n",
       "      <td>11.439074</td>\n",
       "      <td>25.0</td>\n",
       "      <td>natural grassland</td>\n",
       "      <td>1-3399806330.JPG</td>\n",
       "      <td>1-3399806330</td>\n",
       "      <td>jord</td>\n",
       "      <td>-1</td>\n",
       "      <td>0</td>\n",
       "      <td>/Users/milenabiernacka/Desktop/praca-magisters...</td>\n",
       "    </tr>\n",
       "    <tr>\n",
       "      <th>3803</th>\n",
       "      <td>3091023316</td>\n",
       "      <td>4.0</td>\n",
       "      <td>22.0</td>\n",
       "      <td>DK</td>\n",
       "      <td>Greve Strand</td>\n",
       "      <td>69190</td>\n",
       "      <td>Gemmina gemmarum (Boud.) Raitv.</td>\n",
       "      <td>Fungi</td>\n",
       "      <td>Ascomycota</td>\n",
       "      <td>Leotiomycetes</td>\n",
       "      <td>...</td>\n",
       "      <td>55.593711</td>\n",
       "      <td>12.294706</td>\n",
       "      <td>65.0</td>\n",
       "      <td>Thorny scrubland</td>\n",
       "      <td>5-3091023316.JPG</td>\n",
       "      <td>5-3091023316</td>\n",
       "      <td>plant material</td>\n",
       "      <td>-1</td>\n",
       "      <td>0</td>\n",
       "      <td>/Users/milenabiernacka/Desktop/praca-magisters...</td>\n",
       "    </tr>\n",
       "    <tr>\n",
       "      <th>37397</th>\n",
       "      <td>3336954336</td>\n",
       "      <td>8.0</td>\n",
       "      <td>18.0</td>\n",
       "      <td>DK</td>\n",
       "      <td>Ahl Plantage</td>\n",
       "      <td>15908</td>\n",
       "      <td>Lactarius quietus (Fr.) Fr.</td>\n",
       "      <td>Fungi</td>\n",
       "      <td>Basidiomycota</td>\n",
       "      <td>Agaricomycetes</td>\n",
       "      <td>...</td>\n",
       "      <td>56.179937</td>\n",
       "      <td>10.640115</td>\n",
       "      <td>10.0</td>\n",
       "      <td>bog</td>\n",
       "      <td>1-3336954336.JPG</td>\n",
       "      <td>1-3336954336</td>\n",
       "      <td>jord</td>\n",
       "      <td>787</td>\n",
       "      <td>0</td>\n",
       "      <td>/Users/milenabiernacka/Desktop/praca-magisters...</td>\n",
       "    </tr>\n",
       "  </tbody>\n",
       "</table>\n",
       "<p>5 rows × 33 columns</p>\n",
       "</div>"
      ],
      "text/plain": [
       "       observationID  month   day countryCode            locality  taxonID  \\\n",
       "48791     3052841406    3.0   3.0          DK         Filsø Gårde    13952   \n",
       "14384     3386480353   10.0  12.0          DK            Overlund    15850   \n",
       "11713     3399806330   10.0  30.0          DK  Kulebjerg Overdrev    16660   \n",
       "3803      3091023316    4.0  22.0          DK        Greve Strand    69190   \n",
       "37397     3336954336    8.0  18.0          DK        Ahl Plantage    15908   \n",
       "\n",
       "                            scientificName kingdom         phylum  \\\n",
       "48791        Exidia glandulosa (Bull.) Fr.   Fungi  Basidiomycota   \n",
       "14384       Lactarius glyciosmus (Fr.) Fr.   Fungi  Basidiomycota   \n",
       "11713  Macrolepiota procera (Scop.) Singer   Fungi  Basidiomycota   \n",
       "3803       Gemmina gemmarum (Boud.) Raitv.   Fungi     Ascomycota   \n",
       "37397          Lactarius quietus (Fr.) Fr.   Fungi  Basidiomycota   \n",
       "\n",
       "                class  ...   Latitude  Longitude CoorUncert  \\\n",
       "48791  Agaricomycetes  ...  56.245372   8.412633        6.0   \n",
       "14384  Agaricomycetes  ...  56.458939   9.441329       28.0   \n",
       "11713  Agaricomycetes  ...  55.543602  11.439074       25.0   \n",
       "3803    Leotiomycetes  ...  55.593711  12.294706       65.0   \n",
       "37397  Agaricomycetes  ...  56.179937  10.640115       10.0   \n",
       "\n",
       "                            Habitat        image_path      filename  \\\n",
       "48791  Unmanaged deciduous woodland  0-3052841406.JPG  0-3052841406   \n",
       "14384             natural grassland  0-3386480353.JPG  0-3386480353   \n",
       "11713             natural grassland  1-3399806330.JPG  1-3399806330   \n",
       "3803               Thorny scrubland  5-3091023316.JPG  5-3091023316   \n",
       "37397                           bog  1-3336954336.JPG  1-3336954336   \n",
       "\n",
       "        MetaSubstrate class_id poisonous  \\\n",
       "48791            wood      468         0   \n",
       "14384            jord      774         0   \n",
       "11713            jord       -1         0   \n",
       "3803   plant material       -1         0   \n",
       "37397            jord      787         0   \n",
       "\n",
       "                                         full_image_path  \n",
       "48791  /Users/milenabiernacka/Desktop/praca-magisters...  \n",
       "14384  /Users/milenabiernacka/Desktop/praca-magisters...  \n",
       "11713  /Users/milenabiernacka/Desktop/praca-magisters...  \n",
       "3803   /Users/milenabiernacka/Desktop/praca-magisters...  \n",
       "37397  /Users/milenabiernacka/Desktop/praca-magisters...  \n",
       "\n",
       "[5 rows x 33 columns]"
      ]
     },
     "execution_count": 80,
     "metadata": {},
     "output_type": "execute_result"
    }
   ],
   "source": [
    "half_metadata.head()"
   ]
  },
  {
   "cell_type": "code",
   "execution_count": 81,
   "metadata": {},
   "outputs": [
    {
     "name": "stdout",
     "output_type": "stream",
     "text": [
      "<class 'pandas.core.frame.DataFrame'>\n",
      "Index: 12166 entries, 48791 to 4199\n",
      "Data columns (total 33 columns):\n",
      " #   Column           Non-Null Count  Dtype  \n",
      "---  ------           --------------  -----  \n",
      " 0   observationID    12166 non-null  int64  \n",
      " 1   month            12166 non-null  float64\n",
      " 2   day              12166 non-null  float64\n",
      " 3   countryCode      12166 non-null  object \n",
      " 4   locality         12164 non-null  object \n",
      " 5   taxonID          12166 non-null  int64  \n",
      " 6   scientificName   12166 non-null  object \n",
      " 7   kingdom          12166 non-null  object \n",
      " 8   phylum           12166 non-null  object \n",
      " 9   class            12154 non-null  object \n",
      " 10  order            12123 non-null  object \n",
      " 11  family           12063 non-null  object \n",
      " 12  genus            12166 non-null  object \n",
      " 13  specificEpithet  12166 non-null  object \n",
      " 14  taxonRank        12166 non-null  object \n",
      " 15  species          12166 non-null  object \n",
      " 16  level0Gid        12123 non-null  object \n",
      " 17  level0Name       12123 non-null  object \n",
      " 18  level1Gid        12123 non-null  object \n",
      " 19  level1Name       12123 non-null  object \n",
      " 20  level2Gid        12123 non-null  object \n",
      " 21  level2Name       12123 non-null  object \n",
      " 22  Substrate        12098 non-null  object \n",
      " 23  Latitude         12166 non-null  float64\n",
      " 24  Longitude        12166 non-null  float64\n",
      " 25  CoorUncert       12166 non-null  float64\n",
      " 26  Habitat          12165 non-null  object \n",
      " 27  image_path       12166 non-null  object \n",
      " 28  filename         12166 non-null  object \n",
      " 29  MetaSubstrate    12166 non-null  object \n",
      " 30  class_id         12166 non-null  int64  \n",
      " 31  poisonous        12166 non-null  int64  \n",
      " 32  full_image_path  12166 non-null  object \n",
      "dtypes: float64(5), int64(4), object(24)\n",
      "memory usage: 3.2+ MB\n"
     ]
    }
   ],
   "source": [
    "half_metadata.info()"
   ]
  },
  {
   "cell_type": "code",
   "execution_count": 82,
   "metadata": {},
   "outputs": [
    {
     "data": {
      "text/html": [
       "<div>\n",
       "<style scoped>\n",
       "    .dataframe tbody tr th:only-of-type {\n",
       "        vertical-align: middle;\n",
       "    }\n",
       "\n",
       "    .dataframe tbody tr th {\n",
       "        vertical-align: top;\n",
       "    }\n",
       "\n",
       "    .dataframe thead th {\n",
       "        text-align: right;\n",
       "    }\n",
       "</style>\n",
       "<table border=\"1\" class=\"dataframe\">\n",
       "  <thead>\n",
       "    <tr style=\"text-align: right;\">\n",
       "      <th></th>\n",
       "      <th>species</th>\n",
       "      <th>full_image_path</th>\n",
       "      <th>image_path</th>\n",
       "      <th>poisonous</th>\n",
       "    </tr>\n",
       "  </thead>\n",
       "  <tbody>\n",
       "    <tr>\n",
       "      <th>48791</th>\n",
       "      <td>Exidia glandulosa</td>\n",
       "      <td>/Users/milenabiernacka/Desktop/praca-magisters...</td>\n",
       "      <td>0-3052841406.JPG</td>\n",
       "      <td>0</td>\n",
       "    </tr>\n",
       "    <tr>\n",
       "      <th>14384</th>\n",
       "      <td>Lactarius glyciosmus</td>\n",
       "      <td>/Users/milenabiernacka/Desktop/praca-magisters...</td>\n",
       "      <td>0-3386480353.JPG</td>\n",
       "      <td>0</td>\n",
       "    </tr>\n",
       "    <tr>\n",
       "      <th>11713</th>\n",
       "      <td>Macrolepiota procera</td>\n",
       "      <td>/Users/milenabiernacka/Desktop/praca-magisters...</td>\n",
       "      <td>1-3399806330.JPG</td>\n",
       "      <td>0</td>\n",
       "    </tr>\n",
       "    <tr>\n",
       "      <th>3803</th>\n",
       "      <td>Gemmina gemmarum</td>\n",
       "      <td>/Users/milenabiernacka/Desktop/praca-magisters...</td>\n",
       "      <td>5-3091023316.JPG</td>\n",
       "      <td>0</td>\n",
       "    </tr>\n",
       "    <tr>\n",
       "      <th>37397</th>\n",
       "      <td>Lactarius quietus</td>\n",
       "      <td>/Users/milenabiernacka/Desktop/praca-magisters...</td>\n",
       "      <td>1-3336954336.JPG</td>\n",
       "      <td>0</td>\n",
       "    </tr>\n",
       "  </tbody>\n",
       "</table>\n",
       "</div>"
      ],
      "text/plain": [
       "                    species  \\\n",
       "48791     Exidia glandulosa   \n",
       "14384  Lactarius glyciosmus   \n",
       "11713  Macrolepiota procera   \n",
       "3803       Gemmina gemmarum   \n",
       "37397     Lactarius quietus   \n",
       "\n",
       "                                         full_image_path        image_path  \\\n",
       "48791  /Users/milenabiernacka/Desktop/praca-magisters...  0-3052841406.JPG   \n",
       "14384  /Users/milenabiernacka/Desktop/praca-magisters...  0-3386480353.JPG   \n",
       "11713  /Users/milenabiernacka/Desktop/praca-magisters...  1-3399806330.JPG   \n",
       "3803   /Users/milenabiernacka/Desktop/praca-magisters...  5-3091023316.JPG   \n",
       "37397  /Users/milenabiernacka/Desktop/praca-magisters...  1-3336954336.JPG   \n",
       "\n",
       "       poisonous  \n",
       "48791          0  \n",
       "14384          0  \n",
       "11713          0  \n",
       "3803           0  \n",
       "37397          0  "
      ]
     },
     "execution_count": 82,
     "metadata": {},
     "output_type": "execute_result"
    }
   ],
   "source": [
    "data = half_metadata[['species', 'full_image_path', 'image_path', 'poisonous']]\n",
    "data.head()"
   ]
  },
  {
   "cell_type": "code",
   "execution_count": 83,
   "metadata": {},
   "outputs": [
    {
     "name": "stdout",
     "output_type": "stream",
     "text": [
      "<class 'pandas.core.frame.DataFrame'>\n",
      "Index: 12166 entries, 48791 to 4199\n",
      "Data columns (total 4 columns):\n",
      " #   Column           Non-Null Count  Dtype \n",
      "---  ------           --------------  ----- \n",
      " 0   species          12166 non-null  object\n",
      " 1   full_image_path  12166 non-null  object\n",
      " 2   image_path       12166 non-null  object\n",
      " 3   poisonous        12166 non-null  int64 \n",
      "dtypes: int64(1), object(3)\n",
      "memory usage: 475.2+ KB\n"
     ]
    }
   ],
   "source": [
    "data.info()"
   ]
  },
  {
   "cell_type": "code",
   "execution_count": 84,
   "metadata": {},
   "outputs": [
    {
     "name": "stdout",
     "output_type": "stream",
     "text": [
      "species\n",
      "Micarea lignaria           107\n",
      "Trametes versicolor         84\n",
      "Fomitopsis pinicola         77\n",
      "Stereum hirsutum            63\n",
      "Calocybe gambosa            61\n",
      "                          ... \n",
      "Seimatosporium vaccinii      1\n",
      "Cistella grevillei           1\n",
      "Entoloma sanvitalense        1\n",
      "Cortinarius triumphans       1\n",
      "Russula acrifolia            1\n",
      "Name: count, Length: 1975, dtype: int64\n"
     ]
    }
   ],
   "source": [
    "print(data['species'].value_counts())"
   ]
  },
  {
   "cell_type": "code",
   "execution_count": 85,
   "metadata": {},
   "outputs": [],
   "source": [
    "from sklearn.model_selection import train_test_split\n",
    "\n",
    "X_train, X_test = train_test_split(data, test_size=0.2, random_state=42)"
   ]
  },
  {
   "cell_type": "code",
   "execution_count": 86,
   "metadata": {},
   "outputs": [
    {
     "data": {
      "text/html": [
       "<div>\n",
       "<style scoped>\n",
       "    .dataframe tbody tr th:only-of-type {\n",
       "        vertical-align: middle;\n",
       "    }\n",
       "\n",
       "    .dataframe tbody tr th {\n",
       "        vertical-align: top;\n",
       "    }\n",
       "\n",
       "    .dataframe thead th {\n",
       "        text-align: right;\n",
       "    }\n",
       "</style>\n",
       "<table border=\"1\" class=\"dataframe\">\n",
       "  <thead>\n",
       "    <tr style=\"text-align: right;\">\n",
       "      <th></th>\n",
       "      <th>species</th>\n",
       "      <th>full_image_path</th>\n",
       "      <th>image_path</th>\n",
       "      <th>poisonous</th>\n",
       "    </tr>\n",
       "  </thead>\n",
       "  <tbody>\n",
       "    <tr>\n",
       "      <th>20731</th>\n",
       "      <td>Auricularia mesenterica</td>\n",
       "      <td>/Users/milenabiernacka/Desktop/praca-magisters...</td>\n",
       "      <td>0-3417636331.JPG</td>\n",
       "      <td>0</td>\n",
       "    </tr>\n",
       "    <tr>\n",
       "      <th>34006</th>\n",
       "      <td>Agrocybe praecox</td>\n",
       "      <td>/Users/milenabiernacka/Desktop/praca-magisters...</td>\n",
       "      <td>3-3131201304.JPG</td>\n",
       "      <td>0</td>\n",
       "    </tr>\n",
       "    <tr>\n",
       "      <th>41870</th>\n",
       "      <td>Pseudohydnum gelatinosum</td>\n",
       "      <td>/Users/milenabiernacka/Desktop/praca-magisters...</td>\n",
       "      <td>0-3406486316.JPG</td>\n",
       "      <td>0</td>\n",
       "    </tr>\n",
       "    <tr>\n",
       "      <th>2069</th>\n",
       "      <td>Xylaria longipes</td>\n",
       "      <td>/Users/milenabiernacka/Desktop/praca-magisters...</td>\n",
       "      <td>0-3380899518.JPG</td>\n",
       "      <td>0</td>\n",
       "    </tr>\n",
       "    <tr>\n",
       "      <th>34941</th>\n",
       "      <td>Parasola plicatilis</td>\n",
       "      <td>/Users/milenabiernacka/Desktop/praca-magisters...</td>\n",
       "      <td>3-3358349362.JPG</td>\n",
       "      <td>0</td>\n",
       "    </tr>\n",
       "    <tr>\n",
       "      <th>...</th>\n",
       "      <td>...</td>\n",
       "      <td>...</td>\n",
       "      <td>...</td>\n",
       "      <td>...</td>\n",
       "    </tr>\n",
       "    <tr>\n",
       "      <th>54666</th>\n",
       "      <td>Lecidella elaeochroma</td>\n",
       "      <td>/Users/milenabiernacka/Desktop/praca-magisters...</td>\n",
       "      <td>0-3014640388.JPG</td>\n",
       "      <td>0</td>\n",
       "    </tr>\n",
       "    <tr>\n",
       "      <th>46183</th>\n",
       "      <td>Imshaugia aleurites</td>\n",
       "      <td>/Users/milenabiernacka/Desktop/praca-magisters...</td>\n",
       "      <td>0-3113020335.JPG</td>\n",
       "      <td>0</td>\n",
       "    </tr>\n",
       "    <tr>\n",
       "      <th>38144</th>\n",
       "      <td>Mycena rosea</td>\n",
       "      <td>/Users/milenabiernacka/Desktop/praca-magisters...</td>\n",
       "      <td>0-3382568339.JPG</td>\n",
       "      <td>1</td>\n",
       "    </tr>\n",
       "    <tr>\n",
       "      <th>1165</th>\n",
       "      <td>Podosphaera balsaminae</td>\n",
       "      <td>/Users/milenabiernacka/Desktop/praca-magisters...</td>\n",
       "      <td>1-3329732343.JPG</td>\n",
       "      <td>0</td>\n",
       "    </tr>\n",
       "    <tr>\n",
       "      <th>17941</th>\n",
       "      <td>Jackrogersella multiformis</td>\n",
       "      <td>/Users/milenabiernacka/Desktop/praca-magisters...</td>\n",
       "      <td>1-3419916366.JPG</td>\n",
       "      <td>0</td>\n",
       "    </tr>\n",
       "  </tbody>\n",
       "</table>\n",
       "<p>9732 rows × 4 columns</p>\n",
       "</div>"
      ],
      "text/plain": [
       "                          species  \\\n",
       "20731     Auricularia mesenterica   \n",
       "34006            Agrocybe praecox   \n",
       "41870    Pseudohydnum gelatinosum   \n",
       "2069             Xylaria longipes   \n",
       "34941         Parasola plicatilis   \n",
       "...                           ...   \n",
       "54666       Lecidella elaeochroma   \n",
       "46183         Imshaugia aleurites   \n",
       "38144                Mycena rosea   \n",
       "1165       Podosphaera balsaminae   \n",
       "17941  Jackrogersella multiformis   \n",
       "\n",
       "                                         full_image_path        image_path  \\\n",
       "20731  /Users/milenabiernacka/Desktop/praca-magisters...  0-3417636331.JPG   \n",
       "34006  /Users/milenabiernacka/Desktop/praca-magisters...  3-3131201304.JPG   \n",
       "41870  /Users/milenabiernacka/Desktop/praca-magisters...  0-3406486316.JPG   \n",
       "2069   /Users/milenabiernacka/Desktop/praca-magisters...  0-3380899518.JPG   \n",
       "34941  /Users/milenabiernacka/Desktop/praca-magisters...  3-3358349362.JPG   \n",
       "...                                                  ...               ...   \n",
       "54666  /Users/milenabiernacka/Desktop/praca-magisters...  0-3014640388.JPG   \n",
       "46183  /Users/milenabiernacka/Desktop/praca-magisters...  0-3113020335.JPG   \n",
       "38144  /Users/milenabiernacka/Desktop/praca-magisters...  0-3382568339.JPG   \n",
       "1165   /Users/milenabiernacka/Desktop/praca-magisters...  1-3329732343.JPG   \n",
       "17941  /Users/milenabiernacka/Desktop/praca-magisters...  1-3419916366.JPG   \n",
       "\n",
       "       poisonous  \n",
       "20731          0  \n",
       "34006          0  \n",
       "41870          0  \n",
       "2069           0  \n",
       "34941          0  \n",
       "...          ...  \n",
       "54666          0  \n",
       "46183          0  \n",
       "38144          1  \n",
       "1165           0  \n",
       "17941          0  \n",
       "\n",
       "[9732 rows x 4 columns]"
      ]
     },
     "execution_count": 86,
     "metadata": {},
     "output_type": "execute_result"
    }
   ],
   "source": [
    "X_train"
   ]
  },
  {
   "cell_type": "code",
   "execution_count": 87,
   "metadata": {},
   "outputs": [],
   "source": [
    "X_train, X_val = train_test_split(X_train, test_size=0.2, random_state=42)"
   ]
  },
  {
   "cell_type": "code",
   "execution_count": 88,
   "metadata": {},
   "outputs": [
    {
     "data": {
      "text/html": [
       "<div>\n",
       "<style scoped>\n",
       "    .dataframe tbody tr th:only-of-type {\n",
       "        vertical-align: middle;\n",
       "    }\n",
       "\n",
       "    .dataframe tbody tr th {\n",
       "        vertical-align: top;\n",
       "    }\n",
       "\n",
       "    .dataframe thead th {\n",
       "        text-align: right;\n",
       "    }\n",
       "</style>\n",
       "<table border=\"1\" class=\"dataframe\">\n",
       "  <thead>\n",
       "    <tr style=\"text-align: right;\">\n",
       "      <th></th>\n",
       "      <th>species</th>\n",
       "      <th>full_image_path</th>\n",
       "      <th>image_path</th>\n",
       "      <th>poisonous</th>\n",
       "    </tr>\n",
       "  </thead>\n",
       "  <tbody>\n",
       "    <tr>\n",
       "      <th>18393</th>\n",
       "      <td>Micarea lignaria</td>\n",
       "      <td>/Users/milenabiernacka/Desktop/praca-magisters...</td>\n",
       "      <td>1-3052916313.JPG</td>\n",
       "      <td>0</td>\n",
       "    </tr>\n",
       "    <tr>\n",
       "      <th>25862</th>\n",
       "      <td>Coprinopsis picacea</td>\n",
       "      <td>/Users/milenabiernacka/Desktop/praca-magisters...</td>\n",
       "      <td>2-3380905383.JPG</td>\n",
       "      <td>0</td>\n",
       "    </tr>\n",
       "    <tr>\n",
       "      <th>39957</th>\n",
       "      <td>Flavoparmelia caperata</td>\n",
       "      <td>/Users/milenabiernacka/Desktop/praca-magisters...</td>\n",
       "      <td>0-3116975311.JPG</td>\n",
       "      <td>0</td>\n",
       "    </tr>\n",
       "    <tr>\n",
       "      <th>33047</th>\n",
       "      <td>Geastrum michelianum</td>\n",
       "      <td>/Users/milenabiernacka/Desktop/praca-magisters...</td>\n",
       "      <td>2-3419929381.JPG</td>\n",
       "      <td>0</td>\n",
       "    </tr>\n",
       "    <tr>\n",
       "      <th>49279</th>\n",
       "      <td>Arthonia varians</td>\n",
       "      <td>/Users/milenabiernacka/Desktop/praca-magisters...</td>\n",
       "      <td>0-3126932311.JPG</td>\n",
       "      <td>0</td>\n",
       "    </tr>\n",
       "    <tr>\n",
       "      <th>...</th>\n",
       "      <td>...</td>\n",
       "      <td>...</td>\n",
       "      <td>...</td>\n",
       "      <td>...</td>\n",
       "    </tr>\n",
       "    <tr>\n",
       "      <th>53488</th>\n",
       "      <td>Mycena rosea</td>\n",
       "      <td>/Users/milenabiernacka/Desktop/praca-magisters...</td>\n",
       "      <td>3-3380894451.JPG</td>\n",
       "      <td>1</td>\n",
       "    </tr>\n",
       "    <tr>\n",
       "      <th>1349</th>\n",
       "      <td>Lactarius tabidus</td>\n",
       "      <td>/Users/milenabiernacka/Desktop/praca-magisters...</td>\n",
       "      <td>4-3343244303.JPG</td>\n",
       "      <td>0</td>\n",
       "    </tr>\n",
       "    <tr>\n",
       "      <th>45711</th>\n",
       "      <td>Diatrypella quercina</td>\n",
       "      <td>/Users/milenabiernacka/Desktop/praca-magisters...</td>\n",
       "      <td>0-3070937307.JPG</td>\n",
       "      <td>0</td>\n",
       "    </tr>\n",
       "    <tr>\n",
       "      <th>16597</th>\n",
       "      <td>Tricholomopsis rutilans</td>\n",
       "      <td>/Users/milenabiernacka/Desktop/praca-magisters...</td>\n",
       "      <td>2-3345598387.JPG</td>\n",
       "      <td>0</td>\n",
       "    </tr>\n",
       "    <tr>\n",
       "      <th>44006</th>\n",
       "      <td>Coltricia confluens</td>\n",
       "      <td>/Users/milenabiernacka/Desktop/praca-magisters...</td>\n",
       "      <td>0-3355966414.JPG</td>\n",
       "      <td>0</td>\n",
       "    </tr>\n",
       "  </tbody>\n",
       "</table>\n",
       "<p>1947 rows × 4 columns</p>\n",
       "</div>"
      ],
      "text/plain": [
       "                       species  \\\n",
       "18393         Micarea lignaria   \n",
       "25862      Coprinopsis picacea   \n",
       "39957   Flavoparmelia caperata   \n",
       "33047     Geastrum michelianum   \n",
       "49279         Arthonia varians   \n",
       "...                        ...   \n",
       "53488             Mycena rosea   \n",
       "1349         Lactarius tabidus   \n",
       "45711     Diatrypella quercina   \n",
       "16597  Tricholomopsis rutilans   \n",
       "44006      Coltricia confluens   \n",
       "\n",
       "                                         full_image_path        image_path  \\\n",
       "18393  /Users/milenabiernacka/Desktop/praca-magisters...  1-3052916313.JPG   \n",
       "25862  /Users/milenabiernacka/Desktop/praca-magisters...  2-3380905383.JPG   \n",
       "39957  /Users/milenabiernacka/Desktop/praca-magisters...  0-3116975311.JPG   \n",
       "33047  /Users/milenabiernacka/Desktop/praca-magisters...  2-3419929381.JPG   \n",
       "49279  /Users/milenabiernacka/Desktop/praca-magisters...  0-3126932311.JPG   \n",
       "...                                                  ...               ...   \n",
       "53488  /Users/milenabiernacka/Desktop/praca-magisters...  3-3380894451.JPG   \n",
       "1349   /Users/milenabiernacka/Desktop/praca-magisters...  4-3343244303.JPG   \n",
       "45711  /Users/milenabiernacka/Desktop/praca-magisters...  0-3070937307.JPG   \n",
       "16597  /Users/milenabiernacka/Desktop/praca-magisters...  2-3345598387.JPG   \n",
       "44006  /Users/milenabiernacka/Desktop/praca-magisters...  0-3355966414.JPG   \n",
       "\n",
       "       poisonous  \n",
       "18393          0  \n",
       "25862          0  \n",
       "39957          0  \n",
       "33047          0  \n",
       "49279          0  \n",
       "...          ...  \n",
       "53488          1  \n",
       "1349           0  \n",
       "45711          0  \n",
       "16597          0  \n",
       "44006          0  \n",
       "\n",
       "[1947 rows x 4 columns]"
      ]
     },
     "execution_count": 88,
     "metadata": {},
     "output_type": "execute_result"
    }
   ],
   "source": [
    "X_val"
   ]
  },
  {
   "cell_type": "code",
   "execution_count": 89,
   "metadata": {},
   "outputs": [
    {
     "data": {
      "text/plain": [
       "1679"
      ]
     },
     "execution_count": 89,
     "metadata": {},
     "output_type": "execute_result"
    }
   ],
   "source": [
    "X_train['species'].nunique()"
   ]
  },
  {
   "cell_type": "code",
   "execution_count": 90,
   "metadata": {},
   "outputs": [
    {
     "data": {
      "text/plain": [
       "<Axes: xlabel='species'>"
      ]
     },
     "execution_count": 90,
     "metadata": {},
     "output_type": "execute_result"
    },
    {
     "data": {
      "image/png": "[encoded data removed]",
      "text/plain": [
       "<Figure size 640x480 with 1 Axes>"
      ]
     },
     "metadata": {},
     "output_type": "display_data"
    }
   ],
   "source": [
    "data['species'].value_counts().plot(kind='bar')"
   ]
  },
  {
   "cell_type": "markdown",
   "metadata": {},
   "source": [
    "# Augmentacja"
   ]
  },
  {
   "cell_type": "code",
   "execution_count": 91,
   "metadata": {},
   "outputs": [
    {
     "name": "stdout",
     "output_type": "stream",
     "text": [
      "species\n",
      "Micarea lignaria           107\n",
      "Trametes versicolor         84\n",
      "Fomitopsis pinicola         77\n",
      "Stereum hirsutum            63\n",
      "Calocybe gambosa            61\n",
      "                          ... \n",
      "Seimatosporium vaccinii      1\n",
      "Cistella grevillei           1\n",
      "Entoloma sanvitalense        1\n",
      "Cortinarius triumphans       1\n",
      "Russula acrifolia            1\n",
      "Name: count, Length: 1975, dtype: int64\n"
     ]
    }
   ],
   "source": [
    "class_counts = data['species'].value_counts()\n",
    "print(class_counts)"
   ]
  },
  {
   "cell_type": "code",
   "execution_count": 92,
   "metadata": {},
   "outputs": [],
   "source": [
    "from sklearn.utils import resample\n",
    "\n",
    "# Załóżmy, że target_count to docelowa liczba próbek, którą chcesz mieć dla każdej klasy\n",
    "target_count = 10\n",
    "\n",
    "augmented_data = []\n",
    "for class_name, count in class_counts.items():\n",
    "    class_subset = data[data['species'] == class_name]  # Wybierz wszystkie przykłady tej klasy\n",
    "    n_samples_to_generate = max(0, target_count - count)  # Upewnij się, że liczba jest nieujemna\n",
    "\n",
    "    if n_samples_to_generate > 0:\n",
    "        # Tylko wtedy wykonaj augmentację, jeśli trzeba wygenerować dodatkowe próbki\n",
    "        augmented_class_samples = resample(class_subset,\n",
    "                                           replace=True,  # próbkowanie ze zwracaniem\n",
    "                                           n_samples=n_samples_to_generate,  # liczba próbek do wygenerowania\n",
    "                                           random_state=42)\n",
    "        \n",
    "        # Tutaj powinieneś zastosować augmentację danych, ale pominę ten krok dla uproszczenia\n",
    "        # Pamiętaj, że musisz zastosować augmentację ręcznie na wybranych próbkach\n",
    "\n",
    "        augmented_data.append(augmented_class_samples)\n",
    "\n",
    "# Po wygenerowaniu augmentowanych danych, dodaj je do oryginalnego zbioru treningowego\n",
    "augmented_data = pd.concat(augmented_data, ignore_index=True) if augmented_data else pd.DataFrame()\n",
    "train_data_augmented = pd.concat([data, augmented_data], ignore_index=True)\n"
   ]
  },
  {
   "cell_type": "code",
   "execution_count": 93,
   "metadata": {},
   "outputs": [
    {
     "name": "stdout",
     "output_type": "stream",
     "text": [
      "<class 'pandas.core.frame.DataFrame'>\n",
      "RangeIndex: 23827 entries, 0 to 23826\n",
      "Data columns (total 4 columns):\n",
      " #   Column           Non-Null Count  Dtype \n",
      "---  ------           --------------  ----- \n",
      " 0   species          23827 non-null  object\n",
      " 1   full_image_path  23827 non-null  object\n",
      " 2   image_path       23827 non-null  object\n",
      " 3   poisonous        23827 non-null  int64 \n",
      "dtypes: int64(1), object(3)\n",
      "memory usage: 744.7+ KB\n"
     ]
    }
   ],
   "source": [
    "train_data_augmented.info()"
   ]
  },
  {
   "cell_type": "code",
   "execution_count": 94,
   "metadata": {},
   "outputs": [
    {
     "data": {
      "text/plain": [
       "<Axes: xlabel='species'>"
      ]
     },
     "execution_count": 94,
     "metadata": {},
     "output_type": "execute_result"
    },
    {
     "data": {
      "image/png": "[encoded data removed]",
      "text/plain": [
       "<Figure size 640x480 with 1 Axes>"
      ]
     },
     "metadata": {},
     "output_type": "display_data"
    }
   ],
   "source": [
    "train_data_augmented['species'].value_counts().plot(kind='bar')"
   ]
  },
  {
   "cell_type": "code",
   "execution_count": 95,
   "metadata": {},
   "outputs": [],
   "source": [
    "# Podział danych na zbiór treningowy i pozostałe dane (testowy + walidacyjny)\n",
    "train_data, test_val_data = train_test_split(train_data_augmented, test_size=0.4, random_state=42, stratify=train_data_augmented['species'])\n",
    "\n",
    "# Podział pozostałych danych na zbiór testowy i walidacyjny\n",
    "test_data, val_data = train_test_split(test_val_data, test_size=0.5, random_state=42, stratify=test_val_data['species'])"
   ]
  },
  {
   "cell_type": "code",
   "execution_count": 107,
   "metadata": {},
   "outputs": [
    {
     "name": "stdout",
     "output_type": "stream",
     "text": [
      "Found 14296 validated image filenames belonging to 1975 classes.\n",
      "Found 4765 validated image filenames belonging to 1975 classes.\n",
      "Found 4766 validated image filenames belonging to 1975 classes.\n"
     ]
    }
   ],
   "source": [
    "from tensorflow.keras.preprocessing.image import ImageDataGenerator\n",
    "\n",
    "# Ścieżka do zdjęć - upewnij się, że jest poprawna\n",
    "photos_path = '/Users/milenabiernacka/Desktop/praca-magisterska/DF/DF21_300'\n",
    "\n",
    "# Utwórz generator obrazów z augmentacją danych dla zbioru treningowego\n",
    "datagen_train = ImageDataGenerator(\n",
    "    rescale=1./255,\n",
    "    rotation_range=20,\n",
    "    width_shift_range=0.2,\n",
    "    height_shift_range=0.2,\n",
    "    shear_range=0.2,\n",
    "    zoom_range=0.2,\n",
    "    horizontal_flip=True,\n",
    "    fill_mode='nearest'\n",
    ")\n",
    "\n",
    "# Utwórz generator obrazów bez augmentacji danych dla zbioru walidacyjnego i testowego\n",
    "datagen_test_val = ImageDataGenerator(\n",
    "    rescale=1./255\n",
    ")\n",
    "\n",
    "# Przygotowanie generatorów\n",
    "train_generator = datagen_train.flow_from_dataframe(\n",
    "    dataframe=train_data,\n",
    "    directory=photos_path,\n",
    "    x_col='full_image_path',\n",
    "    y_col='species',\n",
    "    class_mode='categorical',\n",
    "    target_size=(224, 224),\n",
    "    batch_size=64,\n",
    "    shuffle=True\n",
    ")\n",
    "\n",
    "test_generator = datagen_test_val.flow_from_dataframe(\n",
    "    dataframe=test_data,\n",
    "    directory=photos_path,\n",
    "    x_col='full_image_path',\n",
    "    y_col='species',\n",
    "    class_mode='categorical',\n",
    "    target_size=(224, 224),\n",
    "    batch_size=64,\n",
    "    shuffle=False\n",
    ")\n",
    "\n",
    "val_generator = datagen_test_val.flow_from_dataframe(\n",
    "    dataframe=val_data,\n",
    "    directory=photos_path,\n",
    "    x_col='full_image_path',\n",
    "    y_col='species',\n",
    "    class_mode='categorical',\n",
    "    target_size=(224, 224),\n",
    "    batch_size=64,\n",
    "    shuffle=False\n",
    ")\n"
   ]
  },
  {
   "cell_type": "code",
   "execution_count": 109,
   "metadata": {},
   "outputs": [],
   "source": [
    "from tensorflow.keras.applications import MobileNetV2\n",
    "from tensorflow.keras.layers import GlobalAveragePooling2D, Dense\n",
    "from tensorflow.keras.models import Model\n",
    "from tensorflow.keras.optimizers import Adam\n",
    "\n",
    "# Ładowanie MobileNetV2 bez górnych warstw\n",
    "base_model = MobileNetV2(weights='imagenet', include_top=False, input_shape=(224, 224, 3))\n",
    "\n",
    "# Dodanie górnych warstw\n",
    "x = base_model.output\n",
    "x = GlobalAveragePooling2D()(x)\n",
    "x = Dense(1024, activation='relu')(x)\n",
    "\n",
    "# Liczba klas (gatunków) do przewidywania\n",
    "n_classes = len(train_generator.class_indices)\n",
    "predictions = Dense(n_classes, activation='softmax')(x)\n",
    "\n",
    "# Zbudowanie modelu\n",
    "model2 = Model(inputs=base_model.input, outputs=predictions)\n",
    "\n",
    "# Kompilacja modelu\n",
    "model2.compile(optimizer=Adam(learning_rate=0.0001), loss='categorical_crossentropy', metrics=['accuracy'])\n"
   ]
  },
  {
   "cell_type": "code",
   "execution_count": null,
   "metadata": {},
   "outputs": [],
   "source": [
    "history2 = model2.fit(\n",
    "    train_generator,\n",
    "    steps_per_epoch=len(train_generator),\n",
    "    epochs=10,\n",
    "    validation_data=val_generator,\n",
    "    validation_steps=len(val_generator)\n",
    ")"
   ]
  },
  {
   "cell_type": "code",
   "execution_count": 101,
   "metadata": {},
   "outputs": [
    {
     "data": {
      "image/png": "[encoded data removed]",
      "text/plain": [
       "<Figure size 640x480 with 1 Axes>"
      ]
     },
     "metadata": {},
     "output_type": "display_data"
    },
    {
     "data": {
      "image/png": "[encoded data removed]",
      "text/plain": [
       "<Figure size 640x480 with 1 Axes>"
      ]
     },
     "metadata": {},
     "output_type": "display_data"
    }
   ],
   "source": [
    "import matplotlib.pyplot as plt\n",
    "\n",
    "# Wizualizacja dokładności\n",
    "plt.plot(history.history['accuracy'])\n",
    "plt.plot(history.history['val_accuracy'])\n",
    "plt.title('Model accuracy')\n",
    "plt.ylabel('Accuracy')\n",
    "plt.xlabel('Epoch')\n",
    "plt.legend(['Train', 'Validation'], loc='upper left')\n",
    "plt.show()\n",
    "\n",
    "# Wizualizacja straty\n",
    "plt.plot(history.history['loss'])\n",
    "plt.plot(history.history['val_loss'])\n",
    "plt.title('Model loss')\n",
    "plt.ylabel('Loss')\n",
    "plt.xlabel('Epoch')\n",
    "plt.legend(['Train', 'Validation'], loc='upper left')\n",
    "plt.show()\n"
   ]
  },
  {
   "cell_type": "code",
   "execution_count": 102,
   "metadata": {},
   "outputs": [
    {
     "name": "stderr",
     "output_type": "stream",
     "text": [
      "/Users/milenabiernacka/Desktop/praca-magisterska/Mushroom-classification/venv/lib/python3.11/site-packages/keras/src/trainers/data_adapters/py_dataset_adapter.py:120: UserWarning: Your `PyDataset` class should call `super().__init__(**kwargs)` in its constructor. `**kwargs` can include `workers`, `use_multiprocessing`, `max_queue_size`. Do not pass these arguments to `fit()`, as they will be ignored.\n",
      "  self._warn_if_super_not_called()\n"
     ]
    },
    {
     "name": "stdout",
     "output_type": "stream",
     "text": [
      "\u001b[1m149/149\u001b[0m \u001b[32m━━━━━━━━━━━━━━━━━━━━\u001b[0m\u001b[37m\u001b[0m \u001b[1m40s\u001b[0m 260ms/step - accuracy: 5.3257e-04 - loss: 7.7087\n",
      "Test Loss: 7.7002716064453125\n",
      "Test Accuracy: 0.0006295907660387456\n"
     ]
    }
   ],
   "source": [
    "# Ocena modelu na zbiorze testowym\n",
    "test_loss, test_accuracy = model.evaluate(test_generator)\n",
    "\n",
    "print(f'Test Loss: {test_loss}')\n",
    "print(f'Test Accuracy: {test_accuracy}')\n"
   ]
  },
  {
   "cell_type": "code",
   "execution_count": 106,
   "metadata": {},
   "outputs": [
    {
     "name": "stderr",
     "output_type": "stream",
     "text": [
      "WARNING:absl:You are saving your model as an HDF5 file via `model.save()` or `keras.saving.save_model(model)`. This file format is considered legacy. We recommend using instead the native Keras format, e.g. `model.save('my_model.keras')` or `keras.saving.save_model(model, 'my_model.keras')`. \n"
     ]
    }
   ],
   "source": [
    "model.save('/Users/milenabiernacka/Desktop/praca-magisterska/Mushroom-classification/models/model_10epochs_MobileNetV2/model1.h5')  # Zapisuje model w folderze SavedModel"
   ]
  },
  {
   "cell_type": "code",
   "execution_count": null,
   "metadata": {},
   "outputs": [],
   "source": []
  },
  {
   "cell_type": "markdown",
   "metadata": {},
   "source": [
    "# Podejście next"
   ]
  },
  {
   "cell_type": "markdown",
   "metadata": {},
   "source": []
  },
  {
   "cell_type": "code",
   "execution_count": 17,
   "metadata": {},
   "outputs": [],
   "source": [
    "half_metadata = metadata_train.sample(frac=0.25, random_state=42)"
   ]
  },
  {
   "cell_type": "code",
   "execution_count": 18,
   "metadata": {},
   "outputs": [
    {
     "data": {
      "text/html": [
       "<div>\n",
       "<style scoped>\n",
       "    .dataframe tbody tr th:only-of-type {\n",
       "        vertical-align: middle;\n",
       "    }\n",
       "\n",
       "    .dataframe tbody tr th {\n",
       "        vertical-align: top;\n",
       "    }\n",
       "\n",
       "    .dataframe thead th {\n",
       "        text-align: right;\n",
       "    }\n",
       "</style>\n",
       "<table border=\"1\" class=\"dataframe\">\n",
       "  <thead>\n",
       "    <tr style=\"text-align: right;\">\n",
       "      <th></th>\n",
       "      <th>species</th>\n",
       "      <th>full_image_path</th>\n",
       "      <th>image_path</th>\n",
       "    </tr>\n",
       "  </thead>\n",
       "  <tbody>\n",
       "    <tr>\n",
       "      <th>3578</th>\n",
       "      <td>Agaricus litoralis</td>\n",
       "      <td>/Users/milenabiernacka/Desktop/praca-magisters...</td>\n",
       "      <td>2238304953-11531.JPG</td>\n",
       "    </tr>\n",
       "    <tr>\n",
       "      <th>10883</th>\n",
       "      <td>Agaricus campestris</td>\n",
       "      <td>/Users/milenabiernacka/Desktop/praca-magisters...</td>\n",
       "      <td>2238421610-164017.JPG</td>\n",
       "    </tr>\n",
       "    <tr>\n",
       "      <th>22251</th>\n",
       "      <td>Agaricus campestris</td>\n",
       "      <td>/Users/milenabiernacka/Desktop/praca-magisters...</td>\n",
       "      <td>2874311381-289462.JPG</td>\n",
       "    </tr>\n",
       "    <tr>\n",
       "      <th>25240</th>\n",
       "      <td>Amanita muscaria</td>\n",
       "      <td>/Users/milenabiernacka/Desktop/praca-magisters...</td>\n",
       "      <td>2430664044-122176.JPG</td>\n",
       "    </tr>\n",
       "    <tr>\n",
       "      <th>15746</th>\n",
       "      <td>Clitocybe nebularis</td>\n",
       "      <td>/Users/milenabiernacka/Desktop/praca-magisters...</td>\n",
       "      <td>2427874384-121838.JPG</td>\n",
       "    </tr>\n",
       "  </tbody>\n",
       "</table>\n",
       "</div>"
      ],
      "text/plain": [
       "                   species                                    full_image_path  \\\n",
       "3578    Agaricus litoralis  /Users/milenabiernacka/Desktop/praca-magisters...   \n",
       "10883  Agaricus campestris  /Users/milenabiernacka/Desktop/praca-magisters...   \n",
       "22251  Agaricus campestris  /Users/milenabiernacka/Desktop/praca-magisters...   \n",
       "25240     Amanita muscaria  /Users/milenabiernacka/Desktop/praca-magisters...   \n",
       "15746  Clitocybe nebularis  /Users/milenabiernacka/Desktop/praca-magisters...   \n",
       "\n",
       "                  image_path  \n",
       "3578    2238304953-11531.JPG  \n",
       "10883  2238421610-164017.JPG  \n",
       "22251  2874311381-289462.JPG  \n",
       "25240  2430664044-122176.JPG  \n",
       "15746  2427874384-121838.JPG  "
      ]
     },
     "execution_count": 18,
     "metadata": {},
     "output_type": "execute_result"
    }
   ],
   "source": [
    "data = half_metadata[['species', 'full_image_path', 'image_path']]\n",
    "data.head()"
   ]
  },
  {
   "cell_type": "code",
   "execution_count": 19,
   "metadata": {},
   "outputs": [
    {
     "name": "stderr",
     "output_type": "stream",
     "text": [
      "/var/folders/s0/p8ldq2yj3j71tzmvgws_cyp40000gn/T/ipykernel_90468/2258470280.py:1: SettingWithCopyWarning: \n",
      "A value is trying to be set on a copy of a slice from a DataFrame.\n",
      "Try using .loc[row_indexer,col_indexer] = value instead\n",
      "\n",
      "See the caveats in the documentation: https://pandas.pydata.org/pandas-docs/stable/user_guide/indexing.html#returning-a-view-versus-a-copy\n",
      "  data['species_str'] = data['species'].astype(str)\n",
      "/var/folders/s0/p8ldq2yj3j71tzmvgws_cyp40000gn/T/ipykernel_90468/2258470280.py:2: SettingWithCopyWarning: \n",
      "A value is trying to be set on a copy of a slice from a DataFrame.\n",
      "Try using .loc[row_indexer,col_indexer] = value instead\n",
      "\n",
      "See the caveats in the documentation: https://pandas.pydata.org/pandas-docs/stable/user_guide/indexing.html#returning-a-view-versus-a-copy\n",
      "  data['species'] = data['species'].astype(str)\n"
     ]
    }
   ],
   "source": [
    "data['species_str'] = data['species'].astype(str)\n",
    "data['species'] = data['species'].astype(str)"
   ]
  },
  {
   "cell_type": "code",
   "execution_count": 20,
   "metadata": {},
   "outputs": [
    {
     "name": "stdout",
     "output_type": "stream",
     "text": [
      "species\n",
      "Mycena galericulata         263\n",
      "Clitocybe nebularis         248\n",
      "Boletus edulis              203\n",
      "Amanita muscaria            202\n",
      "Russula ochroleuca          180\n",
      "                           ... \n",
      "Mycena luteovariegata         5\n",
      "Agaricus lanipes              5\n",
      "Agaricus subfloccosus         3\n",
      "Amanita lividopallescens      3\n",
      "Mycena rosella                3\n",
      "Name: count, Length: 180, dtype: int64\n"
     ]
    }
   ],
   "source": [
    "print(data['species'].value_counts())"
   ]
  },
  {
   "cell_type": "code",
   "execution_count": 21,
   "metadata": {},
   "outputs": [
    {
     "name": "stdout",
     "output_type": "stream",
     "text": [
      "species\n",
      "Mycena galericulata         263\n",
      "Clitocybe nebularis         248\n",
      "Boletus edulis              203\n",
      "Amanita muscaria            202\n",
      "Russula ochroleuca          180\n",
      "                           ... \n",
      "Mycena luteovariegata         5\n",
      "Agaricus lanipes              5\n",
      "Agaricus subfloccosus         3\n",
      "Amanita lividopallescens      3\n",
      "Mycena rosella                3\n",
      "Name: count, Length: 180, dtype: int64\n"
     ]
    }
   ],
   "source": [
    "from sklearn.utils import resample\n",
    "\n",
    "class_counts = data['species'].value_counts()\n",
    "print(class_counts)\n",
    "\n",
    "# Załóżmy, że target_count to docelowa liczba próbek, którą chcesz mieć dla każdej klasy\n",
    "target_count = 10\n",
    "\n",
    "augmented_data = []\n",
    "for class_name, count in class_counts.items():\n",
    "    class_subset = data[data['species'] == class_name]  # Wybierz wszystkie przykłady tej klasy\n",
    "    n_samples_to_generate = max(0, target_count - count)  # Upewnij się, że liczba jest nieujemna\n",
    "\n",
    "    if n_samples_to_generate > 0:\n",
    "        # Tylko wtedy wykonaj augmentację, jeśli trzeba wygenerować dodatkowe próbki\n",
    "        augmented_class_samples = resample(class_subset,\n",
    "                                           replace=True,  # próbkowanie ze zwracaniem\n",
    "                                           n_samples=n_samples_to_generate,  # liczba próbek do wygenerowania\n",
    "                                           random_state=42)\n",
    "\n",
    "        # Tutaj powinieneś zastosować augmentację danych, ale pominę ten krok dla uproszczenia\n",
    "        # Pamiętaj, że musisz zastosować augmentację ręcznie na wybranych próbkach\n",
    "\n",
    "        augmented_data.append(augmented_class_samples)\n",
    "\n",
    "# Po wygenerowaniu augmentowanych danych, dodaj je do oryginalnego zbioru treningowego\n",
    "augmented_data = pd.concat(augmented_data, ignore_index=True) if augmented_data else pd.DataFrame()\n",
    "train_data_augmented = pd.concat([data, augmented_data], ignore_index=True)\n"
   ]
  },
  {
   "cell_type": "code",
   "execution_count": 22,
   "metadata": {},
   "outputs": [
    {
     "name": "stdout",
     "output_type": "stream",
     "text": [
      "<class 'pandas.core.frame.DataFrame'>\n",
      "RangeIndex: 8264 entries, 0 to 8263\n",
      "Data columns (total 4 columns):\n",
      " #   Column           Non-Null Count  Dtype \n",
      "---  ------           --------------  ----- \n",
      " 0   species          8264 non-null   object\n",
      " 1   full_image_path  8264 non-null   object\n",
      " 2   image_path       8264 non-null   object\n",
      " 3   species_str      8264 non-null   object\n",
      "dtypes: object(4)\n",
      "memory usage: 258.4+ KB\n"
     ]
    }
   ],
   "source": [
    "train_data_augmented.info()"
   ]
  },
  {
   "cell_type": "code",
   "execution_count": 23,
   "metadata": {},
   "outputs": [
    {
     "data": {
      "text/plain": [
       "<Axes: xlabel='species'>"
      ]
     },
     "execution_count": 23,
     "metadata": {},
     "output_type": "execute_result"
    },
    {
     "data": {
      "image/png": "[encoded data removed]",
      "text/plain": [
       "<Figure size 640x480 with 1 Axes>"
      ]
     },
     "metadata": {},
     "output_type": "display_data"
    }
   ],
   "source": [
    "train_data_augmented['species'].value_counts().plot(kind='bar')"
   ]
  },
  {
   "cell_type": "code",
   "execution_count": 24,
   "metadata": {},
   "outputs": [],
   "source": [
    "from sklearn.model_selection import train_test_split\n",
    "\n",
    "# Podział danych na zbiór treningowy i pozostałe dane (testowy + walidacyjny)\n",
    "train_data, test_val_data = train_test_split(train_data_augmented, test_size=0.4, random_state=42, stratify = train_data_augmented['species'])\n",
    "\n",
    "# Podział pozostałych danych na zbiór testowy i walidacyjny\n",
    "test_data, val_data = train_test_split(test_val_data, test_size=0.5, random_state=42, stratify = test_val_data['species'])"
   ]
  },
  {
   "cell_type": "code",
   "execution_count": 25,
   "metadata": {},
   "outputs": [
    {
     "name": "stdout",
     "output_type": "stream",
     "text": [
      "Found 4958 validated image filenames belonging to 180 classes.\n",
      "Found 1653 validated image filenames belonging to 180 classes.\n",
      "Found 1653 validated image filenames belonging to 180 classes.\n"
     ]
    }
   ],
   "source": [
    "# Utwórz generator obrazów z augmentacją danych dla zbioru treningowego\n",
    "datagen_train = ImageDataGenerator(\n",
    "    rescale=1./255,\n",
    "    rotation_range=20,\n",
    "    width_shift_range=0.2,\n",
    "    height_shift_range=0.2,\n",
    "    shear_range=0.2,\n",
    "    zoom_range=0.2,\n",
    "    horizontal_flip=True,\n",
    "    fill_mode='nearest'\n",
    ")\n",
    "\n",
    "# Utwórz generator obrazów bez augmentacji danych dla zbioru walidacyjnego i testowego\n",
    "datagen_test_val = ImageDataGenerator(\n",
    "    rescale=1./255\n",
    ")\n",
    "\n",
    "# Przygotowanie generatorów\n",
    "train_generator = datagen_train.flow_from_dataframe(\n",
    "    dataframe=train_data,\n",
    "    directory=images_folder_path,\n",
    "    x_col='full_image_path',\n",
    "    y_col='species',\n",
    "    class_mode='categorical',\n",
    "    target_size=(224, 224),\n",
    "    batch_size=32,\n",
    "    shuffle=True\n",
    ")\n",
    "\n",
    "test_generator = datagen_test_val.flow_from_dataframe(\n",
    "    dataframe=test_data,\n",
    "    directory=images_folder_path,\n",
    "    x_col='full_image_path',\n",
    "    y_col='species',\n",
    "    class_mode='categorical',\n",
    "    target_size=(224, 224),\n",
    "    batch_size=32,\n",
    "    shuffle=False\n",
    ")\n",
    "\n",
    "val_generator = datagen_test_val.flow_from_dataframe(\n",
    "    dataframe=val_data,\n",
    "    directory=images_folder_path,\n",
    "    x_col='full_image_path',\n",
    "    y_col='species',\n",
    "    class_mode='categorical',\n",
    "    target_size=(224, 224),\n",
    "    batch_size=32,\n",
    "    shuffle=False\n",
    ")"
   ]
  },
  {
   "cell_type": "code",
   "execution_count": 28,
   "metadata": {},
   "outputs": [],
   "source": [
    "from tensorflow.keras.applications import MobileNetV2\n",
    "from tensorflow.keras.layers import GlobalAveragePooling2D, Dense\n",
    "from tensorflow.keras.models import Model\n",
    "from tensorflow.keras.optimizers import Adam\n",
    "\n",
    "# Ładowanie MobileNetV2 bez górnych warstw\n",
    "base_model = MobileNetV2(weights='imagenet', include_top=False, input_shape=(224, 224, 3))\n",
    "\n",
    "# Dodanie górnych warstw\n",
    "x = base_model.output\n",
    "x = GlobalAveragePooling2D()(x)\n",
    "x = Dense(1024, activation='relu')(x)\n",
    "\n",
    "# Liczba klas (gatunków) do przewidywania\n",
    "n_classes = len(train_generator.class_indices)\n",
    "predictions = Dense(n_classes, activation='softmax')(x)\n",
    "\n",
    "# Zbudowanie modelu\n",
    "model2 = Model(inputs=base_model.input, outputs=predictions)\n",
    "\n",
    "# Kompilacja modelu\n",
    "model2.compile(optimizer=Adam(learning_rate=0.0001), loss='categorical_crossentropy', metrics=['accuracy'])"
   ]
  },
  {
   "cell_type": "code",
   "execution_count": 29,
   "metadata": {},
   "outputs": [
    {
     "name": "stdout",
     "output_type": "stream",
     "text": [
      "Epoch 1/20\n"
     ]
    },
    {
     "name": "stderr",
     "output_type": "stream",
     "text": [
      "/Users/milenabiernacka/Desktop/praca-magisterska/Mushroom-classification/venv/lib/python3.11/site-packages/keras/src/trainers/data_adapters/py_dataset_adapter.py:120: UserWarning: Your `PyDataset` class should call `super().__init__(**kwargs)` in its constructor. `**kwargs` can include `workers`, `use_multiprocessing`, `max_queue_size`. Do not pass these arguments to `fit()`, as they will be ignored.\n",
      "  self._warn_if_super_not_called()\n",
      "2024-03-25 06:18:51.427585: I tensorflow/core/kernels/data/shuffle_dataset_op.cc:450] ShuffleDatasetV3:2: Filling up shuffle buffer (this may take a while): 1 of 8\n",
      "2024-03-25 06:19:09.411020: I tensorflow/core/kernels/data/shuffle_dataset_op.cc:450] ShuffleDatasetV3:2: Filling up shuffle buffer (this may take a while): 2 of 8\n",
      "2024-03-25 06:19:42.632235: I tensorflow/core/kernels/data/shuffle_dataset_op.cc:450] ShuffleDatasetV3:2: Filling up shuffle buffer (this may take a while): 3 of 8\n",
      "2024-03-25 06:20:12.355394: I tensorflow/core/kernels/data/shuffle_dataset_op.cc:450] ShuffleDatasetV3:2: Filling up shuffle buffer (this may take a while): 4 of 8\n",
      "2024-03-25 06:20:42.178338: I tensorflow/core/kernels/data/shuffle_dataset_op.cc:450] ShuffleDatasetV3:2: Filling up shuffle buffer (this may take a while): 5 of 8\n",
      "2024-03-25 06:21:16.870897: I tensorflow/core/kernels/data/shuffle_dataset_op.cc:450] ShuffleDatasetV3:2: Filling up shuffle buffer (this may take a while): 6 of 8\n",
      "2024-03-25 06:21:55.924889: I tensorflow/core/kernels/data/shuffle_dataset_op.cc:450] ShuffleDatasetV3:2: Filling up shuffle buffer (this may take a while): 7 of 8\n",
      "2024-03-25 06:22:30.389044: I tensorflow/core/kernels/data/shuffle_dataset_op.cc:480] Shuffle buffer filled.\n"
     ]
    },
    {
     "name": "stdout",
     "output_type": "stream",
     "text": [
      "\u001b[1m155/155\u001b[0m \u001b[32m━━━━━━━━━━━━━━━━━━━━\u001b[0m\u001b[37m\u001b[0m \u001b[1m4864s\u001b[0m 30s/step - accuracy: 0.0604 - loss: 4.8901 - val_accuracy: 0.1295 - val_loss: 4.2009\n",
      "Epoch 2/20\n",
      "\u001b[1m155/155\u001b[0m \u001b[32m━━━━━━━━━━━━━━━━━━━━\u001b[0m\u001b[37m\u001b[0m \u001b[1m0s\u001b[0m 488us/step - accuracy: 0.0000e+00 - loss: 0.0000e+00 - val_accuracy: 0.0000e+00 - val_loss: 0.0000e+00\n",
      "Epoch 3/20\n"
     ]
    },
    {
     "name": "stderr",
     "output_type": "stream",
     "text": [
      "2024-03-25 07:39:12.244124: W tensorflow/core/framework/local_rendezvous.cc:404] Local rendezvous is aborting with status: OUT_OF_RANGE: End of sequence\n",
      "\t [[{{node IteratorGetNext}}]]\n",
      "/Library/Frameworks/Python.framework/Versions/3.11/lib/python3.11/contextlib.py:155: UserWarning: Your input ran out of data; interrupting training. Make sure that your dataset or generator can generate at least `steps_per_epoch * epochs` batches. You may need to use the `.repeat()` function when building your dataset.\n",
      "  self.gen.throw(typ, value, traceback)\n",
      "2024-03-25 07:39:12.265527: W tensorflow/core/framework/local_rendezvous.cc:404] Local rendezvous is aborting with status: OUT_OF_RANGE: End of sequence\n",
      "\t [[{{node IteratorGetNext}}]]\n"
     ]
    },
    {
     "name": "stdout",
     "output_type": "stream",
     "text": [
      "\u001b[1m155/155\u001b[0m \u001b[32m━━━━━━━━━━━━━━━━━━━━\u001b[0m\u001b[37m\u001b[0m \u001b[1m2106s\u001b[0m 14s/step - accuracy: 0.2333 - loss: 3.6170 - val_accuracy: 0.1845 - val_loss: 3.7394\n",
      "Epoch 4/20\n",
      "\u001b[1m155/155\u001b[0m \u001b[32m━━━━━━━━━━━━━━━━━━━━\u001b[0m\u001b[37m\u001b[0m \u001b[1m0s\u001b[0m 106us/step - accuracy: 0.0000e+00 - loss: 0.0000e+00 - val_accuracy: 0.0000e+00 - val_loss: 0.0000e+00\n",
      "Epoch 5/20\n"
     ]
    },
    {
     "name": "stderr",
     "output_type": "stream",
     "text": [
      "2024-03-25 08:14:18.732073: W tensorflow/core/framework/local_rendezvous.cc:404] Local rendezvous is aborting with status: OUT_OF_RANGE: End of sequence\n",
      "\t [[{{node IteratorGetNext}}]]\n",
      "2024-03-25 08:14:18.737089: W tensorflow/core/framework/local_rendezvous.cc:404] Local rendezvous is aborting with status: OUT_OF_RANGE: End of sequence\n",
      "\t [[{{node IteratorGetNext}}]]\n"
     ]
    },
    {
     "name": "stdout",
     "output_type": "stream",
     "text": [
      "\u001b[1m155/155\u001b[0m \u001b[32m━━━━━━━━━━━━━━━━━━━━\u001b[0m\u001b[37m\u001b[0m \u001b[1m292s\u001b[0m 2s/step - accuracy: 0.3563 - loss: 2.7446 - val_accuracy: 0.2111 - val_loss: 3.5050\n",
      "Epoch 6/20\n",
      "\u001b[1m155/155\u001b[0m \u001b[32m━━━━━━━━━━━━━━━━━━━━\u001b[0m\u001b[37m\u001b[0m \u001b[1m0s\u001b[0m 128us/step - accuracy: 0.0000e+00 - loss: 0.0000e+00 - val_accuracy: 0.0000e+00 - val_loss: 0.0000e+00\n",
      "Epoch 7/20\n"
     ]
    },
    {
     "name": "stderr",
     "output_type": "stream",
     "text": [
      "2024-03-25 08:19:11.003240: W tensorflow/core/framework/local_rendezvous.cc:404] Local rendezvous is aborting with status: OUT_OF_RANGE: End of sequence\n",
      "\t [[{{node IteratorGetNext}}]]\n",
      "2024-03-25 08:19:11.009628: W tensorflow/core/framework/local_rendezvous.cc:404] Local rendezvous is aborting with status: OUT_OF_RANGE: End of sequence\n",
      "\t [[{{node IteratorGetNext}}]]\n"
     ]
    },
    {
     "name": "stdout",
     "output_type": "stream",
     "text": [
      "\u001b[1m155/155\u001b[0m \u001b[32m━━━━━━━━━━━━━━━━━━━━\u001b[0m\u001b[37m\u001b[0m \u001b[1m307s\u001b[0m 2s/step - accuracy: 0.4613 - loss: 2.1588 - val_accuracy: 0.1972 - val_loss: 3.5482\n",
      "Epoch 8/20\n",
      "\u001b[1m155/155\u001b[0m \u001b[32m━━━━━━━━━━━━━━━━━━━━\u001b[0m\u001b[37m\u001b[0m \u001b[1m0s\u001b[0m 137us/step - accuracy: 0.0000e+00 - loss: 0.0000e+00 - val_accuracy: 0.0000e+00 - val_loss: 0.0000e+00\n",
      "Epoch 9/20\n"
     ]
    },
    {
     "name": "stderr",
     "output_type": "stream",
     "text": [
      "2024-03-25 08:24:18.443271: W tensorflow/core/framework/local_rendezvous.cc:404] Local rendezvous is aborting with status: OUT_OF_RANGE: End of sequence\n",
      "\t [[{{node IteratorGetNext}}]]\n",
      "2024-03-25 08:24:18.449630: W tensorflow/core/framework/local_rendezvous.cc:404] Local rendezvous is aborting with status: OUT_OF_RANGE: End of sequence\n",
      "\t [[{{node IteratorGetNext}}]]\n"
     ]
    },
    {
     "name": "stdout",
     "output_type": "stream",
     "text": [
      "\u001b[1m155/155\u001b[0m \u001b[32m━━━━━━━━━━━━━━━━━━━━\u001b[0m\u001b[37m\u001b[0m \u001b[1m332s\u001b[0m 2s/step - accuracy: 0.5777 - loss: 1.6895 - val_accuracy: 0.2317 - val_loss: 3.4210\n",
      "Epoch 10/20\n",
      "\u001b[1m155/155\u001b[0m \u001b[32m━━━━━━━━━━━━━━━━━━━━\u001b[0m\u001b[37m\u001b[0m \u001b[1m0s\u001b[0m 143us/step - accuracy: 0.0000e+00 - loss: 0.0000e+00 - val_accuracy: 0.0000e+00 - val_loss: 0.0000e+00\n",
      "Epoch 11/20\n"
     ]
    },
    {
     "name": "stderr",
     "output_type": "stream",
     "text": [
      "2024-03-25 08:29:50.423526: W tensorflow/core/framework/local_rendezvous.cc:404] Local rendezvous is aborting with status: OUT_OF_RANGE: End of sequence\n",
      "\t [[{{node IteratorGetNext}}]]\n",
      "2024-03-25 08:29:50.430556: W tensorflow/core/framework/local_rendezvous.cc:404] Local rendezvous is aborting with status: OUT_OF_RANGE: End of sequence\n",
      "\t [[{{node IteratorGetNext}}]]\n"
     ]
    },
    {
     "name": "stdout",
     "output_type": "stream",
     "text": [
      "\u001b[1m155/155\u001b[0m \u001b[32m━━━━━━━━━━━━━━━━━━━━\u001b[0m\u001b[37m\u001b[0m \u001b[1m374s\u001b[0m 2s/step - accuracy: 0.6583 - loss: 1.3608 - val_accuracy: 0.2341 - val_loss: 3.3660\n",
      "Epoch 12/20\n",
      "\u001b[1m155/155\u001b[0m \u001b[32m━━━━━━━━━━━━━━━━━━━━\u001b[0m\u001b[37m\u001b[0m \u001b[1m0s\u001b[0m 164us/step - accuracy: 0.0000e+00 - loss: 0.0000e+00 - val_accuracy: 0.0000e+00 - val_loss: 0.0000e+00\n",
      "Epoch 13/20\n"
     ]
    },
    {
     "name": "stderr",
     "output_type": "stream",
     "text": [
      "2024-03-25 08:36:04.156489: W tensorflow/core/framework/local_rendezvous.cc:404] Local rendezvous is aborting with status: OUT_OF_RANGE: End of sequence\n",
      "\t [[{{node IteratorGetNext}}]]\n",
      "2024-03-25 08:36:04.164244: W tensorflow/core/framework/local_rendezvous.cc:404] Local rendezvous is aborting with status: OUT_OF_RANGE: End of sequence\n",
      "\t [[{{node IteratorGetNext}}]]\n"
     ]
    },
    {
     "name": "stdout",
     "output_type": "stream",
     "text": [
      "\u001b[1m155/155\u001b[0m \u001b[32m━━━━━━━━━━━━━━━━━━━━\u001b[0m\u001b[37m\u001b[0m \u001b[1m388s\u001b[0m 2s/step - accuracy: 0.7400 - loss: 1.0718 - val_accuracy: 0.2613 - val_loss: 3.3680\n",
      "Epoch 14/20\n",
      "\u001b[1m155/155\u001b[0m \u001b[32m━━━━━━━━━━━━━━━━━━━━\u001b[0m\u001b[37m\u001b[0m \u001b[1m0s\u001b[0m 163us/step - accuracy: 0.0000e+00 - loss: 0.0000e+00 - val_accuracy: 0.0000e+00 - val_loss: 0.0000e+00\n",
      "Epoch 15/20\n"
     ]
    },
    {
     "name": "stderr",
     "output_type": "stream",
     "text": [
      "2024-03-25 08:42:31.980891: W tensorflow/core/framework/local_rendezvous.cc:404] Local rendezvous is aborting with status: OUT_OF_RANGE: End of sequence\n",
      "\t [[{{node IteratorGetNext}}]]\n",
      "2024-03-25 08:42:31.988662: W tensorflow/core/framework/local_rendezvous.cc:404] Local rendezvous is aborting with status: OUT_OF_RANGE: End of sequence\n",
      "\t [[{{node IteratorGetNext}}]]\n"
     ]
    },
    {
     "name": "stdout",
     "output_type": "stream",
     "text": [
      "\u001b[1m155/155\u001b[0m \u001b[32m━━━━━━━━━━━━━━━━━━━━\u001b[0m\u001b[37m\u001b[0m \u001b[1m436s\u001b[0m 3s/step - accuracy: 0.7945 - loss: 0.8496 - val_accuracy: 0.2547 - val_loss: 3.4042\n",
      "Epoch 16/20\n",
      "\u001b[1m155/155\u001b[0m \u001b[32m━━━━━━━━━━━━━━━━━━━━\u001b[0m\u001b[37m\u001b[0m \u001b[1m0s\u001b[0m 170us/step - accuracy: 0.0000e+00 - loss: 0.0000e+00 - val_accuracy: 0.0000e+00 - val_loss: 0.0000e+00\n",
      "Epoch 17/20\n"
     ]
    },
    {
     "name": "stderr",
     "output_type": "stream",
     "text": [
      "2024-03-25 08:49:47.830038: W tensorflow/core/framework/local_rendezvous.cc:404] Local rendezvous is aborting with status: OUT_OF_RANGE: End of sequence\n",
      "\t [[{{node IteratorGetNext}}]]\n",
      "2024-03-25 08:49:47.838012: W tensorflow/core/framework/local_rendezvous.cc:404] Local rendezvous is aborting with status: OUT_OF_RANGE: End of sequence\n",
      "\t [[{{node IteratorGetNext}}]]\n"
     ]
    },
    {
     "name": "stdout",
     "output_type": "stream",
     "text": [
      "\u001b[1m155/155\u001b[0m \u001b[32m━━━━━━━━━━━━━━━━━━━━\u001b[0m\u001b[37m\u001b[0m \u001b[1m447s\u001b[0m 3s/step - accuracy: 0.8418 - loss: 0.6736 - val_accuracy: 0.2650 - val_loss: 3.5706\n",
      "Epoch 18/20\n",
      "\u001b[1m155/155\u001b[0m \u001b[32m━━━━━━━━━━━━━━━━━━━━\u001b[0m\u001b[37m\u001b[0m \u001b[1m0s\u001b[0m 186us/step - accuracy: 0.0000e+00 - loss: 0.0000e+00 - val_accuracy: 0.0000e+00 - val_loss: 0.0000e+00\n",
      "Epoch 19/20\n"
     ]
    },
    {
     "name": "stderr",
     "output_type": "stream",
     "text": [
      "2024-03-25 08:57:14.522421: W tensorflow/core/framework/local_rendezvous.cc:404] Local rendezvous is aborting with status: OUT_OF_RANGE: End of sequence\n",
      "\t [[{{node IteratorGetNext}}]]\n",
      "2024-03-25 08:57:14.531732: W tensorflow/core/framework/local_rendezvous.cc:404] Local rendezvous is aborting with status: OUT_OF_RANGE: End of sequence\n",
      "\t [[{{node IteratorGetNext}}]]\n"
     ]
    },
    {
     "name": "stdout",
     "output_type": "stream",
     "text": [
      "\u001b[1m155/155\u001b[0m \u001b[32m━━━━━━━━━━━━━━━━━━━━\u001b[0m\u001b[37m\u001b[0m \u001b[1m419s\u001b[0m 3s/step - accuracy: 0.8884 - loss: 0.5075 - val_accuracy: 0.2946 - val_loss: 3.4560\n",
      "Epoch 20/20\n",
      "\u001b[1m155/155\u001b[0m \u001b[32m━━━━━━━━━━━━━━━━━━━━\u001b[0m\u001b[37m\u001b[0m \u001b[1m0s\u001b[0m 162us/step - accuracy: 0.0000e+00 - loss: 0.0000e+00 - val_accuracy: 0.0000e+00 - val_loss: 0.0000e+00\n"
     ]
    },
    {
     "name": "stderr",
     "output_type": "stream",
     "text": [
      "2024-03-25 09:04:13.946243: W tensorflow/core/framework/local_rendezvous.cc:404] Local rendezvous is aborting with status: OUT_OF_RANGE: End of sequence\n",
      "\t [[{{node IteratorGetNext}}]]\n",
      "2024-03-25 09:04:13.954071: W tensorflow/core/framework/local_rendezvous.cc:404] Local rendezvous is aborting with status: OUT_OF_RANGE: End of sequence\n",
      "\t [[{{node IteratorGetNext}}]]\n"
     ]
    }
   ],
   "source": [
    "history = model2.fit(\n",
    "    train_generator,\n",
    "    steps_per_epoch=len(train_generator),\n",
    "    epochs=20,\n",
    "    validation_data=val_generator,\n",
    "    validation_steps=len(val_generator)\n",
    ")"
   ]
  },
  {
   "cell_type": "code",
   "execution_count": 30,
   "metadata": {},
   "outputs": [
    {
     "name": "stdout",
     "output_type": "stream",
     "text": [
      "\u001b[1m52/52\u001b[0m \u001b[32m━━━━━━━━━━━━━━━━━━━━\u001b[0m\u001b[37m\u001b[0m \u001b[1m913s\u001b[0m 18s/step - accuracy: 0.2892 - loss: 3.3968\n",
      "Test Loss: 3.403886318206787\n",
      "Test Accuracy: 0.2891711890697479\n"
     ]
    }
   ],
   "source": [
    "# Ocena modelu na zbiorze testowym\n",
    "test_loss, test_accuracy = model2.evaluate(test_generator)\n",
    "\n",
    "print(f'Test Loss: {test_loss}')\n",
    "print(f'Test Accuracy: {test_accuracy}')"
   ]
  },
  {
   "cell_type": "code",
   "execution_count": 31,
   "metadata": {},
   "outputs": [
    {
     "data": {
      "image/png": "[encoded data removed]",
      "text/plain": [
       "<Figure size 640x480 with 1 Axes>"
      ]
     },
     "metadata": {},
     "output_type": "display_data"
    },
    {
     "data": {
      "image/png": "[encoded data removed]",
      "text/plain": [
       "<Figure size 640x480 with 1 Axes>"
      ]
     },
     "metadata": {},
     "output_type": "display_data"
    }
   ],
   "source": [
    "import matplotlib.pyplot as plt\n",
    "\n",
    "# Wizualizacja dokładności\n",
    "plt.plot(history.history['accuracy'])\n",
    "plt.plot(history.history['val_accuracy'])\n",
    "plt.title('Model accuracy')\n",
    "plt.ylabel('Accuracy')\n",
    "plt.xlabel('Epoch')\n",
    "plt.legend(['Train', 'Validation'], loc='upper left')\n",
    "plt.show()\n",
    "\n",
    "# Wizualizacja straty\n",
    "plt.plot(history.history['loss'])\n",
    "plt.plot(history.history['val_loss'])\n",
    "plt.title('Model loss')\n",
    "plt.ylabel('Loss')\n",
    "plt.xlabel('Epoch')\n",
    "plt.legend(['Train', 'Validation'], loc='upper left')\n",
    "plt.show()\n"
   ]
  },
  {
   "cell_type": "code",
   "execution_count": 32,
   "metadata": {},
   "outputs": [
    {
     "name": "stderr",
     "output_type": "stream",
     "text": [
      "WARNING:absl:You are saving your model as an HDF5 file via `model.save()` or `keras.saving.save_model(model)`. This file format is considered legacy. We recommend using instead the native Keras format, e.g. `model.save('my_model.keras')` or `keras.saving.save_model(model, 'my_model.keras')`. \n"
     ]
    }
   ],
   "source": [
    "model2.save('/Users/milenabiernacka/Desktop/praca-magisterska/Mushroom-classification/models/model_10epochs_MobileNetV2/model2.h5')  # Zapisuje model w folderze SavedModel"
   ]
  },
  {
   "cell_type": "code",
   "execution_count": 33,
   "metadata": {},
   "outputs": [
    {
     "name": "stdout",
     "output_type": "stream",
     "text": [
      "Epoch 1/20\n",
      "\u001b[1m155/155\u001b[0m \u001b[32m━━━━━━━━━━━━━━━━━━━━\u001b[0m\u001b[37m\u001b[0m \u001b[1m299s\u001b[0m 2s/step - accuracy: 0.8945 - loss: 0.0561 - val_accuracy: 0.2928 - val_loss: 0.7821\n",
      "Epoch 2/20\n",
      "\u001b[1m155/155\u001b[0m \u001b[32m━━━━━━━━━━━━━━━━━━━━\u001b[0m\u001b[37m\u001b[0m \u001b[1m0s\u001b[0m 575us/step - accuracy: 0.0000e+00 - loss: 0.0000e+00 - val_accuracy: 0.0000e+00 - val_loss: 0.0000e+00\n",
      "Epoch 3/20\n"
     ]
    },
    {
     "name": "stderr",
     "output_type": "stream",
     "text": [
      "2024-03-25 11:22:04.112843: W tensorflow/core/framework/local_rendezvous.cc:404] Local rendezvous is aborting with status: OUT_OF_RANGE: End of sequence\n",
      "\t [[{{node IteratorGetNext}}]]\n",
      "/Library/Frameworks/Python.framework/Versions/3.11/lib/python3.11/contextlib.py:155: UserWarning: Your input ran out of data; interrupting training. Make sure that your dataset or generator can generate at least `steps_per_epoch * epochs` batches. You may need to use the `.repeat()` function when building your dataset.\n",
      "  self.gen.throw(typ, value, traceback)\n",
      "2024-03-25 11:22:04.136795: W tensorflow/core/framework/local_rendezvous.cc:404] Local rendezvous is aborting with status: OUT_OF_RANGE: End of sequence\n",
      "\t [[{{node IteratorGetNext}}]]\n"
     ]
    },
    {
     "name": "stdout",
     "output_type": "stream",
     "text": [
      "\u001b[1m155/155\u001b[0m \u001b[32m━━━━━━━━━━━━━━━━━━━━\u001b[0m\u001b[37m\u001b[0m \u001b[1m320s\u001b[0m 2s/step - accuracy: 0.9178 - loss: 0.0431 - val_accuracy: 0.2989 - val_loss: 0.7841\n",
      "Epoch 4/20\n",
      "\u001b[1m155/155\u001b[0m \u001b[32m━━━━━━━━━━━━━━━━━━━━\u001b[0m\u001b[37m\u001b[0m \u001b[1m0s\u001b[0m 172us/step - accuracy: 0.0000e+00 - loss: 0.0000e+00 - val_accuracy: 0.0000e+00 - val_loss: 0.0000e+00\n",
      "Epoch 5/20\n"
     ]
    },
    {
     "name": "stderr",
     "output_type": "stream",
     "text": [
      "2024-03-25 11:27:23.752216: W tensorflow/core/framework/local_rendezvous.cc:404] Local rendezvous is aborting with status: OUT_OF_RANGE: End of sequence\n",
      "\t [[{{node IteratorGetNext}}]]\n",
      "2024-03-25 11:27:23.760486: W tensorflow/core/framework/local_rendezvous.cc:404] Local rendezvous is aborting with status: OUT_OF_RANGE: End of sequence\n",
      "\t [[{{node IteratorGetNext}}]]\n"
     ]
    },
    {
     "name": "stdout",
     "output_type": "stream",
     "text": [
      "\u001b[1m155/155\u001b[0m \u001b[32m━━━━━━━━━━━━━━━━━━━━\u001b[0m\u001b[37m\u001b[0m \u001b[1m336s\u001b[0m 2s/step - accuracy: 0.9363 - loss: 0.0318 - val_accuracy: 0.2783 - val_loss: 0.8372\n",
      "Epoch 6/20\n",
      "\u001b[1m155/155\u001b[0m \u001b[32m━━━━━━━━━━━━━━━━━━━━\u001b[0m\u001b[37m\u001b[0m \u001b[1m0s\u001b[0m 157us/step - accuracy: 0.0000e+00 - loss: 0.0000e+00 - val_accuracy: 0.0000e+00 - val_loss: 0.0000e+00\n",
      "Epoch 7/20\n"
     ]
    },
    {
     "name": "stderr",
     "output_type": "stream",
     "text": [
      "2024-03-25 11:33:00.021097: W tensorflow/core/framework/local_rendezvous.cc:404] Local rendezvous is aborting with status: OUT_OF_RANGE: End of sequence\n",
      "\t [[{{node IteratorGetNext}}]]\n",
      "2024-03-25 11:33:00.028762: W tensorflow/core/framework/local_rendezvous.cc:404] Local rendezvous is aborting with status: OUT_OF_RANGE: End of sequence\n",
      "\t [[{{node IteratorGetNext}}]]\n"
     ]
    },
    {
     "name": "stdout",
     "output_type": "stream",
     "text": [
      "\u001b[1m155/155\u001b[0m \u001b[32m━━━━━━━━━━━━━━━━━━━━\u001b[0m\u001b[37m\u001b[0m \u001b[1m350s\u001b[0m 2s/step - accuracy: 0.9341 - loss: 0.0327 - val_accuracy: 0.2934 - val_loss: 0.8673\n",
      "Epoch 8/20\n",
      "\u001b[1m155/155\u001b[0m \u001b[32m━━━━━━━━━━━━━━━━━━━━\u001b[0m\u001b[37m\u001b[0m \u001b[1m0s\u001b[0m 199us/step - accuracy: 0.0000e+00 - loss: 0.0000e+00 - val_accuracy: 0.0000e+00 - val_loss: 0.0000e+00\n",
      "Epoch 9/20\n"
     ]
    },
    {
     "name": "stderr",
     "output_type": "stream",
     "text": [
      "2024-03-25 11:38:49.981659: W tensorflow/core/framework/local_rendezvous.cc:404] Local rendezvous is aborting with status: OUT_OF_RANGE: End of sequence\n",
      "\t [[{{node IteratorGetNext}}]]\n",
      "2024-03-25 11:38:49.991078: W tensorflow/core/framework/local_rendezvous.cc:404] Local rendezvous is aborting with status: OUT_OF_RANGE: End of sequence\n",
      "\t [[{{node IteratorGetNext}}]]\n"
     ]
    },
    {
     "name": "stdout",
     "output_type": "stream",
     "text": [
      "\u001b[1m155/155\u001b[0m \u001b[32m━━━━━━━━━━━━━━━━━━━━\u001b[0m\u001b[37m\u001b[0m \u001b[1m403s\u001b[0m 3s/step - accuracy: 0.9345 - loss: 0.0274 - val_accuracy: 0.2904 - val_loss: 0.8637\n",
      "Epoch 10/20\n",
      "\u001b[1m155/155\u001b[0m \u001b[32m━━━━━━━━━━━━━━━━━━━━\u001b[0m\u001b[37m\u001b[0m \u001b[1m0s\u001b[0m 171us/step - accuracy: 0.0000e+00 - loss: 0.0000e+00 - val_accuracy: 0.0000e+00 - val_loss: 0.0000e+00\n",
      "Epoch 11/20\n"
     ]
    },
    {
     "name": "stderr",
     "output_type": "stream",
     "text": [
      "2024-03-25 11:45:32.755204: W tensorflow/core/framework/local_rendezvous.cc:404] Local rendezvous is aborting with status: OUT_OF_RANGE: End of sequence\n",
      "\t [[{{node IteratorGetNext}}]]\n",
      "2024-03-25 11:45:32.763359: W tensorflow/core/framework/local_rendezvous.cc:404] Local rendezvous is aborting with status: OUT_OF_RANGE: End of sequence\n",
      "\t [[{{node IteratorGetNext}}]]\n"
     ]
    },
    {
     "name": "stdout",
     "output_type": "stream",
     "text": [
      "\u001b[1m155/155\u001b[0m \u001b[32m━━━━━━━━━━━━━━━━━━━━\u001b[0m\u001b[37m\u001b[0m \u001b[1m421s\u001b[0m 3s/step - accuracy: 0.9337 - loss: 0.0309 - val_accuracy: 0.3116 - val_loss: 0.7993\n",
      "Epoch 12/20\n",
      "\u001b[1m155/155\u001b[0m \u001b[32m━━━━━━━━━━━━━━━━━━━━\u001b[0m\u001b[37m\u001b[0m \u001b[1m0s\u001b[0m 218us/step - accuracy: 0.0000e+00 - loss: 0.0000e+00 - val_accuracy: 0.0000e+00 - val_loss: 0.0000e+00\n",
      "Epoch 13/20\n"
     ]
    },
    {
     "name": "stderr",
     "output_type": "stream",
     "text": [
      "2024-03-25 11:52:34.125064: W tensorflow/core/framework/local_rendezvous.cc:404] Local rendezvous is aborting with status: OUT_OF_RANGE: End of sequence\n",
      "\t [[{{node IteratorGetNext}}]]\n",
      "2024-03-25 11:52:34.135642: W tensorflow/core/framework/local_rendezvous.cc:404] Local rendezvous is aborting with status: OUT_OF_RANGE: End of sequence\n",
      "\t [[{{node IteratorGetNext}}]]\n"
     ]
    },
    {
     "name": "stdout",
     "output_type": "stream",
     "text": [
      "\u001b[1m155/155\u001b[0m \u001b[32m━━━━━━━━━━━━━━━━━━━━\u001b[0m\u001b[37m\u001b[0m \u001b[1m432s\u001b[0m 3s/step - accuracy: 0.9543 - loss: 0.0240 - val_accuracy: 0.2940 - val_loss: 0.8571\n",
      "Epoch 14/20\n",
      "\u001b[1m155/155\u001b[0m \u001b[32m━━━━━━━━━━━━━━━━━━━━\u001b[0m\u001b[37m\u001b[0m \u001b[1m0s\u001b[0m 184us/step - accuracy: 0.0000e+00 - loss: 0.0000e+00 - val_accuracy: 0.0000e+00 - val_loss: 0.0000e+00\n",
      "Epoch 15/20\n"
     ]
    },
    {
     "name": "stderr",
     "output_type": "stream",
     "text": [
      "2024-03-25 11:59:46.176494: W tensorflow/core/framework/local_rendezvous.cc:404] Local rendezvous is aborting with status: OUT_OF_RANGE: End of sequence\n",
      "\t [[{{node IteratorGetNext}}]]\n",
      "2024-03-25 11:59:46.185490: W tensorflow/core/framework/local_rendezvous.cc:404] Local rendezvous is aborting with status: OUT_OF_RANGE: End of sequence\n",
      "\t [[{{node IteratorGetNext}}]]\n"
     ]
    },
    {
     "name": "stdout",
     "output_type": "stream",
     "text": [
      "\u001b[1m155/155\u001b[0m \u001b[32m━━━━━━━━━━━━━━━━━━━━\u001b[0m\u001b[37m\u001b[0m \u001b[1m428s\u001b[0m 3s/step - accuracy: 0.9429 - loss: 0.0245 - val_accuracy: 0.3079 - val_loss: 0.8460\n",
      "Epoch 16/20\n",
      "\u001b[1m155/155\u001b[0m \u001b[32m━━━━━━━━━━━━━━━━━━━━\u001b[0m\u001b[37m\u001b[0m \u001b[1m0s\u001b[0m 221us/step - accuracy: 0.0000e+00 - loss: 0.0000e+00 - val_accuracy: 0.0000e+00 - val_loss: 0.0000e+00\n",
      "Epoch 17/20\n"
     ]
    },
    {
     "name": "stderr",
     "output_type": "stream",
     "text": [
      "2024-03-25 12:06:53.961826: W tensorflow/core/framework/local_rendezvous.cc:404] Local rendezvous is aborting with status: OUT_OF_RANGE: End of sequence\n",
      "\t [[{{node IteratorGetNext}}]]\n",
      "2024-03-25 12:06:53.972327: W tensorflow/core/framework/local_rendezvous.cc:404] Local rendezvous is aborting with status: OUT_OF_RANGE: End of sequence\n",
      "\t [[{{node IteratorGetNext}}]]\n"
     ]
    },
    {
     "name": "stdout",
     "output_type": "stream",
     "text": [
      "\u001b[1m155/155\u001b[0m \u001b[32m━━━━━━━━━━━━━━━━━━━━\u001b[0m\u001b[37m\u001b[0m \u001b[1m416s\u001b[0m 3s/step - accuracy: 0.9442 - loss: 0.0236 - val_accuracy: 0.3182 - val_loss: 0.8155\n",
      "Epoch 18/20\n",
      "\u001b[1m155/155\u001b[0m \u001b[32m━━━━━━━━━━━━━━━━━━━━\u001b[0m\u001b[37m\u001b[0m \u001b[1m0s\u001b[0m 160us/step - accuracy: 0.0000e+00 - loss: 0.0000e+00 - val_accuracy: 0.0000e+00 - val_loss: 0.0000e+00\n",
      "Epoch 19/20\n"
     ]
    },
    {
     "name": "stderr",
     "output_type": "stream",
     "text": [
      "2024-03-25 12:13:49.788047: W tensorflow/core/framework/local_rendezvous.cc:404] Local rendezvous is aborting with status: OUT_OF_RANGE: End of sequence\n",
      "\t [[{{node IteratorGetNext}}]]\n",
      "2024-03-25 12:13:49.795805: W tensorflow/core/framework/local_rendezvous.cc:404] Local rendezvous is aborting with status: OUT_OF_RANGE: End of sequence\n",
      "\t [[{{node IteratorGetNext}}]]\n"
     ]
    },
    {
     "name": "stdout",
     "output_type": "stream",
     "text": [
      "\u001b[1m155/155\u001b[0m \u001b[32m━━━━━━━━━━━━━━━━━━━━\u001b[0m\u001b[37m\u001b[0m \u001b[1m426s\u001b[0m 3s/step - accuracy: 0.9480 - loss: 0.0236 - val_accuracy: 0.3291 - val_loss: 0.7852\n",
      "Epoch 20/20\n",
      "\u001b[1m155/155\u001b[0m \u001b[32m━━━━━━━━━━━━━━━━━━━━\u001b[0m\u001b[37m\u001b[0m \u001b[1m0s\u001b[0m 238us/step - accuracy: 0.0000e+00 - loss: 0.0000e+00 - val_accuracy: 0.0000e+00 - val_loss: 0.0000e+00\n"
     ]
    },
    {
     "name": "stderr",
     "output_type": "stream",
     "text": [
      "2024-03-25 12:20:55.778992: W tensorflow/core/framework/local_rendezvous.cc:404] Local rendezvous is aborting with status: OUT_OF_RANGE: End of sequence\n",
      "\t [[{{node IteratorGetNext}}]]\n",
      "2024-03-25 12:20:55.789571: W tensorflow/core/framework/local_rendezvous.cc:404] Local rendezvous is aborting with status: OUT_OF_RANGE: End of sequence\n",
      "\t [[{{node IteratorGetNext}}]]\n"
     ]
    }
   ],
   "source": [
    "from tensorflow.keras.losses import CategoricalFocalCrossentropy\n",
    "# Zbudowanie modelu\n",
    "model3 = Model(inputs=base_model.input, outputs=predictions)\n",
    "\n",
    "# Kompilacja modelu\n",
    "model3.compile(optimizer=Adam(learning_rate=0.0001), loss=CategoricalFocalCrossentropy(), metrics=['accuracy'])\n",
    "\n",
    "history3 = model3.fit(\n",
    "    train_generator,\n",
    "    steps_per_epoch=len(train_generator),\n",
    "    epochs=20,\n",
    "    validation_data=val_generator,\n",
    "    validation_steps=len(val_generator)\n",
    ")"
   ]
  },
  {
   "cell_type": "code",
   "execution_count": 34,
   "metadata": {},
   "outputs": [
    {
     "name": "stdout",
     "output_type": "stream",
     "text": [
      "\u001b[1m52/52\u001b[0m \u001b[32m━━━━━━━━━━━━━━━━━━━━\u001b[0m\u001b[37m\u001b[0m \u001b[1m39s\u001b[0m 747ms/step - accuracy: 0.3378 - loss: 0.7794\n",
      "Test Loss: 0.786473274230957\n",
      "Test Accuracy: 0.34119781851768494\n"
     ]
    }
   ],
   "source": [
    "# Ocena modelu na zbiorze testowym\n",
    "test_loss, test_accuracy = model3.evaluate(test_generator)\n",
    "\n",
    "print(f'Test Loss: {test_loss}')\n",
    "print(f'Test Accuracy: {test_accuracy}')"
   ]
  },
  {
   "cell_type": "code",
   "execution_count": 35,
   "metadata": {},
   "outputs": [
    {
     "name": "stderr",
     "output_type": "stream",
     "text": [
      "WARNING:absl:You are saving your model as an HDF5 file via `model.save()` or `keras.saving.save_model(model)`. This file format is considered legacy. We recommend using instead the native Keras format, e.g. `model.save('my_model.keras')` or `keras.saving.save_model(model, 'my_model.keras')`. \n"
     ]
    }
   ],
   "source": [
    "model3.save('/Users/milenabiernacka/Desktop/praca-magisterska/Mushroom-classification/models/model_10epochs_MobileNetV2/model3.h5')  # Zapisuje model w folderze SavedModel"
   ]
  },
  {
   "cell_type": "code",
   "execution_count": null,
   "metadata": {},
   "outputs": [],
   "source": [
    "history_x = model3.fit(\n",
    "    train_generator,\n",
    "    steps_per_epoch=train_generator.samples // train_generator.batch_size,\n",
    "    epochs=5,\n",
    "    validation_data=val_generator,\n",
    "    validation_steps=val_generator.samples // val_generator.batch_size\n",
    ")"
   ]
  }
 ],
 "metadata": {
  "kernelspec": {
   "display_name": "praca-magisterska-venv",
   "language": "python",
   "name": "praca-magisterska-venv"
  },
  "language_info": {
   "codemirror_mode": {
    "name": "ipython",
    "version": 3
   },
   "file_extension": ".py",
   "mimetype": "text/x-python",
   "name": "python",
   "nbconvert_exporter": "python",
   "pygments_lexer": "ipython3",
   "version": "3.11.6"
  }
 },
 "nbformat": 4,
 "nbformat_minor": 2
}
