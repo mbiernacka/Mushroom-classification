{
 "cells": [
  {
   "cell_type": "code",
   "execution_count": 6,
   "metadata": {},
   "outputs": [],
   "source": [
    "# !pip install focal-loss\n",
    "import numpy as np\n",
    "import os\n",
    "from tensorflow.keras.preprocessing.image import ImageDataGenerator\n",
    "from tensorflow.keras.models import Sequential\n",
    "from tensorflow.keras.layers import Conv2D, MaxPooling2D, Flatten, Dense, Dropout, Activation, Input\n",
    "from sklearn.model_selection import train_test_split\n",
    "import shutil\n",
    "from tensorflow.keras import backend as K\n",
    "from tensorflow.keras import layers, models, regularizers\n",
    "import tensorflow as tf\n",
    "import matplotlib.pyplot as plt\n",
    "from tensorflow.keras.preprocessing import image\n",
    "from tensorflow.keras.optimizers.legacy import Adam\n",
    "from focal_loss import BinaryFocalLoss"
   ]
  },
  {
   "cell_type": "code",
   "execution_count": 2,
   "metadata": {},
   "outputs": [
    {
     "name": "stdout",
     "output_type": "stream",
     "text": [
      "Found 1399 images belonging to 2 classes.\n",
      "Found 300 images belonging to 2 classes.\n",
      "Found 301 images belonging to 2 classes.\n"
     ]
    }
   ],
   "source": [
    "# glowny folder\n",
    "base_dir = '/Users/milenabiernacka/Desktop/studia/DS/semestr2/PD-magisterka/Mushroom_dataset/cnn/'\n",
    "# polaczenie glownego folderu i podfolderow z edible i poisonous\n",
    "\n",
    "edible_dir = os.path.join(base_dir, 'Edible')\n",
    "poisonous_dir = os.path.join(base_dir, 'Poisonous')\n",
    "\n",
    "\n",
    "train_datagen = ImageDataGenerator(\n",
    "    rescale=1. / 255,\n",
    "    shear_range=0.2,\n",
    "    zoom_range=0.2,\n",
    "    horizontal_flip=True\n",
    "    )\n",
    "\n",
    "validation_datagen = ImageDataGenerator(rescale=1./255)\n",
    "test_datagen = ImageDataGenerator(rescale=1./255)\n",
    "\n",
    "# Assuming base_dir is the path to the dataset directory\n",
    "train_dir = os.path.join(base_dir, 'train')\n",
    "validation_dir = os.path.join(base_dir, 'validation')\n",
    "test_dir = os.path.join(base_dir, 'test')\n",
    "\n",
    "train_generator = train_datagen.flow_from_directory(\n",
    "    train_dir,\n",
    "    target_size=(150, 150),\n",
    "    batch_size=16,\n",
    "    class_mode='binary'\n",
    ")\n",
    "\n",
    "validation_generator = validation_datagen.flow_from_directory(\n",
    "    validation_dir,\n",
    "    target_size=(150, 150),\n",
    "    batch_size=16,\n",
    "    class_mode='binary'\n",
    ")\n",
    "\n",
    "test_generator = test_datagen.flow_from_directory(\n",
    "    test_dir,\n",
    "    target_size=(150, 150),\n",
    "    batch_size=16,\n",
    "    class_mode='binary',\n",
    "    shuffle=False\n",
    ")"
   ]
  },
  {
   "cell_type": "code",
   "execution_count": 3,
   "metadata": {},
   "outputs": [],
   "source": [
    "model = Sequential([\n",
    "    Input(shape=(150, 150, 3)),\n",
    "    Conv2D(32, (3, 3), activation='relu'),\n",
    "    MaxPooling2D(2, 2),\n",
    "    Conv2D(64, (3, 3), activation='relu'),\n",
    "    MaxPooling2D(2, 2),\n",
    "    Conv2D(128, (3, 3), activation='relu'),\n",
    "    MaxPooling2D(2, 2),\n",
    "    Flatten(),\n",
    "    Dense(512, activation='relu'),\n",
    "    Dropout(0.5),\n",
    "    Dense(1, activation='sigmoid')  # Use linear activation for Hinge loss\n",
    "])\n"
   ]
  },
  {
   "cell_type": "code",
   "execution_count": 7,
   "metadata": {},
   "outputs": [],
   "source": [
    "model.compile(optimizer=Adam(learning_rate=1e-4), loss=BinaryFocalLoss(gamma=5), metrics=['accuracy'])"
   ]
  },
  {
   "cell_type": "code",
   "execution_count": 8,
   "metadata": {},
   "outputs": [
    {
     "name": "stdout",
     "output_type": "stream",
     "text": [
      "Epoch 1/20\n",
      "87/87 [==============================] - 15s 162ms/step - loss: 0.0191 - accuracy: 0.7296 - val_loss: 0.0157 - val_accuracy: 0.7778\n",
      "Epoch 2/20\n",
      "87/87 [==============================] - 14s 160ms/step - loss: 0.0150 - accuracy: 0.7773 - val_loss: 0.0124 - val_accuracy: 0.8438\n",
      "Epoch 3/20\n",
      "87/87 [==============================] - 15s 170ms/step - loss: 0.0126 - accuracy: 0.8084 - val_loss: 0.0102 - val_accuracy: 0.8715\n",
      "Epoch 4/20\n",
      "87/87 [==============================] - 15s 168ms/step - loss: 0.0110 - accuracy: 0.8612 - val_loss: 0.0108 - val_accuracy: 0.8854\n",
      "Epoch 5/20\n",
      "87/87 [==============================] - 15s 177ms/step - loss: 0.0094 - accuracy: 0.8821 - val_loss: 0.0073 - val_accuracy: 0.8854\n",
      "Epoch 6/20\n",
      "87/87 [==============================] - 16s 184ms/step - loss: 0.0090 - accuracy: 0.8807 - val_loss: 0.0072 - val_accuracy: 0.9236\n",
      "Epoch 7/20\n",
      "87/87 [==============================] - 16s 182ms/step - loss: 0.0075 - accuracy: 0.9017 - val_loss: 0.0099 - val_accuracy: 0.8750\n",
      "Epoch 8/20\n",
      "87/87 [==============================] - 16s 187ms/step - loss: 0.0065 - accuracy: 0.9089 - val_loss: 0.0060 - val_accuracy: 0.9271\n",
      "Epoch 9/20\n",
      "87/87 [==============================] - 16s 188ms/step - loss: 0.0061 - accuracy: 0.9234 - val_loss: 0.0048 - val_accuracy: 0.9340\n",
      "Epoch 10/20\n",
      "87/87 [==============================] - 17s 199ms/step - loss: 0.0055 - accuracy: 0.9320 - val_loss: 0.0041 - val_accuracy: 0.9514\n",
      "Epoch 11/20\n",
      "87/87 [==============================] - 24s 273ms/step - loss: 0.0055 - accuracy: 0.9342 - val_loss: 0.0038 - val_accuracy: 0.9583\n",
      "Epoch 12/20\n",
      "87/87 [==============================] - 31s 359ms/step - loss: 0.0047 - accuracy: 0.9530 - val_loss: 0.0038 - val_accuracy: 0.9583\n",
      "Epoch 13/20\n",
      "87/87 [==============================] - 28s 323ms/step - loss: 0.0048 - accuracy: 0.9443 - val_loss: 0.0035 - val_accuracy: 0.9549\n",
      "Epoch 14/20\n",
      "87/87 [==============================] - 31s 352ms/step - loss: 0.0038 - accuracy: 0.9588 - val_loss: 0.0034 - val_accuracy: 0.9514\n",
      "Epoch 15/20\n",
      "87/87 [==============================] - 29s 333ms/step - loss: 0.0037 - accuracy: 0.9523 - val_loss: 0.0030 - val_accuracy: 0.9618\n",
      "Epoch 16/20\n",
      "87/87 [==============================] - 29s 336ms/step - loss: 0.0032 - accuracy: 0.9653 - val_loss: 0.0027 - val_accuracy: 0.9722\n",
      "Epoch 17/20\n",
      "87/87 [==============================] - 29s 332ms/step - loss: 0.0032 - accuracy: 0.9617 - val_loss: 0.0057 - val_accuracy: 0.9201\n",
      "Epoch 18/20\n",
      "87/87 [==============================] - 31s 355ms/step - loss: 0.0035 - accuracy: 0.9559 - val_loss: 0.0022 - val_accuracy: 0.9757\n",
      "Epoch 19/20\n",
      "87/87 [==============================] - 33s 384ms/step - loss: 0.0029 - accuracy: 0.9718 - val_loss: 0.0031 - val_accuracy: 0.9722\n",
      "Epoch 20/20\n",
      "87/87 [==============================] - 29s 331ms/step - loss: 0.0030 - accuracy: 0.9646 - val_loss: 0.0030 - val_accuracy: 0.9688\n"
     ]
    }
   ],
   "source": [
    "history = model.fit(\n",
    "    train_generator,\n",
    "    steps_per_epoch=train_generator.samples // train_generator.batch_size,\n",
    "    epochs=20,\n",
    "    validation_data=validation_generator,\n",
    "    validation_steps=validation_generator.samples // validation_generator.batch_size\n",
    ")"
   ]
  },
  {
   "cell_type": "code",
   "execution_count": 9,
   "metadata": {},
   "outputs": [
    {
     "name": "stdout",
     "output_type": "stream",
     "text": [
      "18/18 [==============================] - 3s 150ms/step - loss: 0.0032 - accuracy: 0.9618\n",
      "Test Loss: 0.003221520222723484, Test Accuracy: 0.9618055820465088\n"
     ]
    }
   ],
   "source": [
    "test_loss, test_accuracy = model.evaluate(test_generator, steps=test_generator.samples // test_generator.batch_size)\n",
    "print(f\"Test Loss: {test_loss}, Test Accuracy: {test_accuracy}\")"
   ]
  },
  {
   "cell_type": "code",
   "execution_count": null,
   "metadata": {},
   "outputs": [],
   "source": []
  }
 ],
 "metadata": {
  "kernelspec": {
   "display_name": "magisterka",
   "language": "python",
   "name": "magisterka"
  },
  "language_info": {
   "codemirror_mode": {
    "name": "ipython",
    "version": 3
   },
   "file_extension": ".py",
   "mimetype": "text/x-python",
   "name": "python",
   "nbconvert_exporter": "python",
   "pygments_lexer": "ipython3",
   "version": "3.11.6"
  }
 },
 "nbformat": 4,
 "nbformat_minor": 2
}
