{
 "cells": [
  {
   "cell_type": "code",
   "execution_count": 1,
   "metadata": {},
   "outputs": [],
   "source": [
    "# !pip install focal-loss\n",
    "import numpy as np\n",
    "import os\n",
    "from tensorflow.keras.preprocessing.image import ImageDataGenerator\n",
    "from tensorflow.keras.models import Sequential\n",
    "from tensorflow.keras.layers import Conv2D, MaxPooling2D, Flatten, Dense, Dropout, Activation, Input\n",
    "from tensorflow.keras.optimizers.legacy import Adam\n",
    "from tensorflow.keras.losses import Hinge"
   ]
  },
  {
   "cell_type": "code",
   "execution_count": 2,
   "metadata": {},
   "outputs": [
    {
     "name": "stdout",
     "output_type": "stream",
     "text": [
      "Found 1399 images belonging to 2 classes.\n",
      "Found 300 images belonging to 2 classes.\n",
      "Found 301 images belonging to 2 classes.\n"
     ]
    }
   ],
   "source": [
    "# glowny folder\n",
    "base_dir = '/Users/milenabiernacka/Desktop/studia/DS/semestr2/PD-magisterka/Mushroom_dataset/cnn/'\n",
    "# polaczenie glownego folderu i podfolderow z edible i poisonous\n",
    "\n",
    "edible_dir = os.path.join(base_dir, 'Edible')\n",
    "poisonous_dir = os.path.join(base_dir, 'Poisonous')\n",
    "\n",
    "\n",
    "train_datagen = ImageDataGenerator(\n",
    "    rescale=1. / 255,\n",
    "    shear_range=0.2,\n",
    "    zoom_range=0.2,\n",
    "    horizontal_flip=True\n",
    "    )\n",
    "\n",
    "validation_datagen = ImageDataGenerator(rescale=1./255)\n",
    "test_datagen = ImageDataGenerator(rescale=1./255)\n",
    "\n",
    "# Assuming base_dir is the path to the dataset directory\n",
    "train_dir = os.path.join(base_dir, 'train')\n",
    "validation_dir = os.path.join(base_dir, 'validation')\n",
    "test_dir = os.path.join(base_dir, 'test')\n",
    "\n",
    "train_generator = train_datagen.flow_from_directory(\n",
    "    train_dir,\n",
    "    target_size=(150, 150),\n",
    "    batch_size=16,\n",
    "    class_mode='binary'\n",
    ")\n",
    "\n",
    "validation_generator = validation_datagen.flow_from_directory(\n",
    "    validation_dir,\n",
    "    target_size=(150, 150),\n",
    "    batch_size=16,\n",
    "    class_mode='binary'\n",
    ")\n",
    "\n",
    "test_generator = test_datagen.flow_from_directory(\n",
    "    test_dir,\n",
    "    target_size=(150, 150),\n",
    "    batch_size=16,\n",
    "    class_mode='binary',\n",
    "    shuffle=False\n",
    ")"
   ]
  },
  {
   "cell_type": "code",
   "execution_count": 6,
   "metadata": {},
   "outputs": [],
   "source": [
    "model = Sequential([\n",
    "    Input(shape=(150, 150, 3)),\n",
    "    Conv2D(32, (3, 3), activation='relu'),\n",
    "    MaxPooling2D(2, 2),\n",
    "    Conv2D(64, (3, 3), activation='relu'),\n",
    "    MaxPooling2D(2, 2),\n",
    "    Conv2D(128, (3, 3), activation='relu'),\n",
    "    MaxPooling2D(2, 2),\n",
    "    Flatten(),\n",
    "    Dense(512, activation='relu'),\n",
    "    Dropout(0.5),\n",
    "    Dense(1, activation='linear')  # Use linear activation for Hinge loss\n",
    "])\n"
   ]
  },
  {
   "cell_type": "code",
   "execution_count": 7,
   "metadata": {},
   "outputs": [],
   "source": [
    "model.compile(optimizer=Adam(learning_rate=1e-4), loss=Hinge(), metrics=['accuracy'])"
   ]
  },
  {
   "cell_type": "code",
   "execution_count": 8,
   "metadata": {},
   "outputs": [
    {
     "name": "stdout",
     "output_type": "stream",
     "text": [
      "Epoch 1/20\n",
      "87/87 [==============================] - 42s 473ms/step - loss: 0.6003 - accuracy: 0.7361 - val_loss: 0.5698 - val_accuracy: 0.7465\n",
      "Epoch 2/20\n",
      "87/87 [==============================] - 43s 491ms/step - loss: 0.5257 - accuracy: 0.7354 - val_loss: 0.5733 - val_accuracy: 0.7326\n",
      "Epoch 3/20\n",
      "87/87 [==============================] - 41s 473ms/step - loss: 0.4910 - accuracy: 0.7375 - val_loss: 0.4732 - val_accuracy: 0.7396\n",
      "Epoch 4/20\n",
      "87/87 [==============================] - 41s 468ms/step - loss: 0.4612 - accuracy: 0.7354 - val_loss: 0.4089 - val_accuracy: 0.7431\n",
      "Epoch 5/20\n",
      "87/87 [==============================] - 42s 482ms/step - loss: 0.4018 - accuracy: 0.7686 - val_loss: 0.3385 - val_accuracy: 0.8056\n",
      "Epoch 6/20\n",
      "87/87 [==============================] - 41s 474ms/step - loss: 0.3314 - accuracy: 0.8344 - val_loss: 0.2773 - val_accuracy: 0.8472\n",
      "Epoch 7/20\n",
      "87/87 [==============================] - 45s 519ms/step - loss: 0.2756 - accuracy: 0.8684 - val_loss: 0.2239 - val_accuracy: 0.8819\n",
      "Epoch 8/20\n",
      "87/87 [==============================] - 45s 516ms/step - loss: 0.2398 - accuracy: 0.8901 - val_loss: 0.2193 - val_accuracy: 0.8750\n",
      "Epoch 9/20\n",
      "87/87 [==============================] - 44s 508ms/step - loss: 0.2531 - accuracy: 0.8691 - val_loss: 0.1759 - val_accuracy: 0.9028\n",
      "Epoch 10/20\n",
      "87/87 [==============================] - 43s 493ms/step - loss: 0.2237 - accuracy: 0.8944 - val_loss: 0.1715 - val_accuracy: 0.9167\n",
      "Epoch 11/20\n",
      "87/87 [==============================] - 47s 537ms/step - loss: 0.1973 - accuracy: 0.9125 - val_loss: 0.2078 - val_accuracy: 0.8750\n",
      "Epoch 12/20\n",
      "87/87 [==============================] - 47s 543ms/step - loss: 0.1890 - accuracy: 0.9205 - val_loss: 0.1535 - val_accuracy: 0.9375\n",
      "Epoch 13/20\n",
      "87/87 [==============================] - 46s 525ms/step - loss: 0.1701 - accuracy: 0.9241 - val_loss: 0.1316 - val_accuracy: 0.9444\n",
      "Epoch 14/20\n",
      "87/87 [==============================] - 43s 496ms/step - loss: 0.1558 - accuracy: 0.9299 - val_loss: 0.1590 - val_accuracy: 0.9514\n",
      "Epoch 15/20\n",
      "87/87 [==============================] - 42s 485ms/step - loss: 0.1515 - accuracy: 0.9277 - val_loss: 0.1181 - val_accuracy: 0.9653\n",
      "Epoch 16/20\n",
      "87/87 [==============================] - 45s 515ms/step - loss: 0.1401 - accuracy: 0.9407 - val_loss: 0.1331 - val_accuracy: 0.9167\n",
      "Epoch 17/20\n",
      "87/87 [==============================] - 49s 558ms/step - loss: 0.1226 - accuracy: 0.9407 - val_loss: 0.0970 - val_accuracy: 0.9688\n",
      "Epoch 18/20\n",
      "87/87 [==============================] - 42s 481ms/step - loss: 0.1215 - accuracy: 0.9436 - val_loss: 0.0836 - val_accuracy: 0.9618\n",
      "Epoch 19/20\n",
      "87/87 [==============================] - 40s 453ms/step - loss: 0.0998 - accuracy: 0.9588 - val_loss: 0.0742 - val_accuracy: 0.9792\n",
      "Epoch 20/20\n",
      "87/87 [==============================] - 21s 245ms/step - loss: 0.1392 - accuracy: 0.9414 - val_loss: 0.0833 - val_accuracy: 0.9826\n"
     ]
    }
   ],
   "source": [
    "history = model.fit(\n",
    "    train_generator,\n",
    "    steps_per_epoch=train_generator.samples // train_generator.batch_size,\n",
    "    epochs=20,\n",
    "    validation_data=validation_generator,\n",
    "    validation_steps=validation_generator.samples // validation_generator.batch_size\n",
    ")"
   ]
  },
  {
   "cell_type": "code",
   "execution_count": 9,
   "metadata": {},
   "outputs": [
    {
     "name": "stdout",
     "output_type": "stream",
     "text": [
      "18/18 [==============================] - 1s 70ms/step - loss: 0.1048 - accuracy: 0.9583\n",
      "Test Loss: 0.10479641705751419, Test Accuracy: 0.9583333134651184\n"
     ]
    }
   ],
   "source": [
    "test_loss, test_accuracy = model.evaluate(test_generator, steps=test_generator.samples // test_generator.batch_size)\n",
    "print(f\"Test Loss: {test_loss}, Test Accuracy: {test_accuracy}\")"
   ]
  },
  {
   "cell_type": "code",
   "execution_count": null,
   "metadata": {},
   "outputs": [],
   "source": []
  }
 ],
 "metadata": {
  "kernelspec": {
   "display_name": "magisterka",
   "language": "python",
   "name": "magisterka"
  },
  "language_info": {
   "codemirror_mode": {
    "name": "ipython",
    "version": 3
   },
   "file_extension": ".py",
   "mimetype": "text/x-python",
   "name": "python",
   "nbconvert_exporter": "python",
   "pygments_lexer": "ipython3",
   "version": "3.11.6"
  }
 },
 "nbformat": 4,
 "nbformat_minor": 2
}
